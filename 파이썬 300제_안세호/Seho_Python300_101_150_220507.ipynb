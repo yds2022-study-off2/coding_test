{
  "nbformat": 4,
  "nbformat_minor": 0,
  "metadata": {
    "colab": {
      "name": "Seho_Python300_101-150_220507.ipynb",
      "provenance": [],
      "toc_visible": true
    },
    "kernelspec": {
      "name": "python3",
      "display_name": "Python 3"
    },
    "language_info": {
      "name": "python"
    }
  },
  "cells": [
    {
      "cell_type": "markdown",
      "source": [
        "##7_파이썬 분기문"
      ],
      "metadata": {
        "id": "iVTQwfJE8KZb"
      }
    },
    {
      "cell_type": "code",
      "execution_count": null,
      "metadata": {
        "colab": {
          "base_uri": "https://localhost:8080/"
        },
        "id": "F8SHxYTv7-wM",
        "outputId": "c58a6044-844c-4cf0-9491-3b3c763dc27e"
      },
      "outputs": [
        {
          "output_type": "stream",
          "name": "stdout",
          "text": [
            "bool\n"
          ]
        }
      ],
      "source": [
        "#101\n",
        "#파이썬에서 True 혹은 False를 갖는 데이터 타입은 무엇인가?\n",
        "\n",
        "print(\"bool\")"
      ]
    },
    {
      "cell_type": "code",
      "source": [
        "'''102\n",
        "아래 코드의 출력 결과를 예상하라\n",
        "'''\n",
        "print(3 == 5)"
      ],
      "metadata": {
        "colab": {
          "base_uri": "https://localhost:8080/"
        },
        "id": "NGrIilw58gRh",
        "outputId": "f26a7ccb-08a9-4364-aba4-9adaf0bb7088"
      },
      "execution_count": null,
      "outputs": [
        {
          "output_type": "stream",
          "name": "stdout",
          "text": [
            "False\n"
          ]
        }
      ]
    },
    {
      "cell_type": "code",
      "source": [
        "'''103\n",
        "아래 코드의 출력 결과를 예상하라\n",
        "'''\n",
        "print(3 < 5)"
      ],
      "metadata": {
        "colab": {
          "base_uri": "https://localhost:8080/"
        },
        "id": "K3XboJkh8oF6",
        "outputId": "005d9121-5d13-4ae0-880f-5f55a0e3587e"
      },
      "execution_count": null,
      "outputs": [
        {
          "output_type": "stream",
          "name": "stdout",
          "text": [
            "True\n"
          ]
        }
      ]
    },
    {
      "cell_type": "code",
      "source": [
        "'''105\n",
        "아래 코드의 결과를 예상하라.\n",
        "'''\n",
        "print ((3 == 3) and (4 != 3))"
      ],
      "metadata": {
        "colab": {
          "base_uri": "https://localhost:8080/"
        },
        "id": "zkRAxxef8pbC",
        "outputId": "82b35f2c-3e51-4c5d-bf45-e1284c57b9d1"
      },
      "execution_count": null,
      "outputs": [
        {
          "output_type": "stream",
          "name": "stdout",
          "text": [
            "True\n"
          ]
        }
      ]
    },
    {
      "cell_type": "markdown",
      "source": [
        "#### '>='가 옳은 표현, '=>'는 문법에 맞지 않음!"
      ],
      "metadata": {
        "id": "dU33NrO59pPf"
      }
    },
    {
      "cell_type": "code",
      "source": [
        "'''106\n",
        "아래 코드에서 에러가 발생하는 원인에 대해 설명하라.\n",
        "'''\n",
        "print(3 => 4)"
      ],
      "metadata": {
        "colab": {
          "base_uri": "https://localhost:8080/",
          "height": 137
        },
        "id": "6jUdsfOo8tMa",
        "outputId": "de75c98e-d05d-4648-dc11-c7c4b9f15409"
      },
      "execution_count": null,
      "outputs": [
        {
          "output_type": "error",
          "ename": "SyntaxError",
          "evalue": "ignored",
          "traceback": [
            "\u001b[0;36m  File \u001b[0;32m\"<ipython-input-5-4b3fff8934b1>\"\u001b[0;36m, line \u001b[0;32m4\u001b[0m\n\u001b[0;31m    print(3 => 4)\u001b[0m\n\u001b[0m             ^\u001b[0m\n\u001b[0;31mSyntaxError\u001b[0m\u001b[0;31m:\u001b[0m invalid syntax\n"
          ]
        }
      ]
    },
    {
      "cell_type": "code",
      "source": [
        "print(3 >= 4)"
      ],
      "metadata": {
        "colab": {
          "base_uri": "https://localhost:8080/"
        },
        "id": "G-m_cziO9hus",
        "outputId": "863b3240-2338-429e-bb3a-fc8ff2581acb"
      },
      "execution_count": null,
      "outputs": [
        {
          "output_type": "stream",
          "name": "stdout",
          "text": [
            "False\n"
          ]
        }
      ]
    },
    {
      "cell_type": "code",
      "source": [
        "#107\n",
        "#아래 코드의 출력 결과를 예상하라\n",
        "\n",
        "if 4 < 3:\n",
        "    print(\"Hello World\")"
      ],
      "metadata": {
        "id": "Qnxg6Oz29jQv"
      },
      "execution_count": null,
      "outputs": []
    },
    {
      "cell_type": "code",
      "source": [
        "#108\n",
        "#아래 코드의 출력 결과를 예상하라\n",
        "\n",
        "if 4 < 3:\n",
        "    print(\"Hello World.\")\n",
        "else:\n",
        "    print(\"Hi, there.\")"
      ],
      "metadata": {
        "colab": {
          "base_uri": "https://localhost:8080/"
        },
        "id": "V0pI3D-P964L",
        "outputId": "fbe11eca-e8bf-4458-e950-9334199f3954"
      },
      "execution_count": null,
      "outputs": [
        {
          "output_type": "stream",
          "name": "stdout",
          "text": [
            "Hi, there.\n"
          ]
        }
      ]
    },
    {
      "cell_type": "code",
      "source": [
        "#109\n",
        "#아래 코드의 출력 결과를 예상하라\n",
        "\n",
        "if True :\n",
        "    print (\"1\")\n",
        "    print (\"2\")\n",
        "else :\n",
        "    print(\"3\")\n",
        "print(\"4\")"
      ],
      "metadata": {
        "colab": {
          "base_uri": "https://localhost:8080/"
        },
        "id": "G90TDmKA-DUF",
        "outputId": "9065c68f-cac4-46cc-df0d-cda74cc0527c"
      },
      "execution_count": null,
      "outputs": [
        {
          "output_type": "stream",
          "name": "stdout",
          "text": [
            "1\n",
            "2\n",
            "4\n"
          ]
        }
      ]
    },
    {
      "cell_type": "code",
      "source": [
        "#110\n",
        "#아래 코드의 출력 결과를 예상하라\n",
        "\n",
        "if True :\n",
        "    if False:\n",
        "        print(\"1\")\n",
        "        print(\"2\")\n",
        "    else:\n",
        "        print(\"3\")\n",
        "else :\n",
        "    print(\"4\")\n",
        "print(\"5\")"
      ],
      "metadata": {
        "colab": {
          "base_uri": "https://localhost:8080/"
        },
        "id": "MysSUU9c-Ign",
        "outputId": "f7a8ee3f-7cff-4c32-ae11-872b11c4539d"
      },
      "execution_count": null,
      "outputs": [
        {
          "output_type": "stream",
          "name": "stdout",
          "text": [
            "3\n",
            "5\n"
          ]
        }
      ]
    },
    {
      "cell_type": "code",
      "source": [
        "#111\n",
        "#사용자로부터 입력받은 문자열을 두 번 출력하라. 아래는 사용자가 \"안녕하세요\"를 입력한 경우의 출력 결과이다.\n",
        "user = input()\n",
        "print(user * 2)"
      ],
      "metadata": {
        "colab": {
          "base_uri": "https://localhost:8080/"
        },
        "id": "znGdcNTP-TD0",
        "outputId": "6600f13f-d937-45dd-8ed8-e27e04004db6"
      },
      "execution_count": null,
      "outputs": [
        {
          "output_type": "stream",
          "name": "stdout",
          "text": [
            "사랑해용\n",
            "사랑해용사랑해용\n"
          ]
        }
      ]
    },
    {
      "cell_type": "code",
      "source": [
        "#112\n",
        "#사용자로부터 하나의 숫자를 입력받고, 입력 받은 숫자에 10을 더해 출력하라.\n",
        "\n",
        "num = input('숫자를 입력하세요: ')\n",
        "print(10+ int(num))"
      ],
      "metadata": {
        "colab": {
          "base_uri": "https://localhost:8080/"
        },
        "id": "VgYqOBM2-ZQb",
        "outputId": "2049d4bf-3ff3-4f26-e898-1dd98f293500"
      },
      "execution_count": null,
      "outputs": [
        {
          "output_type": "stream",
          "name": "stdout",
          "text": [
            "숫자를 입력하세요: 30\n",
            "40\n"
          ]
        }
      ]
    },
    {
      "cell_type": "code",
      "source": [
        "#113\n",
        "#사용자로부터 하나의 숫자를 입력 받고 짝수/홀수를 판별하라.\n",
        "\n",
        "num = input('자연수를 입력하세요: ')\n",
        "if int(num) % 2 == 0:\n",
        "    print(\"짝수\")\n",
        "else:\n",
        "    print(\"홀수\")"
      ],
      "metadata": {
        "colab": {
          "base_uri": "https://localhost:8080/"
        },
        "id": "O0TkvN3j_X_N",
        "outputId": "6d0bbf83-9d2f-4189-a727-4adfa62e4d59"
      },
      "execution_count": null,
      "outputs": [
        {
          "output_type": "stream",
          "name": "stdout",
          "text": [
            "자연수를 입력하세요: 38\n",
            "짝수\n"
          ]
        }
      ]
    },
    {
      "cell_type": "code",
      "source": [
        "#114\n",
        "#사용자로부터 값을 입력받은 후 해당 값에 20을 더한 값을 출력하라. 단 사용자가 입력한 값과 20을 더한 계산 값이 255를 초과하는 경우 255를 출력해야 한다.\n",
        "\n",
        "num = input('수를 입력하세요: ')\n",
        "if int(num) + 20 > 255:\n",
        "    print(255)\n",
        "else:\n",
        "    print(20 + int(num))\n"
      ],
      "metadata": {
        "colab": {
          "base_uri": "https://localhost:8080/"
        },
        "id": "Qz_WwHZ4_Tti",
        "outputId": "898db3e7-d2e4-4cd7-86ce-16678a89cfb0"
      },
      "execution_count": null,
      "outputs": [
        {
          "output_type": "stream",
          "name": "stdout",
          "text": [
            "수를 입력하세요: 234\n",
            "254\n"
          ]
        }
      ]
    },
    {
      "cell_type": "code",
      "source": [
        "#115\n",
        "#사용자로부터 하나의 값을 입력받은 후 해당 값에 20을 뺀 값을 출력하라. 단 출력 값의 범위는 0~255이다. 예를 들어 결괏값이 0보다 작은 값이되는 경우 0을 출력하고 255보다 큰 값이 되는 경우 255를 출력해야 한다.\n",
        "\n",
        "num = input('수를 입력하세요: ')\n",
        "cal = int(num) - 20\n",
        "if cal > 255:\n",
        "    print(255)\n",
        "elif cal < 0:\n",
        "        print(0)\n",
        "else:\n",
        "    print(cal)"
      ],
      "metadata": {
        "colab": {
          "base_uri": "https://localhost:8080/"
        },
        "id": "KcLY0okoAq4c",
        "outputId": "4bbd6b64-c181-4f24-d70c-949e3234b20f"
      },
      "execution_count": null,
      "outputs": [
        {
          "output_type": "stream",
          "name": "stdout",
          "text": [
            "수를 입력하세요: 75\n",
            "55\n"
          ]
        }
      ]
    },
    {
      "cell_type": "code",
      "source": [
        "#116\n",
        "#사용자로부터 입력 받은 시간이 정각인지 판별하라.\n",
        "\n",
        "time = input('시간을 입력하세요(hh:mm): ')\n",
        "if time[3:] == '00':\n",
        "    print(\"정각입니다.\")\n",
        "else:\n",
        "    print(\"정각이 아닙니다.\")"
      ],
      "metadata": {
        "colab": {
          "base_uri": "https://localhost:8080/"
        },
        "id": "qh7Wm6_PAoEz",
        "outputId": "cd561f63-d888-48f7-ab78-86fed6d88819"
      },
      "execution_count": null,
      "outputs": [
        {
          "output_type": "stream",
          "name": "stdout",
          "text": [
            "시간을 입력하세요(hh:mm): 22:00\n",
            "정각입니다.\n"
          ]
        }
      ]
    },
    {
      "cell_type": "code",
      "source": [
        "#117\n",
        "#사용자로 입력받은 단어가 아래 fruit 리스트에 포함되어 있는지를 확인하라. 포함되었다면 \"정답입니다\"를 아닐 경우 \"오답입니다\" 출력하라.\n",
        "\n",
        "f_fruit = [\"사과\", \"포도\", \"홍시\"]\n",
        "i_fruit = input('좋아하는 과일은? :')\n",
        "if i_fruit in f_fruit:\n",
        "    print(\"정답입니다.\")\n",
        "else:\n",
        "    print(\"다시 맞춰보세요.\")"
      ],
      "metadata": {
        "colab": {
          "base_uri": "https://localhost:8080/"
        },
        "id": "aIcHxo6dClS4",
        "outputId": "c02d5603-94d4-4db8-f65c-067c0f7b68c5"
      },
      "execution_count": null,
      "outputs": [
        {
          "output_type": "stream",
          "name": "stdout",
          "text": [
            "좋아하는 과일은? :홍시\n",
            "정답입니다.\n"
          ]
        }
      ]
    },
    {
      "cell_type": "code",
      "source": [
        "#118\n",
        "#투자 경고 종목 리스트가 있을 때 사용자로부터 종목명을 입력 받은 후 해당 종목이 투자 경고 종목이라면 '투자 경고 종목입니다'를 아니면 \"투자 경고 종목이 아닙니다.\"를 출력하는 프로그램을 작성하라.\n",
        "\n",
        "warn_investment_list = [\"Microsoft\", \"Google\", \"Naver\", \"Kakao\", \"SAMSUNG\", \"LG\"]\n",
        "i_comp = input('관심 종목을 입력하세요: ')\n",
        "if i_comp in warn_investment_list:\n",
        "    print(\"투자 경고 종목입니다.\")\n",
        "else:\n",
        "    print(\"투자 경고 종목이 아닙니다.\")"
      ],
      "metadata": {
        "colab": {
          "base_uri": "https://localhost:8080/"
        },
        "id": "ntjkdi_3D6wQ",
        "outputId": "ed5e7deb-5a34-467e-b601-cb05f89a88d1"
      },
      "execution_count": null,
      "outputs": [
        {
          "output_type": "stream",
          "name": "stdout",
          "text": [
            "관심 종목을 입력하세요: Google\n",
            "투자 경고 종목입니다.\n"
          ]
        }
      ]
    },
    {
      "cell_type": "code",
      "source": [
        "#119\n",
        "#아래와 같이 fruit 딕셔너리가 정의되어 있다. 사용자가 입력한 값이 딕셔너리 키 (key) 값에 포함되었다면 \"정답입니다\"를 아닐 경우 \"오답입니다\" 출력하라.\n",
        "\n",
        "fruit = {\"봄\" : \"딸기\", \"여름\" : \"토마토\", \"가을\" : \"사과\"}\n",
        "i_season = input(\"제가 좋아하는 계절은: \")\n",
        "if i_season in fruit.keys():\n",
        "    print(\"정답입니다.\")\n",
        "else:\n",
        "    print(\"다시 맞춰보세요.\")"
      ],
      "metadata": {
        "colab": {
          "base_uri": "https://localhost:8080/"
        },
        "id": "PAJFTGqRCkCP",
        "outputId": "23989975-c7c6-4d54-b5c4-b18ba96a815f"
      },
      "execution_count": null,
      "outputs": [
        {
          "output_type": "stream",
          "name": "stdout",
          "text": [
            "제가 좋아하는 계절은: 가을\n",
            "정답입니다.\n"
          ]
        }
      ]
    },
    {
      "cell_type": "code",
      "source": [
        "#120\n",
        "#아래와 같이 fruit 딕셔너리가 정의되어 있다. 사용자가 입력한 값이 딕셔너리 값 (value)에 포함되었다면 \"정답입니다\"를 아닐 경우 \"오답입니다\" 출력하라.\n",
        "\n",
        "fruit = {\"봄\" : \"딸기\", \"여름\" : \"토마토\", \"가을\" : \"사과\"}\n",
        "i_season = input(\"제가 좋아하는 제철 과일은: \")\n",
        "if i_season in fruit.values():\n",
        "    print(\"정답입니다.\")\n",
        "else:\n",
        "    print(\"다시 맞춰보세요.\")"
      ],
      "metadata": {
        "colab": {
          "base_uri": "https://localhost:8080/"
        },
        "id": "p2qDEAhsFMES",
        "outputId": "a61ae4ee-596a-461e-c8f6-7a11b609d529"
      },
      "execution_count": null,
      "outputs": [
        {
          "output_type": "stream",
          "name": "stdout",
          "text": [
            "제가 좋아하는 제철 과일은: 사과\n",
            "정답입니다.\n"
          ]
        }
      ]
    },
    {
      "cell_type": "markdown",
      "source": [
        "#### 문자열변수.islower(), 문자열변수.upper(), 문자열변수.lower()"
      ],
      "metadata": {
        "id": "tZHhyjaOGZ9L"
      }
    },
    {
      "cell_type": "code",
      "source": [
        "#121\n",
        "#사용자로부터 문자 한 개를 입력 받고, 소문자일 경우 대문자로, 대문자 일 경우, 소문자로 변경해서 출력하라.\n",
        "\n",
        "word = input(\"영문자 하나를 입력하세요: \")\n",
        "if word.islower():\n",
        "    print(word.upper())\n",
        "else:\n",
        "    print(word.lower())"
      ],
      "metadata": {
        "colab": {
          "base_uri": "https://localhost:8080/"
        },
        "id": "Yzs09a-sFVgQ",
        "outputId": "c1723ef8-7818-4e70-e104-6065fa5376f2"
      },
      "execution_count": null,
      "outputs": [
        {
          "output_type": "stream",
          "name": "stdout",
          "text": [
            "영문자 하나를 입력하세요: B\n",
            "b\n"
          ]
        }
      ]
    },
    {
      "cell_type": "code",
      "source": [
        "'''\n",
        "122\n",
        "점수 구간에 해당하는 학점이 아래와 같이 정의되어 있다. 사용자로부터 score를 입력받아 학점을 출력하라.\n",
        "\n",
        "점수\t학점\n",
        "81~100\tA\n",
        "61~80\tB\n",
        "41~60\tC\n",
        "21~40\tD\n",
        "0~20\tE\n",
        "'''\n",
        "i_score = int(input(\"점수를 입력하세요: \"))\n",
        "if i_score > 80:\n",
        "    print(\"학점: A\")\n",
        "elif i_score > 60:\n",
        "    print(\"학점: B\")\n",
        "elif i_score > 40:\n",
        "    print(\"학점: C\")\n",
        "elif i_score > 20:\n",
        "    print(\"학점: D\")\n",
        "else:\n",
        "    print(\"학점: E\")"
      ],
      "metadata": {
        "colab": {
          "base_uri": "https://localhost:8080/"
        },
        "id": "TJv2qFYUGSJC",
        "outputId": "78957e33-b36f-40ac-e6a0-5e33adee5019"
      },
      "execution_count": null,
      "outputs": [
        {
          "output_type": "stream",
          "name": "stdout",
          "text": [
            "점수를 입력하세요: 91\n",
            "학점: A\n"
          ]
        }
      ]
    },
    {
      "cell_type": "markdown",
      "source": [
        "#### 딕셔너리를 이용한 환율 계산 (feat. split())"
      ],
      "metadata": {
        "id": "EQWlz9K8IQtm"
      }
    },
    {
      "cell_type": "code",
      "source": [
        "#123\n",
        "#사용자로부터 달러, 엔, 유로, 또는 위안 금액을 입력받은 후 이를 원으로 변환하는 프로그램을 작성하라. 각 통화별 환율은 다음과 같다. 사용자는 100 달러, 1000 엔, 13 유로, 100 위안과 같이 금액과 통화명 사이에 공백을 넣어 입력한다고 가정한다.\n",
        "\n",
        "환율 = {\"달러\": 1167, \n",
        "        \"엔\": 1.096, \n",
        "        \"유로\": 1268, \n",
        "        \"위안\": 171}\n",
        "user = input(\"금액과 환종을 공백을 두고 입력하세요: \")\n",
        "num, currency = user.split()\n",
        "print('{:,}'.format(int(num) * 환율[currency]), \"원\")"
      ],
      "metadata": {
        "colab": {
          "base_uri": "https://localhost:8080/"
        },
        "id": "_2Ujc3SEGMLA",
        "outputId": "f8b6305c-4cfc-4010-f4d9-73fa642c4cd3"
      },
      "execution_count": null,
      "outputs": [
        {
          "output_type": "stream",
          "name": "stdout",
          "text": [
            "금액과 환종을 공백을 두고 입력하세요: 1000000 유로\n",
            "1,268,000,000 원\n"
          ]
        }
      ]
    },
    {
      "cell_type": "markdown",
      "source": [
        "#### [끌젬] 3개 입력숫자 역순 정렬 & 최대값 출력"
      ],
      "metadata": {
        "id": "egd8l0zCLunC"
      }
    },
    {
      "cell_type": "code",
      "source": [
        "#124\n",
        "#사용자로부터 세 개의 숫자를 입력 받은 후 가장 큰 숫자를 출력하라.\n",
        "\n",
        "n = 3\n",
        "n_list = []\n",
        "\n",
        "for i in range(n):\n",
        "    n_list.append(int(input(\"숫자 3개를 입력하세요: \")))\n",
        "\n",
        "s_list = sorted(n_list, reverse = True)\n",
        "print(n_list)\n",
        "print(s_list)\n",
        "print(s_list[0])\n",
        "\n",
        "#https://art-coding3.tistory.com/6"
      ],
      "metadata": {
        "colab": {
          "base_uri": "https://localhost:8080/"
        },
        "id": "tAZbN258F9VB",
        "outputId": "b5a713ac-61d2-401e-f6e9-3f945e9f5946"
      },
      "execution_count": null,
      "outputs": [
        {
          "output_type": "stream",
          "name": "stdout",
          "text": [
            "숫자 3개를 입력하세요: 5\n",
            "숫자 3개를 입력하세요: 7\n",
            "숫자 3개를 입력하세요: 1\n",
            "[5, 7, 1]\n",
            "[7, 5, 1]\n",
            "7\n"
          ]
        }
      ]
    },
    {
      "cell_type": "markdown",
      "source": [
        "#### [굳이] 딕셔너리 사용해서 풀기"
      ],
      "metadata": {
        "id": "XW8cowGwQuU9"
      }
    },
    {
      "cell_type": "code",
      "source": [
        "'''\n",
        "125\n",
        "휴대폰 번호 앞자리에 따라 통신사는 아래와 같이 구분된다. 사용자로부터 휴대전화 번호를 입력 받고, 통신사를 출력하는 프로그램을 작성하라.\n",
        "\n",
        "번호\t통신사\n",
        "011\tSKT\n",
        "016\tKT\n",
        "019\tLGU\n",
        "010\t알수없음\n",
        "'''\n",
        "Num_Sp = {\"011\": \"SKT\", \n",
        "        \"016\": \"KT\", \n",
        "        \"019\": \"LGU\", \n",
        "        \"010\": \"알수없음\"}\n",
        "mn = input(\"휴대전화 번호 입력(000-0000-0000 형식): \")\n",
        "head_n = mn.split(\"-\")[0]\n",
        "print(f'당신은 {Num_Sp[head_n]} 사용자 입니다.')"
      ],
      "metadata": {
        "colab": {
          "base_uri": "https://localhost:8080/"
        },
        "id": "zqJ9rBK5KrkQ",
        "outputId": "b6f1f4e4-8974-4b2e-d0ad-b5693e7298f3"
      },
      "execution_count": null,
      "outputs": [
        {
          "output_type": "stream",
          "name": "stdout",
          "text": [
            "휴대전화 번호 입력(000-0000-0000 형식): 010-9394-5123\n",
            "당신은 알수없음 사용자입니다.\n"
          ]
        }
      ]
    },
    {
      "cell_type": "code",
      "source": [
        "#126\n",
        "#우편번호는 5자리로 구성되는데, 앞의 세자리는 구를 나타낸다. 예를들어, 강북구의 경우 010, 011, 012 세 자리로 시작한다.\n",
        "\n",
        "Num_post = input('우편번호(5자리)를 입력하세요: ')\n",
        "d_num = int(Num_post[:3])\n",
        "if d_num < 3:\n",
        "    print(\"강북구\")\n",
        "elif d_num < 6:\n",
        "    print(\"도봉구\")\n",
        "else:\n",
        "    print(\"노원구\")"
      ],
      "metadata": {
        "colab": {
          "base_uri": "https://localhost:8080/"
        },
        "id": "t2e6O4m3yXwS",
        "outputId": "eea30590-430e-4bdc-d753-acd66a2b31be"
      },
      "execution_count": null,
      "outputs": [
        {
          "output_type": "stream",
          "name": "stdout",
          "text": [
            "우편번호(5자리)를 입력하세요: 01600\n",
            "노원구\n"
          ]
        }
      ]
    },
    {
      "cell_type": "markdown",
      "source": [
        "#### 인덱싱!"
      ],
      "metadata": {
        "id": "_qNIffj5IeeD"
      }
    },
    {
      "cell_type": "code",
      "source": [
        "#127\n",
        "#주민등록번호 뒷 자리 7자리 중 첫째 자리는 성별을 나타내는데, 1, 3은 남자 2, 4는 여자를 의미한다. 사용자로부터 13자리의 주민등록번호를 입력 받은 후 성별 (남자, 여자)를 출력하는 프로그램을 작성하라.\n",
        "\n",
        "id = input(\"주민번호를 입력하세요(6자리-7자리: \")\n",
        "r_id = id.split(\"-\")[1][0]\n",
        "if r_id == \"1\" or r_id == \"3\":\n",
        "    print(\"남자\")\n",
        "else:\n",
        "    print(\"여자\")"
      ],
      "metadata": {
        "colab": {
          "base_uri": "https://localhost:8080/"
        },
        "id": "b5g9VWO4zLja",
        "outputId": "27d2e06d-aae2-4d7a-88c0-a06f5dae21b2"
      },
      "execution_count": 10,
      "outputs": [
        {
          "output_type": "stream",
          "name": "stdout",
          "text": [
            "주민번호를 입력하세요(6자리-7자리: 454545-2323451\n",
            "여자\n"
          ]
        }
      ]
    },
    {
      "cell_type": "code",
      "source": [
        "#128\n",
        "#주민등록번호의 뒷 자리 7자리 중 두번째와 세번째는 지역코드를 의미한다. 주민 등록 번호를 입력 받은 후 출생지가 서울인지 아닌지 판단하는 코드를 작성하라\n",
        "id = input(\"주민번호를 입력하세요(6자리-7자리: \")\n",
        "r_id = int(id.split(\"-\")[1][1:3])\n",
        "if r_id < 9:\n",
        "    print(\"출생지가 서울입니다.\")\n",
        "else:\n",
        "    print(\"지방분이시네예?\")"
      ],
      "metadata": {
        "colab": {
          "base_uri": "https://localhost:8080/"
        },
        "id": "Duw4wrrPHv3_",
        "outputId": "512bfa46-458a-41ab-efd3-1e81b2c8fe24"
      },
      "execution_count": 14,
      "outputs": [
        {
          "output_type": "stream",
          "name": "stdout",
          "text": [
            "주민번호를 입력하세요(6자리-7자리: 841022-1894515\n",
            "지방분이시네예?\n"
          ]
        }
      ]
    },
    {
      "cell_type": "code",
      "source": [
        "id = input(\"주민번호를 입력하세요(6자리-7자리: \")\n",
        "r_id = int(id.split(\"-\")[1][1:3])\n",
        "print(r_id)"
      ],
      "metadata": {
        "colab": {
          "base_uri": "https://localhost:8080/"
        },
        "id": "U49FBSbUH4GT",
        "outputId": "2f8762ca-fa2e-44c6-9652-5e415e299dc4"
      },
      "execution_count": 13,
      "outputs": [
        {
          "output_type": "stream",
          "name": "stdout",
          "text": [
            "주민번호를 입력하세요(6자리-7자리: 841202-18194515\n",
            "81\n"
          ]
        }
      ]
    },
    {
      "cell_type": "markdown",
      "source": [
        "#### replace 쓰는 거 ok! strip은 왜 안되지?"
      ],
      "metadata": {
        "id": "beJ5o1EO16EP"
      }
    },
    {
      "cell_type": "code",
      "source": [
        "#129\n",
        "#주민등록번호는 13자리로 구성되는데 마지막 자리수는 주민등록번호의 유효성을 체크하는데 사용된다. 먼저 앞에서부터 12자리의 숫자에 2, 3, 4, 5, 6, 7, 8, 9, 2, 3, 4, 5를 차례로 곱한 뒤 그 값을 전부 더한다. 연산 결과 값을 11로 나누면 나머지가 나오는데 11에서 나머지를 뺀 값이 주민등록번호의 마지막 번호가 된다.\n",
        "id_num = input(\"주민번호(6자리-7자리)를 입력하세요: \")\n",
        "id_num = id_num.replace(\"-\",\"\")\n",
        "\n",
        "cal1 = (int(id_num[0])*2 + int(id_num[1])*3 + int(id_num[2])*4 + int(id_num[3])*5 + int(id_num[4])*6 + int(id_num[5])*7 + int(id_num[6])*8 + int(id_num[7])*9 + int(id_num[8])*2 + int(id_num[9])*3 + int(id_num[10])*4 + int(id_num[11])*5) % 11\n",
        "cal2 = 11 - cal1\n",
        "\n",
        "if cal2 == int(id_num[-1]):\n",
        "    print(f'유효한 주민등록 번호 입니다.')\n",
        "else:\n",
        "    print(f'유효하지 않은 주민등록번호 입니다.')\n"
      ],
      "metadata": {
        "colab": {
          "base_uri": "https://localhost:8080/"
        },
        "id": "h7TfgqipJECq",
        "outputId": "db6efeca-4ad3-4805-d379-02d329f5bb5f"
      },
      "execution_count": 19,
      "outputs": [
        {
          "output_type": "stream",
          "name": "stdout",
          "text": [
            "주민번호(6자리-7자리)를 입력하세요: 841022-1894515\n",
            "유효한 주민등록 번호 입니다.\n"
          ]
        }
      ]
    },
    {
      "cell_type": "code",
      "source": [
        "id_num = input(\"주민번호(6자리-7자리)를 입력하세요: \")\n",
        "id_num1 = id_num.strip(\"-\")"
      ],
      "metadata": {
        "id": "XeR2rS_ZHX73"
      },
      "execution_count": null,
      "outputs": []
    },
    {
      "cell_type": "code",
      "source": [
        "import string\n",
        "id_num = input(\"주민번호(6자리-7자리)를 입력하세요: \")\n",
        "id_num1 = id_num.strip(string.punctuation)\n",
        "#https://dojang.io/mod/page/view.php?id=2299"
      ],
      "metadata": {
        "id": "Ywj8vET601GB"
      },
      "execution_count": null,
      "outputs": []
    },
    {
      "cell_type": "code",
      "source": [
        "print(id_num1, type(id_num1))"
      ],
      "metadata": {
        "id": "wYc6vt-bzROm"
      },
      "execution_count": null,
      "outputs": []
    },
    {
      "cell_type": "code",
      "source": [
        "#130\n",
        "#아래 코드는 비트코인의 가격 정보를 딕셔너리로 가져오는 코드이다.\n",
        "\n",
        "import requests\n",
        "btc = requests.get(\"https://api.bithumb.com/public/ticker/\").json()['data']\n",
        "#btc 딕셔너리 안에는 시가, 종가, 최고가, 최저가 등이 저장되어 있다. 최고가와 최저가의 차이를 변동폭으로 정의할 때 (시가 + 변동폭)이 최고가 보다 높을 경우 \"상승장\", 그렇지 않은 경우 \"하락장\" 문자열을 출력하라.\n",
        "\n",
        "변동폭 = float(btc['max_price']) - float(btc['min_price'])\n",
        "시가 = float(btc['opening_price'])\n",
        "최고가 = float(btc['max_price'])\n",
        "\n",
        "if (시가 + 변동폭) > 최고가:\n",
        "    print(\"상승장!\")\n",
        "else:\n",
        "    print(\"하락장ㅠㅠ\")"
      ],
      "metadata": {
        "colab": {
          "base_uri": "https://localhost:8080/"
        },
        "id": "hwKbh3Rd2CeR",
        "outputId": "3093c852-ebfd-4bf9-c83d-c18c38257076"
      },
      "execution_count": 32,
      "outputs": [
        {
          "output_type": "stream",
          "name": "stdout",
          "text": [
            "상승장!\n"
          ]
        }
      ]
    },
    {
      "cell_type": "markdown",
      "source": [
        "##8_파이썬 반복문"
      ],
      "metadata": {
        "id": "g0wHTSbP2shn"
      }
    },
    {
      "cell_type": "code",
      "source": [
        "#131\n",
        "#for문의 실행결과를 예측하라.\n",
        "\n",
        "과일 = [\"사과\", \"귤\", \"수박\"]\n",
        "for 변수 in 과일:\n",
        "    print(변수)"
      ],
      "metadata": {
        "colab": {
          "base_uri": "https://localhost:8080/"
        },
        "id": "v72-KM3H2qhd",
        "outputId": "8edf3678-d65b-4eee-96eb-a1c70312e1ee"
      },
      "execution_count": 33,
      "outputs": [
        {
          "output_type": "stream",
          "name": "stdout",
          "text": [
            "사과\n",
            "귤\n",
            "수박\n"
          ]
        }
      ]
    },
    {
      "cell_type": "code",
      "source": [
        "#132\n",
        "#for문의 실행결과를 예측하라.\n",
        "\n",
        "과일 = [\"사과\", \"귤\", \"수박\"]\n",
        "for 변수 in 과일:\n",
        "  print(\"#####\")"
      ],
      "metadata": {
        "colab": {
          "base_uri": "https://localhost:8080/"
        },
        "id": "namJpSM526uv",
        "outputId": "c8a47da0-6159-4268-f1a6-8a0af77da0f8"
      },
      "execution_count": 34,
      "outputs": [
        {
          "output_type": "stream",
          "name": "stdout",
          "text": [
            "#####\n",
            "#####\n",
            "#####\n"
          ]
        }
      ]
    },
    {
      "cell_type": "code",
      "source": [
        "#133\n",
        "#다음 for 문과 동일한 기능을 수행하는 코드를 작성하세요.\n",
        "\n",
        "for 변수 in [\"A\", \"B\", \"C\"]:\n",
        "  print(변수)"
      ],
      "metadata": {
        "colab": {
          "base_uri": "https://localhost:8080/"
        },
        "id": "AEisg9cx3AoH",
        "outputId": "8bc4b852-fd08-4e36-9407-e3f872def6ad"
      },
      "execution_count": 36,
      "outputs": [
        {
          "output_type": "stream",
          "name": "stdout",
          "text": [
            "A\n",
            "B\n",
            "C\n"
          ]
        }
      ]
    },
    {
      "cell_type": "code",
      "source": [
        "va = \"A\"\n",
        "print(va)\n",
        "va = \"B\"\n",
        "print(va)\n",
        "va = \"C\"\n",
        "print(va)"
      ],
      "metadata": {
        "colab": {
          "base_uri": "https://localhost:8080/"
        },
        "id": "FUi742C93Txs",
        "outputId": "eca49212-8e7d-458a-e020-6c1b632d7a1d"
      },
      "execution_count": 35,
      "outputs": [
        {
          "output_type": "stream",
          "name": "stdout",
          "text": [
            "A\n",
            "B\n",
            "C\n"
          ]
        }
      ]
    },
    {
      "cell_type": "code",
      "source": [
        "#134\n",
        "#for문을 풀어서 동일한 동작을하는 코드를 작성하라.\n",
        "\n",
        "for 변수 in [\"A\", \"B\", \"C\"]:\n",
        "  print(\"출력:\", 변수)"
      ],
      "metadata": {
        "id": "P26yFbUx3Rb1"
      },
      "execution_count": null,
      "outputs": []
    },
    {
      "cell_type": "code",
      "source": [
        "#135\n",
        "#for문을 풀어서 동일한 동작을 하는 코드를 작성하라.\n",
        "\n",
        "for 변수 in [\"A\", \"B\", \"C\"]:\n",
        "  b = 변수.lower()\n",
        "  print(\"변환:\", b)"
      ],
      "metadata": {
        "colab": {
          "base_uri": "https://localhost:8080/"
        },
        "id": "EEAAI6Om3RWz",
        "outputId": "c595ff20-9b91-4e97-f8ce-90dc81072ea5"
      },
      "execution_count": 37,
      "outputs": [
        {
          "output_type": "stream",
          "name": "stdout",
          "text": [
            "변환: a\n",
            "변환: b\n",
            "변환: c\n"
          ]
        }
      ]
    },
    {
      "cell_type": "code",
      "source": [
        "'''\n",
        "136\n",
        "다음 코드를 for문으로 작성하라.\n",
        "\n",
        "변수 = 10\n",
        "print(변수)\n",
        "변수 = 20\n",
        "print(변수)\n",
        "변수 = 30\n",
        "print(변수)\n",
        "'''\n",
        "#for 변수 in (10, 20, 30):\n",
        "v_list = [10, 20, 30]\n",
        "for 변수 in v_list:\n",
        "    print(변수)"
      ],
      "metadata": {
        "colab": {
          "base_uri": "https://localhost:8080/"
        },
        "id": "Nj6APdFz30UG",
        "outputId": "6e4664be-0cd1-48a9-c6c2-5fd1c8a66b70"
      },
      "execution_count": 39,
      "outputs": [
        {
          "output_type": "stream",
          "name": "stdout",
          "text": [
            "10\n",
            "20\n",
            "30\n"
          ]
        }
      ]
    },
    {
      "cell_type": "code",
      "source": [
        "#137\n",
        "#다음 코드를 for문으로 작성하라.\n",
        "\n",
        "#print(10)\n",
        "#print(20)\n",
        "#print(30)\n",
        "\n",
        "for 변수 in (10, 20, 30):\n",
        "    print(변수)"
      ],
      "metadata": {
        "colab": {
          "base_uri": "https://localhost:8080/"
        },
        "id": "v-UUE91u4QGN",
        "outputId": "b9c8cc5d-9105-4308-ebab-4e8bd3643abf"
      },
      "execution_count": 40,
      "outputs": [
        {
          "output_type": "stream",
          "name": "stdout",
          "text": [
            "10\n",
            "20\n",
            "30\n"
          ]
        }
      ]
    },
    {
      "cell_type": "code",
      "source": [
        "'''\n",
        "138\n",
        "다음 코드를 for문으로 작성하라.\n",
        "\n",
        "print(10)\n",
        "print(\"-------\")\n",
        "print(20)\n",
        "print(\"-------\")\n",
        "print(30)\n",
        "print(\"-------\")\n",
        "'''\n",
        "for 변수 in (10, 20, 30):\n",
        "    print(변수)\n",
        "    print('------')"
      ],
      "metadata": {
        "colab": {
          "base_uri": "https://localhost:8080/"
        },
        "id": "3Oxd1Vbm4pSa",
        "outputId": "a9864238-feb8-44a4-a61b-ed8b2688c0aa"
      },
      "execution_count": 42,
      "outputs": [
        {
          "output_type": "stream",
          "name": "stdout",
          "text": [
            "10\n",
            "------\n",
            "20\n",
            "------\n",
            "30\n",
            "------\n"
          ]
        }
      ]
    },
    {
      "cell_type": "code",
      "source": [
        "'''\n",
        "139\n",
        "다음 코드를 for문으로 작성하라.\n",
        "\n",
        "print(\"++++\")\n",
        "print(10)\n",
        "print(20)\n",
        "print(30)\n",
        "'''\n",
        "print(\"++++\")\n",
        "for var in (10, 20, 30):\n",
        "    print(var)"
      ],
      "metadata": {
        "colab": {
          "base_uri": "https://localhost:8080/"
        },
        "id": "qJRfx8V846ek",
        "outputId": "d072c97d-b987-4eae-9322-36ded7dfcd85"
      },
      "execution_count": 43,
      "outputs": [
        {
          "output_type": "stream",
          "name": "stdout",
          "text": [
            "++++\n",
            "10\n",
            "20\n",
            "30\n"
          ]
        }
      ]
    },
    {
      "cell_type": "code",
      "source": [
        "for va in list(range(4)):\n",
        "    print(\"-------\")"
      ],
      "metadata": {
        "colab": {
          "base_uri": "https://localhost:8080/"
        },
        "id": "v_ryCMYa5Ea9",
        "outputId": "c6f6aba0-741e-46bb-97c1-b2d682c96f3e"
      },
      "execution_count": 51,
      "outputs": [
        {
          "output_type": "stream",
          "name": "stdout",
          "text": [
            "-------\n",
            "-------\n",
            "-------\n",
            "-------\n"
          ]
        }
      ]
    },
    {
      "cell_type": "code",
      "source": [
        "#141\n",
        "#다음과 같이 판매가가 저장된 리스트가 있을 때 부가세가 포함된 가격을 for 문을 사용해서 화면에 출력하라. 단 부가세는 10원으로 가정한다.\n",
        "\n",
        "리스트 = [100, 200, 300]\n",
        "for price in 리스트:\n",
        "    print(int(price) + 10)"
      ],
      "metadata": {
        "colab": {
          "base_uri": "https://localhost:8080/"
        },
        "id": "_5vh7mAI50vO",
        "outputId": "5e064418-1174-4146-a0cf-d6f52c3b21a0"
      },
      "execution_count": 52,
      "outputs": [
        {
          "output_type": "stream",
          "name": "stdout",
          "text": [
            "110\n",
            "210\n",
            "310\n"
          ]
        }
      ]
    },
    {
      "cell_type": "code",
      "source": [
        "#142\n",
        "#for 문을 사용해서 리스트에 저장된 값을 다음과 같이 출력하라.\n",
        "\n",
        "리스트 = [\"김밥\", \"라면\", \"튀김\"]\n",
        "for menu in 리스트:\n",
        "    print(f'오늘의 메뉴: {menu}')"
      ],
      "metadata": {
        "colab": {
          "base_uri": "https://localhost:8080/"
        },
        "id": "yEY7tOHd6Gq7",
        "outputId": "710fd9de-143a-4d77-aa01-eda9aaef0e05"
      },
      "execution_count": 53,
      "outputs": [
        {
          "output_type": "stream",
          "name": "stdout",
          "text": [
            "오늘의 메뉴: 김밥\n",
            "오늘의 메뉴: 라면\n",
            "오늘의 메뉴: 튀김\n"
          ]
        }
      ]
    },
    {
      "cell_type": "code",
      "source": [
        "#143\n",
        "#리스트에 주식 종목이름이 저장돼 있다.\n",
        "\n",
        "리스트 = [\"SK하이닉스\", \"삼성전자\", \"LG전자\"]\n",
        "'''저장된 문자열의 길이를 다음과 같이 출력하라.\n",
        "\n",
        "6\n",
        "4\n",
        "4'''\n",
        "\n",
        "for stock in 리스트:\n",
        "    print(len(stock))"
      ],
      "metadata": {
        "colab": {
          "base_uri": "https://localhost:8080/"
        },
        "id": "y0vnSnGG6Uar",
        "outputId": "341ab677-6843-4cbe-b877-838ccae2421a"
      },
      "execution_count": 58,
      "outputs": [
        {
          "output_type": "stream",
          "name": "stdout",
          "text": [
            "6\n",
            "4\n",
            "4\n"
          ]
        }
      ]
    },
    {
      "cell_type": "code",
      "source": [
        "#144\n",
        "#리스트에는 동물이름이 문자열로 저장돼 있다.\n",
        "\n",
        "리스트 = ['dog', 'cat', 'parrot']\n",
        "#동물 이름과 글자수를 다음과 같이 출력하라.\n",
        "\n",
        "#dog 3\n",
        "#cat 3\n",
        "#parrot 6\n",
        "\n",
        "for name in 리스트:\n",
        "    print(f'{name}: {len(name)}')"
      ],
      "metadata": {
        "colab": {
          "base_uri": "https://localhost:8080/"
        },
        "id": "8SxMPo7n6tyI",
        "outputId": "c4d9c54c-bba0-4b67-8d7b-c1e909896576"
      },
      "execution_count": 60,
      "outputs": [
        {
          "output_type": "stream",
          "name": "stdout",
          "text": [
            "dog: 3\n",
            "cat: 3\n",
            "parrot: 6\n"
          ]
        }
      ]
    },
    {
      "cell_type": "code",
      "source": [
        "#145\n",
        "#리스트에 동물 이름 저장돼 있다.\n",
        "\n",
        "리스트 = ['dog', 'cat', 'parrot']\n",
        "#for문을 사용해서 동물 이름의 첫 글자만 출력하라.\n",
        "'''\n",
        "d\n",
        "c\n",
        "p\n",
        "'''\n",
        "\n",
        "for name in 리스트:\n",
        "    print(name[0])"
      ],
      "metadata": {
        "colab": {
          "base_uri": "https://localhost:8080/"
        },
        "id": "_xl1m41B7Bbd",
        "outputId": "08eb5100-c8b9-46bc-ee1b-aa9482340fad"
      },
      "execution_count": 61,
      "outputs": [
        {
          "output_type": "stream",
          "name": "stdout",
          "text": [
            "d\n",
            "c\n",
            "p\n"
          ]
        }
      ]
    },
    {
      "cell_type": "code",
      "source": [
        "#146\n",
        "#리스트에는 세 개의 숫자가 바인딩돼 있다.\n",
        "\n",
        "리스트 = [1, 2, 3]\n",
        "#for문을 사용해서 다음과 같이 출력하라.\n",
        "'''\n",
        "3 x 1\n",
        "3 x 2\n",
        "3 x 3\n",
        "'''\n",
        "for num in 리스트:\n",
        "    print(f'3 X {num}')"
      ],
      "metadata": {
        "colab": {
          "base_uri": "https://localhost:8080/"
        },
        "id": "75ktSS6g7Xxb",
        "outputId": "868bb16c-9c79-4f97-97c4-379a6d182ac5"
      },
      "execution_count": 65,
      "outputs": [
        {
          "output_type": "stream",
          "name": "stdout",
          "text": [
            "3 X 1\n",
            "3 X 2\n",
            "3 X 3\n"
          ]
        }
      ]
    },
    {
      "cell_type": "markdown",
      "source": [
        "#### f' 표현식으로는 어떻게 하지?"
      ],
      "metadata": {
        "id": "y4zwVqiI825k"
      }
    },
    {
      "cell_type": "code",
      "source": [
        "#147\n",
        "#리스트에는 세 개의 숫자가 바인딩돼 있다.\n",
        "\n",
        "리스트 = [1, 2, 3]\n",
        "#for문을 사용해서 다음과 같이 출력하라.\n",
        "'''\n",
        "3 x 1 = 3\n",
        "3 x 2 = 6\n",
        "3 x 3 = 9\n",
        "'''\n",
        "for num in 리스트:\n",
        "    #print(\"3 X \" + str(num), \"=\", 3*num)\n",
        "    print(\"3 X {} = {}\".format(num, 3 * num))"
      ],
      "metadata": {
        "colab": {
          "base_uri": "https://localhost:8080/"
        },
        "id": "vqRYlS6X8FAq",
        "outputId": "6facf4ce-4a48-4ce7-dfb5-9803743a1c64"
      },
      "execution_count": 73,
      "outputs": [
        {
          "output_type": "stream",
          "name": "stdout",
          "text": [
            "3 X 1 = 3\n",
            "3 X 2 = 6\n",
            "3 X 3 = 9\n"
          ]
        }
      ]
    },
    {
      "cell_type": "code",
      "source": [
        "#148\n",
        "#리스트에는 네 개의 문자열이 바인딩돼 있다.\n",
        "\n",
        "리스트 = [\"가\", \"나\", \"다\", \"라\"]\n",
        "#for문을 사용해서 다음과 같이 출력하라.\n",
        "'''\n",
        "나\n",
        "다\n",
        "라'''\n",
        "for text in 리스트[1:]:\n",
        "    print(text)"
      ],
      "metadata": {
        "colab": {
          "base_uri": "https://localhost:8080/"
        },
        "id": "kTIdmJ7t8bM0",
        "outputId": "daa977e8-ac14-46aa-d3ea-ae17d98adca9"
      },
      "execution_count": 75,
      "outputs": [
        {
          "output_type": "stream",
          "name": "stdout",
          "text": [
            "나\n",
            "다\n",
            "라\n"
          ]
        }
      ]
    },
    {
      "cell_type": "code",
      "source": [
        "#149\n",
        "#리스트에는 네 개의 문자열이 바인딩돼 있다.\n",
        "\n",
        "리스트 = [\"가\", \"나\", \"다\", \"라\"]\n",
        "#for문을 사용해서 다음과 같이 출력하라.\n",
        "'''\n",
        "가\n",
        "다'''\n",
        "for text in 리스트[::2]:\n",
        "    print(text)"
      ],
      "metadata": {
        "colab": {
          "base_uri": "https://localhost:8080/"
        },
        "id": "EQPorgk09QqB",
        "outputId": "d54a8650-f04c-4b9f-e4ec-10683a295f01"
      },
      "execution_count": 78,
      "outputs": [
        {
          "output_type": "stream",
          "name": "stdout",
          "text": [
            "가\n",
            "다\n"
          ]
        }
      ]
    },
    {
      "cell_type": "code",
      "source": [
        "#150\n",
        "#리스트에는 네 개의 문자열이 바인딩돼 있다.\n",
        "\n",
        "리스트 = [\"가\", \"나\", \"다\", \"라\"]\n",
        "#for문을 사용해서 다음과 같이 출력하라.\n",
        "'''\n",
        "라\n",
        "다\n",
        "나\n",
        "가'''\n",
        "for text in 리스트[::-1]:\n",
        "    print(text)"
      ],
      "metadata": {
        "colab": {
          "base_uri": "https://localhost:8080/"
        },
        "id": "xx_oOaGb9eSo",
        "outputId": "5fb65094-e2c5-4909-ae35-12c694a64ab7"
      },
      "execution_count": 79,
      "outputs": [
        {
          "output_type": "stream",
          "name": "stdout",
          "text": [
            "라\n",
            "다\n",
            "나\n",
            "가\n"
          ]
        }
      ]
    }
  ]
}