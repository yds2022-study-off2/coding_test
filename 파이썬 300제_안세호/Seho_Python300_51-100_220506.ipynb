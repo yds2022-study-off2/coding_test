{
  "nbformat": 4,
  "nbformat_minor": 0,
  "metadata": {
    "colab": {
      "name": "Seho_051-100_of_Python300.ipynb",
      "provenance": [],
      "collapsed_sections": [],
      "toc_visible": true
    },
    "kernelspec": {
      "name": "python3",
      "display_name": "Python 3"
    },
    "language_info": {
      "name": "python"
    }
  },
  "cells": [
    {
      "cell_type": "markdown",
      "source": [
        "###4_파이썬 리스트"
      ],
      "metadata": {
        "id": "nveCb5wprfwW"
      }
    },
    {
      "cell_type": "code",
      "source": [
        "'''\n",
        "051 리스트 생성\n",
        "\n",
        "2016년 11월 영화 예매 순위 기준 top3는 다음과 같습니다. \n",
        "영화 제목을 movie_rank 이름의 리스트에 저장해보세요. (순위 정보는 저장하지 않습니다.)\n",
        "'''\n",
        "movie_rank = [\"닥터 스트레인지\", \"스플릿\", \"럭키\"]\n",
        "print(movie_rank)"
      ],
      "metadata": {
        "colab": {
          "base_uri": "https://localhost:8080/"
        },
        "id": "4dreMkrwrm5O",
        "outputId": "a1b94c21-f159-42b0-c4d0-cde24a766a5d"
      },
      "execution_count": 5,
      "outputs": [
        {
          "output_type": "stream",
          "name": "stdout",
          "text": [
            "['닥터 스트레인지', '스플릿', '럭키']\n"
          ]
        }
      ]
    },
    {
      "cell_type": "code",
      "source": [
        "'''\n",
        "052 리스트에 원소 추가\n",
        "051의 movie_rank 리스트에 \"배트맨\"을 추가하라.\n",
        "'''\n",
        "movie_rank.append('배트맨')\n",
        "print(movie_rank)"
      ],
      "metadata": {
        "colab": {
          "base_uri": "https://localhost:8080/"
        },
        "id": "u-_LYRY1sCBO",
        "outputId": "14905c67-a68a-44d8-c428-25578e77af21"
      },
      "execution_count": 6,
      "outputs": [
        {
          "output_type": "execute_result",
          "data": {
            "text/plain": [
              "['닥터 스트레인지', '스플릿', '럭키', '배트맨']"
            ]
          },
          "metadata": {},
          "execution_count": 6
        }
      ]
    },
    {
      "cell_type": "code",
      "source": [
        "'''\n",
        "053\n",
        "movie_rank 리스트에는 아래와 같이 네 개의 영화 제목이 바인딩되어 있다. \"슈퍼맨\"을 \"닥터 스트레인지\"와 \"스플릿\" 사이에 추가하라.\n",
        "'''\n",
        "movie_rank = [\"닥터 스트레인지\", \"스플릿\", \"럭키\"]\n",
        "movie_rank.insert(1, \"슈퍼맨\")\n",
        "print(movie_rank)"
      ],
      "metadata": {
        "colab": {
          "base_uri": "https://localhost:8080/"
        },
        "id": "bq0HL20Qo1MO",
        "outputId": "2f9b6c84-96a8-48e9-cbc5-2c876929621e"
      },
      "execution_count": 7,
      "outputs": [
        {
          "output_type": "stream",
          "name": "stdout",
          "text": [
            "['닥터 스트레인지', '슈퍼맨', '스플릿', '럭키']\n"
          ]
        }
      ]
    },
    {
      "cell_type": "code",
      "source": [
        "'''\n",
        "054\n",
        "movie_rank 리스트에서 '럭키'를 삭제하라.\n",
        "'''\n",
        "movie_rank = ['닥터 스트레인지', '슈퍼맨', '스플릿', '럭키', '배트맨']\n",
        "del movie_rank[3]\n",
        "print(movie_rank)"
      ],
      "metadata": {
        "colab": {
          "base_uri": "https://localhost:8080/"
        },
        "id": "aGD3LUsaoxAq",
        "outputId": "9210e53c-33ae-4f7e-b0c5-a40dc681f158"
      },
      "execution_count": 9,
      "outputs": [
        {
          "output_type": "stream",
          "name": "stdout",
          "text": [
            "['닥터 스트레인지', '슈퍼맨', '스플릿', '배트맨']\n"
          ]
        }
      ]
    },
    {
      "cell_type": "code",
      "source": [
        "'''\n",
        "055\n",
        "movie_rank 리스트에서 '스플릿' 과 '배트맨'을 를 삭제하라.\n",
        "'''\n",
        "movie_rank = ['닥터 스트레인지', '슈퍼맨', '스플릿', '배트맨']\n",
        "del movie_rank[2:]\n",
        "print(movie_rank)\n",
        "#하나씩 지우는 경우, 리스트 인덱싱이 새로 됨을 고려 del movie_rank[2]를 두번 실행"
      ],
      "metadata": {
        "colab": {
          "base_uri": "https://localhost:8080/"
        },
        "id": "vZ6M3fKpr8G_",
        "outputId": "58e692ac-bc2b-46ba-ac05-3c1cf53b878a"
      },
      "execution_count": 10,
      "outputs": [
        {
          "output_type": "stream",
          "name": "stdout",
          "text": [
            "['닥터 스트레인지', '슈퍼맨']\n"
          ]
        }
      ]
    },
    {
      "cell_type": "code",
      "source": [
        "'''\n",
        "lang1과 lang2 리스트가 있을 때 lang1과 lang2의 원소를 모두 갖고 있는 langs 리스트를 만들어라.\n",
        "'''\n",
        "lang1 = [\"C\", \"C++\", \"JAVA\"]\n",
        "lang2 = [\"Python\", \"Go\", \"C#\"]\n",
        "langs = lang1 + lang2\n",
        "print(langs)"
      ],
      "metadata": {
        "colab": {
          "base_uri": "https://localhost:8080/"
        },
        "id": "snjDjD2wsJcT",
        "outputId": "e641a919-ec41-4950-f179-592dc160ea67"
      },
      "execution_count": 11,
      "outputs": [
        {
          "output_type": "stream",
          "name": "stdout",
          "text": [
            "['C', 'C++', 'JAVA', 'Python', 'Go', 'C#']\n"
          ]
        }
      ]
    },
    {
      "cell_type": "code",
      "source": [
        "'''\n",
        "057\n",
        "다음 리스트에서 최댓값과 최솟값을 출력하라. (힌트: min(), max() 함수 사용)\n",
        "'''\n",
        "nums = [1, 2, 3, 4, 5, 6, 7]\n",
        "max_nums = max(nums)\n",
        "min_nums = min(nums)\n",
        "print(f'최대값: {max_nums}, 최소값: {min_nums}')"
      ],
      "metadata": {
        "colab": {
          "base_uri": "https://localhost:8080/"
        },
        "id": "zvSZd0UatUwA",
        "outputId": "4a9105ec-6ae9-412b-e82b-f5c60fa1b1ae"
      },
      "execution_count": 17,
      "outputs": [
        {
          "output_type": "stream",
          "name": "stdout",
          "text": [
            "최대값: 7, 최소값: 1\n"
          ]
        }
      ]
    },
    {
      "cell_type": "code",
      "source": [
        "'''\n",
        "058\n",
        "다음 리스트의 합을 출력하라.\n",
        "'''\n",
        "nums = [1, 2, 3, 4, 5]\n",
        "print(sum(nums))"
      ],
      "metadata": {
        "colab": {
          "base_uri": "https://localhost:8080/"
        },
        "id": "4T8EiKmBuSc-",
        "outputId": "6abea47f-2b01-4777-d252-cecd9f1ed418"
      },
      "execution_count": 21,
      "outputs": [
        {
          "output_type": "stream",
          "name": "stdout",
          "text": [
            "15\n"
          ]
        }
      ]
    },
    {
      "cell_type": "code",
      "source": [
        "'''\n",
        "059\n",
        "다음 리스트에 저장된 데이터의 개수를 화면에 구하하라.\n",
        "'''\n",
        "cook = [\"피자\", \"김밥\", \"만두\", \"양념치킨\", \"족발\", \"피자\", \"김치만두\", \"쫄면\", \"소시지\", \"라면\", \"팥빙수\", \"김치전\"]\n",
        "print(len(cook))"
      ],
      "metadata": {
        "colab": {
          "base_uri": "https://localhost:8080/"
        },
        "id": "Wk8nzNeBumG4",
        "outputId": "4734ca23-818e-4904-cd3c-212e2ecb33c9"
      },
      "execution_count": 23,
      "outputs": [
        {
          "output_type": "stream",
          "name": "stdout",
          "text": [
            "12\n"
          ]
        }
      ]
    },
    {
      "cell_type": "code",
      "source": [
        "'''\n",
        "060\n",
        "다음 리스트의 평균을 출력하라.\n",
        "'''\n",
        "nums = [1, 2, 3, 4, 5]\n",
        "print(sum(nums)/len(nums))"
      ],
      "metadata": {
        "colab": {
          "base_uri": "https://localhost:8080/"
        },
        "id": "WCBqI_Gau83e",
        "outputId": "83bbf9d3-a4d2-4d70-87aa-e2a9eddb2acd"
      },
      "execution_count": 27,
      "outputs": [
        {
          "output_type": "stream",
          "name": "stdout",
          "text": [
            "3.0\n"
          ]
        }
      ]
    },
    {
      "cell_type": "code",
      "source": [
        "'''\n",
        "061\n",
        "price 변수에는 날짜와 종가 정보가 저장돼 있다. 날짜 정보를 제외하고 가격 정보만을 출력하라. (힌트 : 슬라이싱)\n",
        "'''\n",
        "price = ['20180728', 100, 130, 140, 150, 160, 170]\n",
        "price[1:]"
      ],
      "metadata": {
        "colab": {
          "base_uri": "https://localhost:8080/"
        },
        "id": "K1NTECSqvM0e",
        "outputId": "5b4b342f-102d-42b6-cd6c-7fef1d7fe870"
      },
      "execution_count": 28,
      "outputs": [
        {
          "output_type": "execute_result",
          "data": {
            "text/plain": [
              "[100, 130, 140, 150, 160, 170]"
            ]
          },
          "metadata": {},
          "execution_count": 28
        }
      ]
    },
    {
      "cell_type": "code",
      "source": [
        "'''\n",
        "062\n",
        "슬라이싱을 사용해서 홀수만 출력하라.\n",
        "'''\n",
        "nums = [1, 2, 3, 4, 5, 6, 7, 8, 9, 10]\n",
        "print(nums[0::2])"
      ],
      "metadata": {
        "colab": {
          "base_uri": "https://localhost:8080/"
        },
        "id": "9oLHqwD8vbjn",
        "outputId": "8669c5ee-e835-48e5-b7f7-e001e3a784d6"
      },
      "execution_count": 31,
      "outputs": [
        {
          "output_type": "stream",
          "name": "stdout",
          "text": [
            "[1, 3, 5, 7, 9]\n"
          ]
        }
      ]
    },
    {
      "cell_type": "code",
      "source": [
        "'''\n",
        "063\n",
        "슬라이싱을 사용해서 짝수만 출력하라.\n",
        "'''\n",
        "nums = [1, 2, 3, 4, 5, 6, 7, 8, 9, 10]\n",
        "print(nums[1::2])"
      ],
      "metadata": {
        "colab": {
          "base_uri": "https://localhost:8080/"
        },
        "id": "BKet0F6svoRt",
        "outputId": "a9cf1eed-bbe8-4865-c344-ecd9f6b63f79"
      },
      "execution_count": 32,
      "outputs": [
        {
          "output_type": "stream",
          "name": "stdout",
          "text": [
            "[2, 4, 6, 8, 10]\n"
          ]
        }
      ]
    },
    {
      "cell_type": "markdown",
      "source": [
        "#### 역방향 슬라이싱: 리스트명[::-1]"
      ],
      "metadata": {
        "id": "0QU6yTrrwTec"
      }
    },
    {
      "cell_type": "code",
      "source": [
        "'''\n",
        "064\n",
        "슬라이싱을 사용해서 리스트의 숫자를 역 방향으로 출력하라.\n",
        "'''\n",
        "nums = [1, 2, 3, 4, 5]\n",
        "print(nums[::-1])"
      ],
      "metadata": {
        "colab": {
          "base_uri": "https://localhost:8080/"
        },
        "id": "lKgnKKaIvjni",
        "outputId": "5e151420-a2e4-40c6-bdef-354799890006"
      },
      "execution_count": 35,
      "outputs": [
        {
          "output_type": "stream",
          "name": "stdout",
          "text": [
            "[5, 4, 3, 2, 1]\n"
          ]
        }
      ]
    },
    {
      "cell_type": "code",
      "source": [
        "'''\n",
        "065\n",
        "interest 리스트에는 아래의 데이터가 바인딩되어 있다.\n",
        "\n",
        "interest = ['삼성전자', 'LG전자', 'Naver']\n",
        "interest 리스트를 사용하여 아래와 같이 화면에 출력하라.\n",
        "\n",
        "출력 예시:\n",
        "삼성전자 Naver\n",
        "'''\n",
        "interest = ['삼성전자', 'LG전자', 'Naver']\n",
        "print(interest[0::2]) #print(interest[0], interest[2])"
      ],
      "metadata": {
        "colab": {
          "base_uri": "https://localhost:8080/"
        },
        "id": "5ZjHEevHwB0-",
        "outputId": "556f5e97-0c3f-4853-a3eb-83f403a853e2"
      },
      "execution_count": 39,
      "outputs": [
        {
          "output_type": "stream",
          "name": "stdout",
          "text": [
            "['삼성전자', 'Naver']\n"
          ]
        }
      ]
    },
    {
      "cell_type": "markdown",
      "source": [
        "#### join 메서드 \n",
        "- \" \".join(리스트명): 리스트 원수들 사이에 공백(\" \")을 넣어 하나의 문자열(str)로 출력"
      ],
      "metadata": {
        "id": "LKJTVhmixttA"
      }
    },
    {
      "cell_type": "code",
      "source": [
        "'''\n",
        "066 join 메서드\n",
        "interest 리스트에는 아래의 데이터가 바인딩되어 있다.\n",
        "\n",
        "interest = ['삼성전자', 'LG전자', 'Naver', 'SK하이닉스', '미래에셋대우']\n",
        "interest 리스트를 사용하여 아래와 같이 화면에 출력하라.\n",
        "\n",
        "출력 예시:\n",
        "삼성전자 LG전자 Naver SK하이닉스 미래에셋대우\n",
        "'''\n",
        "\n",
        "interest = ['삼성전자', 'LG전자', 'Naver', 'SK하이닉스', '미래에셋대우']\n",
        "j_interest = \" \".join(interest)\n",
        "print(j_interest, type(j_interest), type(interest))"
      ],
      "metadata": {
        "colab": {
          "base_uri": "https://localhost:8080/"
        },
        "id": "CKewY4iUw7Dt",
        "outputId": "cbd7c312-62e9-4659-ae23-639847e58daf"
      },
      "execution_count": 47,
      "outputs": [
        {
          "output_type": "stream",
          "name": "stdout",
          "text": [
            "삼성전자 LG전자 Naver SK하이닉스 미래에셋대우 <class 'str'> <class 'list'>\n"
          ]
        }
      ]
    },
    {
      "cell_type": "code",
      "source": [
        "'''\n",
        "067 join 메서드\n",
        "interest 리스트에는 아래의 데이터가 바인딩되어 있다.\n",
        "\n",
        "interest = ['삼성전자', 'LG전자', 'Naver', 'SK하이닉스', '미래에셋대우']\n",
        "interest 리스트를 사용하여 아래와 같이 화면에 출력하라.\n",
        "\n",
        "출력 예시:\n",
        "삼성전자/LG전자/Naver/SK하이닉스/미래에셋대우\n",
        "'''\n",
        "interest = ['삼성전자', 'LG전자', 'Naver', 'SK하이닉스', '미래에셋대우']\n",
        "ub_interest = \"/\".join(interest)\n",
        "print(ub_interest)"
      ],
      "metadata": {
        "colab": {
          "base_uri": "https://localhost:8080/"
        },
        "id": "WjNOdh7OxrZK",
        "outputId": "780774cd-f94a-4666-8693-cff486b0933f"
      },
      "execution_count": 49,
      "outputs": [
        {
          "output_type": "stream",
          "name": "stdout",
          "text": [
            "삼성전자/LG전자/Naver/SK하이닉스/미래에셋대우\n"
          ]
        }
      ]
    },
    {
      "cell_type": "code",
      "source": [
        "'''\n",
        "068 join 메서드\n",
        "interest 리스트에는 아래의 데이터가 바인딩되어 있다.\n",
        "\n",
        "interest = ['삼성전자', 'LG전자', 'Naver', 'SK하이닉스', '미래에셋대우']\n",
        "join() 메서드를 사용해서 interest 리스트를 아래와 같이 화면에 출력하라.\n",
        "\n",
        "출력 예시:\n",
        "삼성전자\n",
        "LG전자\n",
        "Naver\n",
        "SK하이닉스\n",
        "미래에셋대우\n",
        "'''\n",
        "interest = ['삼성전자', 'LG전자', 'Naver', 'SK하이닉스', '미래에셋대우']\n",
        "l_interest = '\\n'.join(interest)\n",
        "print(l_interest)"
      ],
      "metadata": {
        "colab": {
          "base_uri": "https://localhost:8080/"
        },
        "id": "NzCBgv9uy2Bz",
        "outputId": "bde04452-c4ea-43c2-d4dc-acda6fa9b97e"
      },
      "execution_count": 50,
      "outputs": [
        {
          "output_type": "stream",
          "name": "stdout",
          "text": [
            "삼성전자\n",
            "LG전자\n",
            "Naver\n",
            "SK하이닉스\n",
            "미래에셋대우\n"
          ]
        }
      ]
    },
    {
      "cell_type": "markdown",
      "source": [
        "#### split을 사용하면 결과가 list로 저장"
      ],
      "metadata": {
        "id": "EB6jjxLdzwoN"
      }
    },
    {
      "cell_type": "code",
      "source": [
        "'''\n",
        "069 문자열 split 메서드\n",
        "회사 이름이 슬래시 ('/')로 구분되어 하나의 문자열로 저장되어 있다.\n",
        "\n",
        "string = \"삼성전자/LG전자/Naver\"\n",
        "이를 interest 이름의 리스트로 분리 저장하라.\n",
        "'''\n",
        "string = \"삼성전자/LG전자/Naver\"\n",
        "interest = string.split('/')\n",
        "print(interest)"
      ],
      "metadata": {
        "colab": {
          "base_uri": "https://localhost:8080/"
        },
        "id": "6OPX60qfzHbq",
        "outputId": "0902365c-7289-4df7-d457-2d5efe5ed35b"
      },
      "execution_count": 53,
      "outputs": [
        {
          "output_type": "stream",
          "name": "stdout",
          "text": [
            "['삼성전자', 'LG전자', 'Naver']\n"
          ]
        }
      ]
    },
    {
      "cell_type": "markdown",
      "source": [
        "#### 리스트 정렬 data.sort() vs. sorted()"
      ],
      "metadata": {
        "id": "EbRsjGf73PQu"
      }
    },
    {
      "cell_type": "code",
      "source": [
        "'''\n",
        "070 리스트 정렬\n",
        "리스트에 있는 값을 오름차순으로 정렬하세요.\n",
        "'''\n",
        "data = [2, 4, 3, 1, 5, 10, 9]\n",
        "data.sort()\n",
        "print(data) #원본데이터 수정"
      ],
      "metadata": {
        "colab": {
          "base_uri": "https://localhost:8080/"
        },
        "id": "Qfi17zRbzjKq",
        "outputId": "1c236b4c-3956-47e0-ff62-3526be114c58"
      },
      "execution_count": 61,
      "outputs": [
        {
          "output_type": "stream",
          "name": "stdout",
          "text": [
            "[1, 2, 3, 4, 5, 9, 10]\n"
          ]
        }
      ]
    },
    {
      "cell_type": "code",
      "source": [
        "data = [2, 4, 3, 1, 5, 10, 9]\n",
        "data2 = sorted(data)\n",
        "print(data2)"
      ],
      "metadata": {
        "colab": {
          "base_uri": "https://localhost:8080/"
        },
        "id": "9sej2zkG0YbP",
        "outputId": "b084ac2a-1eeb-4a55-b751-57ec23074cb2"
      },
      "execution_count": 58,
      "outputs": [
        {
          "output_type": "stream",
          "name": "stdout",
          "text": [
            "[1, 2, 3, 4, 5, 9, 10]\n"
          ]
        }
      ]
    },
    {
      "cell_type": "markdown",
      "source": [
        "###5_파이썬 튜플"
      ],
      "metadata": {
        "id": "yFtEMnAc3eYl"
      }
    },
    {
      "cell_type": "code",
      "source": [
        "'''\n",
        "071\n",
        "my_variable 이름의 비어있는 튜플을 만들라.\n",
        "'''\n",
        "my_variable = ()\n",
        "print(my_variable, type(my_variable))"
      ],
      "metadata": {
        "colab": {
          "base_uri": "https://localhost:8080/"
        },
        "id": "nKG_mLC1zh6j",
        "outputId": "b2c50f28-691c-4bee-9359-3646aad02d86"
      },
      "execution_count": 63,
      "outputs": [
        {
          "output_type": "stream",
          "name": "stdout",
          "text": [
            "() <class 'tuple'>\n"
          ]
        }
      ]
    },
    {
      "cell_type": "code",
      "source": [
        "'''\n",
        "072\n",
        "2016년 11월 영화 예매 순위 기준 top3는 다음과 같다. 영화 제목을 movie_rank 이름의 튜플에 저장하라. (순위 정보는 저장하지 않는다.)\n",
        "\n",
        "순위\t영화\n",
        "1\t닥터 스트레인지\n",
        "2\t스플릿\n",
        "3\t럭키\n",
        "'''\n",
        "movie_rank = ('닥터 스트레인지', '스플릿', '럭키')\n",
        "print(movie_rank)"
      ],
      "metadata": {
        "colab": {
          "base_uri": "https://localhost:8080/"
        },
        "id": "HfDJY2aU3zD6",
        "outputId": "b7bf0f1a-e2c6-489c-ee71-f788c550bef7"
      },
      "execution_count": 66,
      "outputs": [
        {
          "output_type": "stream",
          "name": "stdout",
          "text": [
            "('닥터 스트레인지', '스플릿', '럭키')\n"
          ]
        }
      ]
    },
    {
      "cell_type": "markdown",
      "source": [
        "#### tuple에 하나의 원소를 저장하는 경우!"
      ],
      "metadata": {
        "id": "BfRX9nDp4hDc"
      }
    },
    {
      "cell_type": "code",
      "source": [
        "'''\n",
        "073\n",
        "숫자 1 이 저장된 튜플을 생성하라.\n",
        "'''\n",
        "one = (1, )\n",
        "print(one, type(one))"
      ],
      "metadata": {
        "colab": {
          "base_uri": "https://localhost:8080/"
        },
        "id": "YcrKsZB84LPs",
        "outputId": "9974dbe8-6b6b-482b-d9d7-9449e8cb8db3"
      },
      "execution_count": 70,
      "outputs": [
        {
          "output_type": "stream",
          "name": "stdout",
          "text": [
            "(1,) <class 'tuple'>\n"
          ]
        }
      ]
    },
    {
      "cell_type": "code",
      "source": [
        "'''\n",
        "074\n",
        "다음 코드를 실행해보고 오류가 발생하는 원인을 설명하라.\n",
        "'''\n",
        "t = (1, 2, 3)\n",
        "t[0] = 'a'"
      ],
      "metadata": {
        "colab": {
          "base_uri": "https://localhost:8080/",
          "height": 211
        },
        "id": "JSDJj1WN4gBb",
        "outputId": "2099b2f6-eac1-487f-9cea-58330a80d797"
      },
      "execution_count": 71,
      "outputs": [
        {
          "output_type": "error",
          "ename": "TypeError",
          "evalue": "ignored",
          "traceback": [
            "\u001b[0;31m---------------------------------------------------------------------------\u001b[0m",
            "\u001b[0;31mTypeError\u001b[0m                                 Traceback (most recent call last)",
            "\u001b[0;32m<ipython-input-71-f17e682c49ab>\u001b[0m in \u001b[0;36m<module>\u001b[0;34m()\u001b[0m\n\u001b[1;32m      4\u001b[0m '''\n\u001b[1;32m      5\u001b[0m \u001b[0mt\u001b[0m \u001b[0;34m=\u001b[0m \u001b[0;34m(\u001b[0m\u001b[0;36m1\u001b[0m\u001b[0;34m,\u001b[0m \u001b[0;36m2\u001b[0m\u001b[0;34m,\u001b[0m \u001b[0;36m3\u001b[0m\u001b[0;34m)\u001b[0m\u001b[0;34m\u001b[0m\u001b[0;34m\u001b[0m\u001b[0m\n\u001b[0;32m----> 6\u001b[0;31m \u001b[0mt\u001b[0m\u001b[0;34m[\u001b[0m\u001b[0;36m0\u001b[0m\u001b[0;34m]\u001b[0m \u001b[0;34m=\u001b[0m \u001b[0;34m'a'\u001b[0m\u001b[0;34m\u001b[0m\u001b[0;34m\u001b[0m\u001b[0m\n\u001b[0m",
            "\u001b[0;31mTypeError\u001b[0m: 'tuple' object does not support item assignment"
          ]
        }
      ]
    },
    {
      "cell_type": "code",
      "source": [
        "'''\n",
        "075\n",
        "아래와 같이 t에는 1, 2, 3, 4 데이터가 바인딩되어 있다. t가 바인딩하는 데이터 타입은 무엇인가?\n",
        "'''\n",
        "t = 1, 2, 3, 4\n",
        "type(t)"
      ],
      "metadata": {
        "colab": {
          "base_uri": "https://localhost:8080/"
        },
        "id": "6XFO92MX4zjf",
        "outputId": "e9bfd697-d7b8-4c59-8abd-c00b8316b599"
      },
      "execution_count": 72,
      "outputs": [
        {
          "output_type": "execute_result",
          "data": {
            "text/plain": [
              "tuple"
            ]
          },
          "metadata": {},
          "execution_count": 72
        }
      ]
    },
    {
      "cell_type": "code",
      "source": [
        "'''\n",
        "076\n",
        "변수 t에는 아래와 같은 값이 저장되어 있다. 변수 t가 ('A', 'b', 'c') 튜플을 가리키도록 수정 하라.\n",
        "'''\n",
        "t = ('a', 'b', 'c')\n",
        "t = ('A', 'b', 'c')\n",
        "print(t, type(t))"
      ],
      "metadata": {
        "colab": {
          "base_uri": "https://localhost:8080/"
        },
        "id": "8GFUg4iQ4-Er",
        "outputId": "d292c262-d1d2-40a9-c3a7-3d24327d49f1"
      },
      "execution_count": 77,
      "outputs": [
        {
          "output_type": "stream",
          "name": "stdout",
          "text": [
            "('A', 'b', 'c') <class 'tuple'>\n"
          ]
        }
      ]
    },
    {
      "cell_type": "markdown",
      "source": [
        "#### tuple의 list 변환 via. list(튜플명)"
      ],
      "metadata": {
        "id": "W_gbcIU35y3W"
      }
    },
    {
      "cell_type": "code",
      "source": [
        "'''\n",
        "077\n",
        "다음 튜플을 리스트로 변환하라.\n",
        "'''\n",
        "interest = ('삼성전자', 'LG전자', 'SK Hynix')\n",
        "list_interest = list(interest)\n",
        "print(list_interest, type(list_interest))"
      ],
      "metadata": {
        "colab": {
          "base_uri": "https://localhost:8080/"
        },
        "id": "Hiz0tz755XGH",
        "outputId": "8eb85865-1b8a-4588-c73e-de9452afba97"
      },
      "execution_count": 79,
      "outputs": [
        {
          "output_type": "stream",
          "name": "stdout",
          "text": [
            "['삼성전자', 'LG전자', 'SK Hynix'] <class 'list'>\n"
          ]
        }
      ]
    },
    {
      "cell_type": "code",
      "source": [
        "'''\n",
        "078\n",
        "다음 리스트를 튜플로 변경하라.\n",
        "'''\n",
        "interest = ['삼성전자', 'LG전자', 'SK Hynix']\n",
        "t_interest = tuple(interest)\n",
        "print(t_interest, type(t_interest))"
      ],
      "metadata": {
        "colab": {
          "base_uri": "https://localhost:8080/"
        },
        "id": "7Ktqw5bN5vJ7",
        "outputId": "0adc1eb2-f627-45b5-eff0-380ba612254e"
      },
      "execution_count": 80,
      "outputs": [
        {
          "output_type": "stream",
          "name": "stdout",
          "text": [
            "('삼성전자', 'LG전자', 'SK Hynix') <class 'tuple'>\n"
          ]
        }
      ]
    },
    {
      "cell_type": "markdown",
      "source": [
        "#### tuple 언패킹, 더 편하게 할 수 있는 방법은 없을까?"
      ],
      "metadata": {
        "id": "q_aCoUbc6zAe"
      }
    },
    {
      "cell_type": "code",
      "source": [
        "'''\n",
        "079 튜플 언팩킹\n",
        "다음 코드의 실행 결과를 예상하라.\n",
        "'''\n",
        "temp = ('apple', 'banana', 'cake')\n",
        "a, b, c = temp\n",
        "print(a, b, c)"
      ],
      "metadata": {
        "colab": {
          "base_uri": "https://localhost:8080/"
        },
        "id": "jtQIMiWo6H3I",
        "outputId": "a578a42b-5a06-495a-dab4-0e5c25a40030"
      },
      "execution_count": 88,
      "outputs": [
        {
          "output_type": "stream",
          "name": "stdout",
          "text": [
            "apple banana cake\n"
          ]
        }
      ]
    },
    {
      "cell_type": "code",
      "source": [
        "for fruit in temp:\n",
        "    print(fruit)"
      ],
      "metadata": {
        "colab": {
          "base_uri": "https://localhost:8080/"
        },
        "id": "_nM4kXJe8Vbj",
        "outputId": "0ba22a49-df7f-405c-bfb3-cccb341518df"
      },
      "execution_count": 89,
      "outputs": [
        {
          "output_type": "stream",
          "name": "stdout",
          "text": [
            "apple\n",
            "banana\n",
            "cake\n"
          ]
        }
      ]
    },
    {
      "cell_type": "code",
      "source": [
        "a, b, _ = (1, 2, 3, 4, 5)\n",
        "print(a)\n",
        "print(b)"
      ],
      "metadata": {
        "colab": {
          "base_uri": "https://localhost:8080/",
          "height": 211
        },
        "id": "cI0fhNAw6OCU",
        "outputId": "7cd6a1ad-9d71-4387-f48b-51bfa5da0f02"
      },
      "execution_count": 85,
      "outputs": [
        {
          "output_type": "error",
          "ename": "ValueError",
          "evalue": "ignored",
          "traceback": [
            "\u001b[0;31m---------------------------------------------------------------------------\u001b[0m",
            "\u001b[0;31mValueError\u001b[0m                                Traceback (most recent call last)",
            "\u001b[0;32m<ipython-input-85-2520e96e42db>\u001b[0m in \u001b[0;36m<module>\u001b[0;34m()\u001b[0m\n\u001b[0;32m----> 1\u001b[0;31m \u001b[0ma\u001b[0m\u001b[0;34m,\u001b[0m \u001b[0mb\u001b[0m\u001b[0;34m,\u001b[0m \u001b[0m_\u001b[0m \u001b[0;34m=\u001b[0m \u001b[0;34m(\u001b[0m\u001b[0;36m1\u001b[0m\u001b[0;34m,\u001b[0m \u001b[0;36m2\u001b[0m\u001b[0;34m,\u001b[0m \u001b[0;36m3\u001b[0m\u001b[0;34m,\u001b[0m \u001b[0;36m4\u001b[0m\u001b[0;34m,\u001b[0m \u001b[0;36m5\u001b[0m\u001b[0;34m)\u001b[0m\u001b[0;34m\u001b[0m\u001b[0;34m\u001b[0m\u001b[0m\n\u001b[0m\u001b[1;32m      2\u001b[0m \u001b[0mprint\u001b[0m\u001b[0;34m(\u001b[0m\u001b[0ma\u001b[0m\u001b[0;34m)\u001b[0m\u001b[0;34m\u001b[0m\u001b[0;34m\u001b[0m\u001b[0m\n\u001b[1;32m      3\u001b[0m \u001b[0mprint\u001b[0m\u001b[0;34m(\u001b[0m\u001b[0mb\u001b[0m\u001b[0;34m)\u001b[0m\u001b[0;34m\u001b[0m\u001b[0;34m\u001b[0m\u001b[0m\n",
            "\u001b[0;31mValueError\u001b[0m: too many values to unpack (expected 3)"
          ]
        }
      ]
    },
    {
      "cell_type": "code",
      "source": [
        "a, b, *_ = (1, 2, 3, 4, 5)\n",
        "print(a)\n",
        "print(b)"
      ],
      "metadata": {
        "colab": {
          "base_uri": "https://localhost:8080/"
        },
        "id": "vYHiG_rj6qIr",
        "outputId": "2fff59fb-3152-4462-bdaf-b65e3ded217e"
      },
      "execution_count": 86,
      "outputs": [
        {
          "output_type": "stream",
          "name": "stdout",
          "text": [
            "1\n",
            "2\n"
          ]
        }
      ]
    },
    {
      "cell_type": "code",
      "source": [
        "a, b, *c, d = (1, 2, 3, 4, 5, 6)\n",
        "print(a)\n",
        "print(b)\n",
        "print(c)\n",
        "print(d)"
      ],
      "metadata": {
        "colab": {
          "base_uri": "https://localhost:8080/"
        },
        "id": "tLN3AZCQ6maX",
        "outputId": "0672ca03-e648-404a-8bd8-4bce2d760bba"
      },
      "execution_count": 87,
      "outputs": [
        {
          "output_type": "stream",
          "name": "stdout",
          "text": [
            "1\n",
            "2\n",
            "[3, 4, 5]\n",
            "6\n"
          ]
        }
      ]
    },
    {
      "cell_type": "code",
      "source": [
        "data = [('james',20),('john',21),('peter',15)]\n",
        "\n",
        "for name,age in data:\n",
        "    print(name, age)"
      ],
      "metadata": {
        "colab": {
          "base_uri": "https://localhost:8080/"
        },
        "id": "h4u4BYGH8k4Z",
        "outputId": "85bc5d58-201a-4217-9bf0-3e945c996821"
      },
      "execution_count": 90,
      "outputs": [
        {
          "output_type": "stream",
          "name": "stdout",
          "text": [
            "james 20\n",
            "john 21\n",
            "peter 15\n"
          ]
        }
      ]
    },
    {
      "cell_type": "code",
      "source": [
        "'''\n",
        "081 별 표현식\n",
        "기본적으로 데이터 언패킹은 좌변의 변수와 우변 데이터 개수가 같아야 합니다. 하지만 star expression을 사용하면 변수의 개수가 달라도 데이터 언패킹을 할 수 있습니다. 튜플에 저장된 데이터 중에서 앞에 있는 두 개의 데이터만 필요할 경우 나머지 데이터의 언패킹 코드를 작성할 필요가 없습니다.\n",
        "\n",
        "다음과 같이 10개의 값이 저장된 scores 리스트가 있을 때, start expression을 사용하여 좌측 8개의 값을 valid_score 변수에 바인딩하여라.\n",
        "'''\n",
        "scores = [8.8, 8.9, 8.7, 9.2, 9.3, 9.7, 9.9, 9.5, 7.8, 9.4]\n",
        "*valid_score, _, _ = scores\n",
        "print(*valid_score)"
      ],
      "metadata": {
        "colab": {
          "base_uri": "https://localhost:8080/"
        },
        "id": "UHl7A-Z26jy3",
        "outputId": "aefdd58e-8c95-4823-dc4a-7a7f19e0dc2f"
      },
      "execution_count": 97,
      "outputs": [
        {
          "output_type": "stream",
          "name": "stdout",
          "text": [
            "8.8 8.9 8.7 9.2 9.3 9.7 9.9 9.5\n"
          ]
        }
      ]
    },
    {
      "cell_type": "code",
      "source": [
        "'''\n",
        "082\n",
        "다음과 같이 10개의 값이 저장된 scores 리스트가 있을 때, start expression을 사용하여 우측 8개의 값을 valid_score 변수에 바인딩하여라.\n",
        "'''\n",
        "scores = [8.8, 8.9, 8.7, 9.2, 9.3, 9.7, 9.9, 9.5, 7.8, 9.4]\n",
        "_, _, *valid_score = scores\n",
        "print(*valid_score)"
      ],
      "metadata": {
        "colab": {
          "base_uri": "https://localhost:8080/"
        },
        "id": "pgA5BGZu-Pjd",
        "outputId": "e88d7248-9249-40c5-e4ad-b09194c7e167"
      },
      "execution_count": 99,
      "outputs": [
        {
          "output_type": "stream",
          "name": "stdout",
          "text": [
            "8.7 9.2 9.3 9.7 9.9 9.5 7.8 9.4\n"
          ]
        }
      ]
    },
    {
      "cell_type": "code",
      "source": [
        "'''\n",
        "083\n",
        "다음과 같이 10개의 값이 저장된 scores 리스트가 있을 때, start expression을 사용하여 가운데 있는 8개의 값을 valid_score 변수에 바인딩하여라.\n",
        "'''\n",
        "scores = [8.8, 8.9, 8.7, 9.2, 9.3, 9.7, 9.9, 9.5, 7.8, 9.4]\n",
        "_, *valid_score, _ = scores\n",
        "print(*valid_score)"
      ],
      "metadata": {
        "colab": {
          "base_uri": "https://localhost:8080/"
        },
        "id": "M0NlJ-7L-aH-",
        "outputId": "b9c4cdb7-84dd-4e36-b1f6-6395b2d245a4"
      },
      "execution_count": 100,
      "outputs": [
        {
          "output_type": "stream",
          "name": "stdout",
          "text": [
            "8.9 8.7 9.2 9.3 9.7 9.9 9.5 7.8\n"
          ]
        }
      ]
    },
    {
      "cell_type": "markdown",
      "source": [
        "###6_파이썬 딕셔너리\n",
        "\n",
        "- 순서 없음\n",
        "- key와 value 형태로 데이터 저장\n",
        "- 특히 key는 데이터의 레이블(label)을 지정하는 용도로 자주 사용됨"
      ],
      "metadata": {
        "id": "IJBSPNed8zJs"
      }
    },
    {
      "cell_type": "code",
      "source": [
        "'''084 비어있는 딕셔너리\n",
        "temp 이름의 비어있는 딕셔너리를 만들라.'''\n",
        "temp = {}\n",
        "print(temp, type(temp))"
      ],
      "metadata": {
        "colab": {
          "base_uri": "https://localhost:8080/"
        },
        "id": "s9_Hsb8T-k9p",
        "outputId": "a8cba36e-d3bd-48d3-9d9d-27639ec35582"
      },
      "execution_count": 102,
      "outputs": [
        {
          "output_type": "stream",
          "name": "stdout",
          "text": [
            "{} <class 'dict'>\n"
          ]
        }
      ]
    },
    {
      "cell_type": "code",
      "source": [
        "'''\n",
        "085\n",
        "다음 아이스크림 이름과 희망 가격을 딕셔너리로 구성하라.\n",
        "'''\n",
        "ices = {\"메로나\": 1000, \"폴라포\": 1200, \"빵빠레\": 1800}\n",
        "print(ices, type(ices))"
      ],
      "metadata": {
        "colab": {
          "base_uri": "https://localhost:8080/"
        },
        "id": "bj1BOI6J-335",
        "outputId": "ed1c6b2d-fbf8-4b34-fa3f-a5b015abd985"
      },
      "execution_count": 103,
      "outputs": [
        {
          "output_type": "stream",
          "name": "stdout",
          "text": [
            "{'메로나': 1000, '폴라포': 1200, '빵빠레': 1800} <class 'dict'>\n"
          ]
        }
      ]
    },
    {
      "cell_type": "code",
      "source": [
        "'''086\n",
        "085 번의 딕셔너리에 아래 아이스크림 가격정보를 추가하라.\n",
        "\n",
        "이름\t희망 가격\n",
        "죠스바\t1200\n",
        "월드콘\t1500'''\n",
        "\n",
        "ices[\"죠스바\"] = 1200\n",
        "ices[\"월드콘\"] = 1500\n",
        "print(ices)"
      ],
      "metadata": {
        "colab": {
          "base_uri": "https://localhost:8080/"
        },
        "id": "NlBE0Yj9_QkG",
        "outputId": "0a1dd760-8616-417b-8f94-669470784e23"
      },
      "execution_count": 105,
      "outputs": [
        {
          "output_type": "stream",
          "name": "stdout",
          "text": [
            "{'메로나': 1000, '폴라포': 1200, '빵빠레': 1800, '죠스바': 1200, '월드콘': 1500}\n"
          ]
        }
      ]
    },
    {
      "cell_type": "code",
      "source": [
        "'''\n",
        "087\n",
        "다음 딕셔너리를 사용하여 메로나 가격을 출력하라.\n",
        "'''\n",
        "ice = {'메로나': 1000,\n",
        "       '폴로포': 1200,\n",
        "       '빵빠레': 1800,\n",
        "       '죠스바': 1200,\n",
        "       '월드콘': 1500}\n",
        "메로나 = ice['메로나']\n",
        "print(f'메로나 가격: {메로나}원')"
      ],
      "metadata": {
        "colab": {
          "base_uri": "https://localhost:8080/"
        },
        "id": "vVXD6_oN_rXp",
        "outputId": "6824a6c9-2cf3-4b10-9566-c1ff74dd86c0"
      },
      "execution_count": 110,
      "outputs": [
        {
          "output_type": "stream",
          "name": "stdout",
          "text": [
            "메로나 가격: 1000원\n"
          ]
        }
      ]
    },
    {
      "cell_type": "code",
      "source": [
        "'''088\n",
        "다음 딕셔너리에서 메로나의 가격을 1300으로 수정하라.\n",
        "'''\n",
        "ice = {'메로나': 1000,\n",
        "       '폴로포': 1200,\n",
        "       '빵빠레': 1800,\n",
        "       '죠스바': 1200,\n",
        "       '월드콘': 1500}\n",
        "ice['메로나']=1300\n",
        "print(\"메로나 가격: \", ice['메로나'])"
      ],
      "metadata": {
        "colab": {
          "base_uri": "https://localhost:8080/"
        },
        "id": "_Awge8_CAMnu",
        "outputId": "b3937a3b-7be5-46fd-b958-9ea6df9edffd"
      },
      "execution_count": 113,
      "outputs": [
        {
          "output_type": "stream",
          "name": "stdout",
          "text": [
            "메로나 가격:  1300\n"
          ]
        }
      ]
    },
    {
      "cell_type": "code",
      "source": [
        "'''\n",
        "089\n",
        "다음 딕셔너리에서 메로나를 삭제하라.\n",
        "'''\n",
        "del ice['메로나']\n",
        "print(ice)"
      ],
      "metadata": {
        "colab": {
          "base_uri": "https://localhost:8080/"
        },
        "id": "A5lBvO5hAfg9",
        "outputId": "0be3fe4c-36ed-401f-ad3a-c2ccf3fcb553"
      },
      "execution_count": 114,
      "outputs": [
        {
          "output_type": "stream",
          "name": "stdout",
          "text": [
            "{'폴로포': 1200, '빵빠레': 1800, '죠스바': 1200, '월드콘': 1500}\n"
          ]
        }
      ]
    },
    {
      "cell_type": "code",
      "source": [
        "'''090\n",
        "다음 코드에서 에러가 발생한 원인을 설명하라.'''\n",
        "\n",
        "icecream = {'폴라포': 1200, '빵빠레': 1800, '월드콘': 1500, '메로나': 1000}\n",
        "icecream['누가바']"
      ],
      "metadata": {
        "colab": {
          "base_uri": "https://localhost:8080/",
          "height": 211
        },
        "id": "TYhg8Dc9AmmN",
        "outputId": "e5ac38b5-d07a-4c26-debb-cf51934f53d0"
      },
      "execution_count": 115,
      "outputs": [
        {
          "output_type": "error",
          "ename": "KeyError",
          "evalue": "ignored",
          "traceback": [
            "\u001b[0;31m---------------------------------------------------------------------------\u001b[0m",
            "\u001b[0;31mKeyError\u001b[0m                                  Traceback (most recent call last)",
            "\u001b[0;32m<ipython-input-115-7551465d448c>\u001b[0m in \u001b[0;36m<module>\u001b[0;34m()\u001b[0m\n\u001b[1;32m      3\u001b[0m \u001b[0;34m\u001b[0m\u001b[0m\n\u001b[1;32m      4\u001b[0m \u001b[0micecream\u001b[0m \u001b[0;34m=\u001b[0m \u001b[0;34m{\u001b[0m\u001b[0;34m'폴라포'\u001b[0m\u001b[0;34m:\u001b[0m \u001b[0;36m1200\u001b[0m\u001b[0;34m,\u001b[0m \u001b[0;34m'빵빠레'\u001b[0m\u001b[0;34m:\u001b[0m \u001b[0;36m1800\u001b[0m\u001b[0;34m,\u001b[0m \u001b[0;34m'월드콘'\u001b[0m\u001b[0;34m:\u001b[0m \u001b[0;36m1500\u001b[0m\u001b[0;34m,\u001b[0m \u001b[0;34m'메로나'\u001b[0m\u001b[0;34m:\u001b[0m \u001b[0;36m1000\u001b[0m\u001b[0;34m}\u001b[0m\u001b[0;34m\u001b[0m\u001b[0;34m\u001b[0m\u001b[0m\n\u001b[0;32m----> 5\u001b[0;31m \u001b[0micecream\u001b[0m\u001b[0;34m[\u001b[0m\u001b[0;34m'누가바'\u001b[0m\u001b[0;34m]\u001b[0m\u001b[0;34m\u001b[0m\u001b[0;34m\u001b[0m\u001b[0m\n\u001b[0m",
            "\u001b[0;31mKeyError\u001b[0m: '누가바'"
          ]
        }
      ]
    },
    {
      "cell_type": "markdown",
      "source": [
        "#### 요 형태 기억! \n",
        "-  inventory = {\"메로나\": [300, 20]}"
      ],
      "metadata": {
        "id": "aC_SzH5zBCFi"
      }
    },
    {
      "cell_type": "code",
      "source": [
        "'''\n",
        "091 딕셔너리 생성\n",
        "아래의 표에서, 아이스크림 이름을 키값으로, (가격, 재고) 리스트를 딕셔너리의 값으로 저장하라. 딕셔너리의 이름은 inventory로 한다.\n",
        "\n",
        "이름\t가격\t재고\n",
        "메로나\t300\t20\n",
        "비비빅\t400\t3\n",
        "죠스바\t250\t100\n",
        "'''\n",
        "inventory = {\"메로나\": [300, 20], \n",
        "             \"비비빅\": [400, 3], \n",
        "             \"죠스바\": [250, 100]}\n",
        "print(inventory)"
      ],
      "metadata": {
        "colab": {
          "base_uri": "https://localhost:8080/"
        },
        "id": "12EPL3Y-AIiN",
        "outputId": "cba6f77d-0685-4a48-c76c-d9c3d4de3f04"
      },
      "execution_count": 116,
      "outputs": [
        {
          "output_type": "stream",
          "name": "stdout",
          "text": [
            "{'메로나': [300, 20], '비비빅': [400, 3], '죠스바': [250, 100]}\n"
          ]
        }
      ]
    },
    {
      "cell_type": "code",
      "source": [
        "'''\n",
        "092 딕셔너리 인덱싱\n",
        "inventory 딕셔너리에서 메로나의 가격을 화면에 출력하라.\n",
        "'''\n",
        "inventory = {\"메로나\": [300, 20],\n",
        "              \"비비빅\": [400, 3],\n",
        "              \"죠스바\": [250, 100]}\n",
        "a = input()\n",
        "print(\"가격: \", inventory[a][0], \"원\")"
      ],
      "metadata": {
        "colab": {
          "base_uri": "https://localhost:8080/"
        },
        "id": "P6cQW6EmAAXB",
        "outputId": "1389529f-1638-4d06-ae57-af103e35d3b3"
      },
      "execution_count": 130,
      "outputs": [
        {
          "output_type": "stream",
          "name": "stdout",
          "text": [
            "메로나\n",
            "가격:  300 원\n"
          ]
        }
      ]
    },
    {
      "cell_type": "code",
      "source": [
        "'''\n",
        "093 딕셔너리 인덱싱\n",
        "inventory 딕셔너리에서 메로나의 재고를 화면에 출력하라.\n",
        "'''\n",
        "inventory = {\"메로나\": [300, 20],\n",
        "              \"비비빅\": [400, 3],\n",
        "              \"죠스바\": [250, 100]}\n",
        "a = input()\n",
        "print(\"재고: \", inventory[a][1], \"개\")"
      ],
      "metadata": {
        "colab": {
          "base_uri": "https://localhost:8080/"
        },
        "id": "_naJsdb2B_Uw",
        "outputId": "7339ecaf-7028-4dbd-f689-8a4951da6820"
      },
      "execution_count": 131,
      "outputs": [
        {
          "output_type": "stream",
          "name": "stdout",
          "text": [
            "비비빅\n",
            "재고:  3 개\n"
          ]
        }
      ]
    },
    {
      "cell_type": "code",
      "source": [
        "'''\n",
        "094 딕셔너리 추가\n",
        "inventory 딕셔너리에 아래 데이터를 추가하라.\n",
        "'''\n",
        "inventory = {\"메로나\": [300, 20],\n",
        "              \"비비빅\": [400, 3],\n",
        "              \"죠스바\": [250, 100]}\n",
        "inventory[\"월드콘\"] = [500, 7]\n",
        "print(inventory)"
      ],
      "metadata": {
        "colab": {
          "base_uri": "https://localhost:8080/"
        },
        "id": "bPYpTkMXCMD_",
        "outputId": "929bb640-23e9-4260-adeb-4f7a7692f986"
      },
      "execution_count": 132,
      "outputs": [
        {
          "output_type": "stream",
          "name": "stdout",
          "text": [
            "{'메로나': [300, 20], '비비빅': [400, 3], '죠스바': [250, 100], '월드콘': [500, 7]}\n"
          ]
        }
      ]
    },
    {
      "cell_type": "markdown",
      "source": [
        "#### keys 메서드: 딕셔너리이름.keys()"
      ],
      "metadata": {
        "id": "ju6kU5fxC3wN"
      }
    },
    {
      "cell_type": "code",
      "source": [
        "'''\n",
        "095 딕셔너리 keys() 메서드\n",
        "다음의 딕셔너리로부터 key 값으로만 구성된 리스트를 생성하라.\n",
        "'''\n",
        "icecream = {'탱크보이': 1200, '폴라포': 1200, '빵빠레': 1800, '월드콘': 1500, '메로나': 1000}\n",
        "name_ices = list(icecream.keys())\n",
        "print(name_ices)"
      ],
      "metadata": {
        "colab": {
          "base_uri": "https://localhost:8080/"
        },
        "id": "tabQh3tbCZ24",
        "outputId": "9cc7cdad-a93f-4739-980e-3194681e729b"
      },
      "execution_count": 136,
      "outputs": [
        {
          "output_type": "stream",
          "name": "stdout",
          "text": [
            "['탱크보이', '폴라포', '빵빠레', '월드콘', '메로나']\n"
          ]
        }
      ]
    },
    {
      "cell_type": "markdown",
      "source": [
        "#### values 메서드: 딕셔너리이름.values()"
      ],
      "metadata": {
        "id": "JcciS2fTDHfX"
      }
    },
    {
      "cell_type": "code",
      "source": [
        "'''\n",
        "096 딕셔너리 values() 메서드\n",
        "다음의 딕셔너리에서 values 값으로만 구성된 리스트를 생성하라.\n",
        "'''\n",
        "icecream = {'탱크보이': 1200, '폴라포': 1200, '빵빠레': 1800, '월드콘': 1500, '메로나': 1000}\n",
        "prices = list(icecream.values())\n",
        "print(prices)"
      ],
      "metadata": {
        "colab": {
          "base_uri": "https://localhost:8080/"
        },
        "id": "wPV5POI6C1jh",
        "outputId": "80e9ef60-5423-4b4e-af71-389961359a2e"
      },
      "execution_count": 137,
      "outputs": [
        {
          "output_type": "stream",
          "name": "stdout",
          "text": [
            "[1200, 1200, 1800, 1500, 1000]\n"
          ]
        }
      ]
    },
    {
      "cell_type": "code",
      "source": [
        "'''\n",
        "097 딕셔너리 values() 메서드\n",
        "icecream 딕셔너리에서 아이스크림 판매 금액의 총합을 출력하라.\n",
        "'''\n",
        "sum(icecream.values())"
      ],
      "metadata": {
        "colab": {
          "base_uri": "https://localhost:8080/"
        },
        "id": "-pc-tohTDSK4",
        "outputId": "fe4f68c1-c539-4218-99e8-ef998e09d55c"
      },
      "execution_count": 140,
      "outputs": [
        {
          "output_type": "execute_result",
          "data": {
            "text/plain": [
              "6700"
            ]
          },
          "metadata": {},
          "execution_count": 140
        }
      ]
    },
    {
      "cell_type": "code",
      "source": [
        "'''\n",
        "098 딕셔너리 update 메서드\n",
        "아래의 new_product 딕셔너리를 다음 icecream 딕셔너리에 추가하라.\n",
        "'''\n",
        "icecream = {'탱크보이': 1200, '폴라포': 1200, '빵빠레': 1800, '월드콘': 1500, '메로나': 1000}\n",
        "new_product = {'팥빙수':2700, '아맛나':1000}\n",
        "icecream.update(new_product)\n",
        "print(icecream)"
      ],
      "metadata": {
        "colab": {
          "base_uri": "https://localhost:8080/"
        },
        "id": "fqAasQF0Dm5g",
        "outputId": "e044e615-8ce6-45db-c0b7-cd3d3d9f9835"
      },
      "execution_count": 141,
      "outputs": [
        {
          "output_type": "stream",
          "name": "stdout",
          "text": [
            "{'탱크보이': 1200, '폴라포': 1200, '빵빠레': 1800, '월드콘': 1500, '메로나': 1000, '팥빙수': 2700, '아맛나': 1000}\n"
          ]
        }
      ]
    },
    {
      "cell_type": "markdown",
      "source": [
        "#### tuple 두개로 디셔너리 만들기: zip(), dict()\n",
        "- for 문으로 할 수도 있을 것 같은데... 아직은 안되네"
      ],
      "metadata": {
        "id": "pSNZM_S8E_jK"
      }
    },
    {
      "cell_type": "code",
      "source": [
        "'''099 zip과 dict\n",
        "아래 두 개의 튜플을 하나의 딕셔너리로 변환하라. keys를 키로, vals를 값으로 result 이름의 딕셔너리로 저장한다.\n",
        "'''\n",
        "keys = (\"apple\", \"pear\", \"peach\")\n",
        "vals = (300, 250, 400)\n",
        "\n",
        "result = dict(zip(keys, vals))\n",
        "print(result, type(result))"
      ],
      "metadata": {
        "colab": {
          "base_uri": "https://localhost:8080/"
        },
        "id": "yGGFxazZDxp4",
        "outputId": "364a2790-84a3-42b0-84eb-c0a0bb206066"
      },
      "execution_count": 145,
      "outputs": [
        {
          "output_type": "stream",
          "name": "stdout",
          "text": [
            "{'apple': 300, 'pear': 250, 'peach': 400} <class 'dict'>\n"
          ]
        }
      ]
    },
    {
      "cell_type": "code",
      "source": [
        "'''100 zip과 dict\n",
        "date와 close_price 두 개의 리스트를 close_table 이름의 딕셔너리로 생성하라.\n",
        "'''\n",
        "date = ['09/05', '09/06', '09/07', '09/08', '09/09']\n",
        "close_price = [10500, 10300, 10100, 10800, 11000]\n",
        "close_table = dict(zip(date, close_price))\n",
        "print(close_table, type(close_table))"
      ],
      "metadata": {
        "colab": {
          "base_uri": "https://localhost:8080/"
        },
        "id": "W-UbXl_TErph",
        "outputId": "e49ff4cc-79f5-4426-85e3-5f58df21f8a3"
      },
      "execution_count": 146,
      "outputs": [
        {
          "output_type": "stream",
          "name": "stdout",
          "text": [
            "{'09/05': 10500, '09/06': 10300, '09/07': 10100, '09/08': 10800, '09/09': 11000} <class 'dict'>\n"
          ]
        }
      ]
    }
  ]
}
