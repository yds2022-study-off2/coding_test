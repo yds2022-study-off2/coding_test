{
 "cells": [
  {
   "cell_type": "code",
   "execution_count": 1,
   "id": "563e6a8a",
   "metadata": {},
   "outputs": [],
   "source": [
    "#101 파이썬에서 True 혹은 False를 갖는 데이터 타입은 무엇인가?\n",
    "#boolean"
   ]
  },
  {
   "cell_type": "code",
   "execution_count": 2,
   "id": "8167ba3a",
   "metadata": {},
   "outputs": [
    {
     "name": "stdout",
     "output_type": "stream",
     "text": [
      "False\n"
     ]
    },
    {
     "data": {
      "text/plain": [
       "False"
      ]
     },
     "execution_count": 2,
     "metadata": {},
     "output_type": "execute_result"
    }
   ],
   "source": [
    "#102 아래 코드의 출력 결과를 예상하라\n",
    "\n",
    "print(3 == 5)\n",
    "\n",
    "False"
   ]
  },
  {
   "cell_type": "code",
   "execution_count": 3,
   "id": "26ec4249",
   "metadata": {},
   "outputs": [
    {
     "name": "stdout",
     "output_type": "stream",
     "text": [
      "True\n"
     ]
    },
    {
     "data": {
      "text/plain": [
       "True"
      ]
     },
     "execution_count": 3,
     "metadata": {},
     "output_type": "execute_result"
    }
   ],
   "source": [
    "#103 아래 코드의 출력 결과를 예상하라\n",
    "\n",
    "print(3 < 5)\n",
    "\n",
    "True"
   ]
  },
  {
   "cell_type": "code",
   "execution_count": 4,
   "id": "fa2b1420",
   "metadata": {},
   "outputs": [
    {
     "name": "stdout",
     "output_type": "stream",
     "text": [
      "True\n"
     ]
    },
    {
     "data": {
      "text/plain": [
       "True"
      ]
     },
     "execution_count": 4,
     "metadata": {},
     "output_type": "execute_result"
    }
   ],
   "source": [
    "#104 아래 코드의 결과를 예상하라.\n",
    "\n",
    "x = 4\n",
    "print(1 < x < 5)\n",
    "\n",
    "True"
   ]
  },
  {
   "cell_type": "code",
   "execution_count": 5,
   "id": "829bb566",
   "metadata": {},
   "outputs": [
    {
     "ename": "SyntaxError",
     "evalue": "invalid syntax (4219145655.py, line 3)",
     "output_type": "error",
     "traceback": [
      "\u001b[1;36m  Input \u001b[1;32mIn [5]\u001b[1;36m\u001b[0m\n\u001b[1;33m    print(3 => 4)\u001b[0m\n\u001b[1;37m             ^\u001b[0m\n\u001b[1;31mSyntaxError\u001b[0m\u001b[1;31m:\u001b[0m invalid syntax\n"
     ]
    }
   ],
   "source": [
    "#106 아래 코드에서 에러가 발생하는 원인에 대해 설명하라.\n",
    "\n",
    "print(3 => 4)\n",
    "\n",
    "#3이 4보다 크지 않은게 이유라면 False가 출력돼야하는데 왜 에러가 나지?\n",
    "##지원하지 않는 연산자입니다. 크거나 같은지 물을땐 >=, 작거나 같은지 물을땐<= 로 적어야 함."
   ]
  },
  {
   "cell_type": "code",
   "execution_count": 7,
   "id": "5f692c67",
   "metadata": {},
   "outputs": [
    {
     "name": "stdout",
     "output_type": "stream",
     "text": [
      "1\n",
      "2\n",
      "4\n"
     ]
    }
   ],
   "source": [
    "#109 아래 코드의 출력 결과를 예상하라\n",
    "\n",
    "if True :\n",
    "    print (\"1\")\n",
    "    print (\"2\")\n",
    "else :\n",
    "    print(\"3\")\n",
    "print(\"4\")\n",
    "\n",
    "#1,2,4가 출력된다. 분기문이 True이기 때문에 조건에 맞는 1,2가 출력되고, 분기문 밖에 있는 4가 다음으로 출력된다."
   ]
  },
  {
   "cell_type": "code",
   "execution_count": 8,
   "id": "9eb15ad0",
   "metadata": {},
   "outputs": [
    {
     "name": "stdout",
     "output_type": "stream",
     "text": [
      "안녕하세요\n",
      "안녕하세요안녕하세요\n"
     ]
    }
   ],
   "source": [
    "#111 사용자로부터 입력받은 문자열을 두 번 출력하라. 아래는 사용자가 \"안녕하세요\"를 입력한 경우의 출력 결과이다.\n",
    "\n",
    "print(input()*2)"
   ]
  },
  {
   "cell_type": "code",
   "execution_count": 12,
   "id": "27b1365e",
   "metadata": {},
   "outputs": [
    {
     "name": "stdout",
     "output_type": "stream",
     "text": [
      "3\n",
      "13\n"
     ]
    }
   ],
   "source": [
    "#112 사용자로부터 하나의 숫자를 입력받고, 입력 받은 숫자에 10을 더해 출력하라.\n",
    "print(int(input()) +10)"
   ]
  },
  {
   "cell_type": "code",
   "execution_count": 11,
   "id": "2ae806ed",
   "metadata": {},
   "outputs": [
    {
     "name": "stdout",
     "output_type": "stream",
     "text": [
      "3\n"
     ]
    },
    {
     "data": {
      "text/plain": [
       "str"
      ]
     },
     "execution_count": 11,
     "metadata": {},
     "output_type": "execute_result"
    }
   ],
   "source": [
    "type(input()) #input()함수의 type은 str이다."
   ]
  },
  {
   "cell_type": "code",
   "execution_count": 16,
   "id": "087daecf",
   "metadata": {},
   "outputs": [
    {
     "name": "stdout",
     "output_type": "stream",
     "text": [
      "2\n",
      "2은/는 짝수\n"
     ]
    }
   ],
   "source": [
    "#113사용자로부터 하나의 숫자를 입력 받고 짝수/홀수를 판별하라.\n",
    "\n",
    "a = int(input())\n",
    "\n",
    "if a % 2 == 0:\n",
    "    print(f\"{a}은/는 짝수\")\n",
    "else:\n",
    "    print(f\"{a}은/는 홀수\")"
   ]
  },
  {
   "cell_type": "code",
   "execution_count": 18,
   "id": "b43253da",
   "metadata": {},
   "outputs": [
    {
     "name": "stdout",
     "output_type": "stream",
     "text": [
      "20\n",
      "40\n"
     ]
    }
   ],
   "source": [
    "'''114사용자로부터 값을 입력받은 후 해당 값에 20을 더한 값을 출력하라. \n",
    "단 사용자가 입력한 값과 20을 더한 계산 값이 255를 초과하는 경우 255를 출력해야 한다.'''\n",
    "a = int(input())\n",
    "\n",
    "if a + 20 < 255:\n",
    "    print(a+20)\n",
    "else:\n",
    "    print(255)"
   ]
  },
  {
   "cell_type": "code",
   "execution_count": 21,
   "id": "3d9dc591",
   "metadata": {},
   "outputs": [
    {
     "name": "stdout",
     "output_type": "stream",
     "text": [
      "355\n",
      "255\n"
     ]
    }
   ],
   "source": [
    "''' 115 사용자로부터 하나의 값을 입력받은 후 해당 값에 20을 뺀 값을 출력하라. 단 출력 값의 범위는 0~255이다. \n",
    "예를 들어 결괏값이 0보다 작은 값이되는 경우 0을 출력하고 255보다 큰 값이 되는 경우 255를 출력해야 한다.'''\n",
    "\n",
    "a = int(input()) - 20\n",
    "\n",
    "if 0 <= a <= 255:\n",
    "    print(a)\n",
    "elif a < 0:\n",
    "    print(0)\n",
    "elif a> 255:\n",
    "    print(255)"
   ]
  },
  {
   "cell_type": "code",
   "execution_count": 25,
   "id": "e59eb79a",
   "metadata": {},
   "outputs": [
    {
     "name": "stdout",
     "output_type": "stream",
     "text": [
      "현재 시각: 12:00\n",
      "정각입니다\n"
     ]
    }
   ],
   "source": [
    "#116 사용자로부터 입력 받은 시간이 정각인지 판별하라.\n",
    "\n",
    "a = input(\"현재 시각: \")\n",
    "a,b = a.split(\":\")\n",
    "\n",
    "if b == \"00\":\n",
    "    print(\"정각입니다\")\n",
    "else:\n",
    "    print(\"정각이 아닙니다\")\n",
    "    \n",
    "#답안에는 [-2:] 슬라이싱을 이용했다."
   ]
  },
  {
   "cell_type": "code",
   "execution_count": 27,
   "id": "435782bb",
   "metadata": {},
   "outputs": [
    {
     "name": "stdout",
     "output_type": "stream",
     "text": [
      "귤\n",
      "오답입니다\n"
     ]
    }
   ],
   "source": [
    "#117 사용자로 입력받은 단어가 아래 fruit 리스트에 포함되어 있는지를 확인하라. 포함되었다면 \"정답입니다\"를 아닐 경우 \"오답입니다\" 출력하라.\n",
    "\n",
    "fruit = [\"사과\", \"포도\", \"홍시\"]\n",
    "\n",
    "f = input()\n",
    "if f in fruit:\n",
    "    print(\"정답입니다\")\n",
    "else:\n",
    "    print(\"오답입니다\")"
   ]
  },
  {
   "cell_type": "code",
   "execution_count": 29,
   "id": "08a4cae1",
   "metadata": {},
   "outputs": [
    {
     "name": "stdout",
     "output_type": "stream",
     "text": [
      "Microsoft\n",
      "투자 경고 종목입니다\n"
     ]
    }
   ],
   "source": [
    "#118 투자 경고 종목 리스트가 있을 때 사용자로부터 종목명을 입력 받은 후 해당 종목이 투자 경고 종목이라면 '투자 경고 종목입니다'를 아니면 \"투자 경고 종목이 아닙니다.\"를 출력하는 프로그램을 작성하라.\n",
    "\n",
    "warn_investment_list = [\"Microsoft\", \"Google\", \"Naver\", \"Kakao\", \"SAMSUNG\", \"LG\"]\n",
    "\n",
    "w = input()\n",
    "\n",
    "if w in warn_investment_list:\n",
    "    print(\"투자 경고 종목입니다\")\n",
    "else:\n",
    "    print(\"투자 경고 종목이 아닙니다\")"
   ]
  },
  {
   "cell_type": "code",
   "execution_count": 40,
   "id": "b0b85dca",
   "metadata": {},
   "outputs": [
    {
     "name": "stdout",
     "output_type": "stream",
     "text": [
      "여름\n",
      "정답입니다\n"
     ]
    }
   ],
   "source": [
    "#119 아래와 같이 fruit 딕셔너리가 정의되어 있다. 사용자가 입력한 값이 딕셔너리 키 (key) 값에 포함되었다면 \"정답입니다\"를 아닐 경우 \"오답입니다\" 출력하라.\n",
    "\n",
    "fruit = {\"봄\" : \"딸기\", \"여름\" : \"토마토\", \"가을\" : \"사과\"}\n",
    "\n",
    "f = input()\n",
    "if f in fruit:\n",
    "    print(\"정답입니다\")\n",
    "else:\n",
    "    print(\"오답입니다\")\n",
    "    \n",
    "#fruit.keys() 함수를 사용하지 않았는데 알아서 key와 매칭이 됐다."
   ]
  },
  {
   "cell_type": "code",
   "execution_count": 39,
   "id": "efb72371",
   "metadata": {},
   "outputs": [
    {
     "name": "stdout",
     "output_type": "stream",
     "text": [
      "봄\n",
      "오답입니다\n"
     ]
    }
   ],
   "source": [
    "#120 아래와 같이 fruit 딕셔너리가 정의되어 있다. 사용자가 입력한 값이 딕셔너리 값 (value)에 포함되었다면 \"정답입니다\"를 아닐 경우 \"오답입니다\" 출력하라.\n",
    "\n",
    "fruit = {\"봄\" : \"딸기\", \"여름\" : \"토마토\", \"가을\" : \"사과\"}\n",
    "fruit2 = list(fruit.values())\n",
    "\n",
    "f = input()\n",
    "\n",
    "if f in fruit2:\n",
    "    print(\"정답입니다\")\n",
    "else:\n",
    "    print(\"오답입니다\")"
   ]
  },
  {
   "cell_type": "code",
   "execution_count": 45,
   "id": "51b19b3b",
   "metadata": {},
   "outputs": [
    {
     "name": "stdout",
     "output_type": "stream",
     "text": [
      "LA\n",
      "la\n"
     ]
    }
   ],
   "source": [
    "#121 사용자로부터 문자 한 개를 입력 받고, 소문자일 경우 대문자로, 대문자 일 경우, 소문자로 변경해서 출력하라.\n",
    "a = input()\n",
    "if a.islower() == True:\n",
    "    print(a.upper())\n",
    "else:\n",
    "    print(a.lower())\n",
    "    \n",
    "#islower()함수와, upper(), lower()함수를 사용할 때, 변수.함수() 형태로 사용하는 것을 알았다."
   ]
  },
  {
   "cell_type": "code",
   "execution_count": 46,
   "id": "1aec201a",
   "metadata": {},
   "outputs": [
    {
     "name": "stdout",
     "output_type": "stream",
     "text": [
      "score: 0\n",
      "grade is F\n"
     ]
    }
   ],
   "source": [
    "#122 점수 구간에 해당하는 학점이 아래와 같이 정의되어 있다. 사용자로부터 score를 입력받아 학점을 출력하라.\n",
    "a = int(input(\"score: \"))\n",
    "\n",
    "if 80< a <=100:\n",
    "    print(\"grade is A\")\n",
    "elif 60< a <=80:\n",
    "    print(\"grade is B\")\n",
    "elif 40< a <=60:\n",
    "    print(\"grade is C\")\n",
    "elif 20< a <=40:\n",
    "    print(\"grade is D\")\n",
    "elif 0<= a <=20:\n",
    "    print(\"grade is F\")\n",
    "    \n",
    "    "
   ]
  },
  {
   "cell_type": "code",
   "execution_count": 69,
   "id": "ceae8eb6",
   "metadata": {},
   "outputs": [
    {
     "name": "stdout",
     "output_type": "stream",
     "text": [
      "100 엔\n",
      "109.60000000000001 원\n"
     ]
    }
   ],
   "source": [
    "#123사용자로부터 달러, 엔, 유로, 또는 위안 금액을 입력받은 후 이를 원으로 변환하는 프로그램을 작성하라. \n",
    "#각 통화별 환율은 다음과 같다. 사용자는 100 달러, 1000 엔, 13 유로, 100 위안과 같이 금액과 통화명 사이에 공백을 넣어 입력한다고 가정한다.\n",
    "\n",
    "i = input()\n",
    "a,b = i.split(\" \")\n",
    "a = int(a)\n",
    "\n",
    "if b == \"달러\":\n",
    "    print(1167 * a , \"원\")\n",
    "elif b == \"엔\":\n",
    "    print(1.096 * a , \"원\")\n",
    "elif b == \"유로\":\n",
    "    print(1268* a , \"원\")\n",
    "else:\n",
    "    print(a * 171,\"원\")\n",
    "    \n",
    "#분기문이 아니라 dictionary로 #128키와 값을 연결하는것, 타입을 float으로 하는것, \"원\" 앞에 쉼표 넣는것."
   ]
  },
  {
   "cell_type": "code",
   "execution_count": 73,
   "id": "f28bc7be",
   "metadata": {},
   "outputs": [
    {
     "name": "stdout",
     "output_type": "stream",
     "text": [
      "휴대전화 번호 입력: 011-4535-3244\n",
      "당신은 SKT 사용자입니다.\n"
     ]
    }
   ],
   "source": [
    "#125 휴대폰 번호 앞자리에 따라 통신사는 아래와 같이 구분된다. \n",
    "#사용자로부터 휴대전화 번호를 입력 받고, 통신사를 출력하는 프로그램을 작성하라.\n",
    "\n",
    "tel = {\"011\":\"SKT\", \"016\":\"KT\", \"019\":\"LGU\", \"010\": \"알수없음\"}\n",
    "\n",
    "a = input(\"휴대전화 번호 입력: \")\n",
    "b = a.split(\"-\")\n",
    "c = b[0]\n",
    "\n",
    "print(f\"당신은 {tel[c]} 사용자입니다.\")\n",
    "\n",
    "#번호 앞자리를 문자열로 처리해야함, split()함수 뒤에 슬라이싱 할 수 있음.\n",
    "#답안에서는 분기문 사용."
   ]
  },
  {
   "cell_type": "code",
   "execution_count": 80,
   "id": "934b4d58",
   "metadata": {},
   "outputs": [
    {
     "name": "stdout",
     "output_type": "stream",
     "text": [
      "우편번호: 56783\n",
      "도봉구\n"
     ]
    }
   ],
   "source": [
    "#126 우편번호는 5자리로 구성되는데, 앞의 세자리는 구를 나타낸다. 예를들어, 강북구의 경우 010, 011, 012 세 자리로 시작한다.\n",
    "\n",
    "구 = {\"0\":\"강북구\" , \"1\":\"강북구\" , \"2\":\"강북구\" , \"3\":\"도봉구\" , \"4\":\"도봉구\" , \"5\":\"도봉구\" , \"6\":\"노원구\" , \"7\":\"노원구\" , \"8\":\"노원구\" , \"9\":\"노원구\" ,}\n",
    "\n",
    "a = input(\"우편번호: \")[0]\n",
    "\n",
    "print(구[a])\n",
    "\n",
    "#input()함수의 결과값이 항상 문자열이기 때문에 키값을 str으로 바꿔야한다."
   ]
  },
  {
   "cell_type": "code",
   "execution_count": 82,
   "id": "731f8451",
   "metadata": {},
   "outputs": [
    {
     "name": "stdout",
     "output_type": "stream",
     "text": [
      "493853-1038544\n",
      "남자\n"
     ]
    },
    {
     "data": {
      "text/plain": [
       "str"
      ]
     },
     "execution_count": 82,
     "metadata": {},
     "output_type": "execute_result"
    }
   ],
   "source": [
    "#127주민등록번호 뒷 자리 7자리 중 첫째 자리는 성별을 나타내는데, 1, 3은 남자 2, 4는 여자를 의미한다. \n",
    "#사용자로부터 13자리의 주민등록번호를 입력 받은 후 성별 (남자, 여자)를 출력하는 프로그램을 작성하라.\n",
    "\n",
    "a = input()\n",
    "a, b = a.split(\"-\")\n",
    "\n",
    "if b[0] == \"1\" or \"3\":\n",
    "    print(\"남자\")\n",
    "else:\n",
    "    print(\"여자\")\n",
    "    \n",
    "#input() 결과값 str인거 자꾸 까먹지 말기"
   ]
  },
  {
   "cell_type": "code",
   "execution_count": 95,
   "id": "f37e0b11",
   "metadata": {},
   "outputs": [
    {
     "name": "stdout",
     "output_type": "stream",
     "text": [
      "주민등록번호: 333333-11233333\n",
      "부산 입니다.\n"
     ]
    }
   ],
   "source": [
    "#128주민등록번호의 뒷 자리 7자리 중 두번째와 세번째는 지역코드를 의미한다. \n",
    "#주민 등록 번호를 입력 받은 후 출생지가 서울인지 아닌지 판단하는 코드를 작성하라\n",
    "\n",
    "num = input(\"주민등록번호: \")\n",
    "num = num.split(\"-\")[1]\n",
    "\n",
    "\n",
    "if num[1:3] in [\"00\",\"01\",\"02\",\"03\",\"04\",\"05\",\"06\",\"07\",\"08\"]:\n",
    "        print(\"서울 입니다.\")\n",
    "elif num[2] == \"9\":\n",
    "        print(\"부산입니다.\")\n",
    "elif num[1:3] in [\"10\",\"11\",\"12\"]:\n",
    "        print(\"부산 입니다.\")\n",
    "else:\n",
    "    print(\"서울이 아닙니다.\")\n",
    "        \n",
    "\n",
    "#답안: num을 int로 바꿔서 비교연산자로 처리함        "
   ]
  },
  {
   "cell_type": "code",
   "execution_count": 125,
   "id": "3a3b3794",
   "metadata": {},
   "outputs": [
    {
     "ename": "KeyboardInterrupt",
     "evalue": "Interrupted by user",
     "output_type": "error",
     "traceback": [
      "\u001b[1;31m---------------------------------------------------------------------------\u001b[0m",
      "\u001b[1;31mKeyboardInterrupt\u001b[0m                         Traceback (most recent call last)",
      "Input \u001b[1;32mIn [125]\u001b[0m, in \u001b[0;36m<cell line: 4>\u001b[1;34m()\u001b[0m\n\u001b[0;32m      1\u001b[0m \u001b[38;5;66;03m#129주민등록번호는 13자리로 구성되는데 마지막 자리수는 주민등록번호의 유효성을 체크하는데 사용된다. \u001b[39;00m\n\u001b[0;32m      2\u001b[0m \u001b[38;5;66;03m#먼저 앞에서부터 12자리의 숫자에 2, 3, 4, 5, 6, 7, 8, 9, 2, 3, 4, 5를 차례로 곱한 뒤 그 값을 전부 더한다. 연산 결과 값을 11로 나누면 나머지가 나오는데 11에서 나머지를 뺀 값이 주민등록번호의 마지막 번호가 된다.\u001b[39;00m\n\u001b[0;32m      3\u001b[0m \u001b[38;5;66;03m#주민번호 하나씩 리스트에 넣어서, for문으로 곱하고 더한 다음, 마지막 결과를 11로 나눈 나머지를, 11에서 뺀 값이 주민등록번호 마지막 숫자.\u001b[39;00m\n\u001b[1;32m----> 4\u001b[0m a \u001b[38;5;241m=\u001b[39m \u001b[38;5;28;43minput\u001b[39;49m\u001b[43m(\u001b[49m\u001b[43m)\u001b[49m\n\u001b[0;32m      5\u001b[0m a \u001b[38;5;241m=\u001b[39m a\u001b[38;5;241m.\u001b[39msplit(\u001b[38;5;124m\"\u001b[39m\u001b[38;5;124m-\u001b[39m\u001b[38;5;124m\"\u001b[39m)\n\u001b[0;32m      6\u001b[0m list1 \u001b[38;5;241m=\u001b[39m \u001b[38;5;28mlist\u001b[39m(a[\u001b[38;5;241m0\u001b[39m][\u001b[38;5;241m0\u001b[39m:\u001b[38;5;241m7\u001b[39m])\n",
      "File \u001b[1;32m~\\miniforge3\\envs\\fastcampus\\lib\\site-packages\\ipykernel\\kernelbase.py:1161\u001b[0m, in \u001b[0;36mKernel.raw_input\u001b[1;34m(self, prompt)\u001b[0m\n\u001b[0;32m   1157\u001b[0m \u001b[38;5;28;01mif\u001b[39;00m \u001b[38;5;129;01mnot\u001b[39;00m \u001b[38;5;28mself\u001b[39m\u001b[38;5;241m.\u001b[39m_allow_stdin:\n\u001b[0;32m   1158\u001b[0m     \u001b[38;5;28;01mraise\u001b[39;00m StdinNotImplementedError(\n\u001b[0;32m   1159\u001b[0m         \u001b[38;5;124m\"\u001b[39m\u001b[38;5;124mraw_input was called, but this frontend does not support input requests.\u001b[39m\u001b[38;5;124m\"\u001b[39m\n\u001b[0;32m   1160\u001b[0m     )\n\u001b[1;32m-> 1161\u001b[0m \u001b[38;5;28;01mreturn\u001b[39;00m \u001b[38;5;28;43mself\u001b[39;49m\u001b[38;5;241;43m.\u001b[39;49m\u001b[43m_input_request\u001b[49m\u001b[43m(\u001b[49m\n\u001b[0;32m   1162\u001b[0m \u001b[43m    \u001b[49m\u001b[38;5;28;43mstr\u001b[39;49m\u001b[43m(\u001b[49m\u001b[43mprompt\u001b[49m\u001b[43m)\u001b[49m\u001b[43m,\u001b[49m\n\u001b[0;32m   1163\u001b[0m \u001b[43m    \u001b[49m\u001b[38;5;28;43mself\u001b[39;49m\u001b[38;5;241;43m.\u001b[39;49m\u001b[43m_parent_ident\u001b[49m\u001b[43m[\u001b[49m\u001b[38;5;124;43m\"\u001b[39;49m\u001b[38;5;124;43mshell\u001b[39;49m\u001b[38;5;124;43m\"\u001b[39;49m\u001b[43m]\u001b[49m\u001b[43m,\u001b[49m\n\u001b[0;32m   1164\u001b[0m \u001b[43m    \u001b[49m\u001b[38;5;28;43mself\u001b[39;49m\u001b[38;5;241;43m.\u001b[39;49m\u001b[43mget_parent\u001b[49m\u001b[43m(\u001b[49m\u001b[38;5;124;43m\"\u001b[39;49m\u001b[38;5;124;43mshell\u001b[39;49m\u001b[38;5;124;43m\"\u001b[39;49m\u001b[43m)\u001b[49m\u001b[43m,\u001b[49m\n\u001b[0;32m   1165\u001b[0m \u001b[43m    \u001b[49m\u001b[43mpassword\u001b[49m\u001b[38;5;241;43m=\u001b[39;49m\u001b[38;5;28;43;01mFalse\u001b[39;49;00m\u001b[43m,\u001b[49m\n\u001b[0;32m   1166\u001b[0m \u001b[43m\u001b[49m\u001b[43m)\u001b[49m\n",
      "File \u001b[1;32m~\\miniforge3\\envs\\fastcampus\\lib\\site-packages\\ipykernel\\kernelbase.py:1205\u001b[0m, in \u001b[0;36mKernel._input_request\u001b[1;34m(self, prompt, ident, parent, password)\u001b[0m\n\u001b[0;32m   1202\u001b[0m             \u001b[38;5;28;01mbreak\u001b[39;00m\n\u001b[0;32m   1203\u001b[0m \u001b[38;5;28;01mexcept\u001b[39;00m \u001b[38;5;167;01mKeyboardInterrupt\u001b[39;00m:\n\u001b[0;32m   1204\u001b[0m     \u001b[38;5;66;03m# re-raise KeyboardInterrupt, to truncate traceback\u001b[39;00m\n\u001b[1;32m-> 1205\u001b[0m     \u001b[38;5;28;01mraise\u001b[39;00m \u001b[38;5;167;01mKeyboardInterrupt\u001b[39;00m(\u001b[38;5;124m\"\u001b[39m\u001b[38;5;124mInterrupted by user\u001b[39m\u001b[38;5;124m\"\u001b[39m) \u001b[38;5;28;01mfrom\u001b[39;00m \u001b[38;5;28mNone\u001b[39m\n\u001b[0;32m   1206\u001b[0m \u001b[38;5;28;01mexcept\u001b[39;00m \u001b[38;5;167;01mException\u001b[39;00m:\n\u001b[0;32m   1207\u001b[0m     \u001b[38;5;28mself\u001b[39m\u001b[38;5;241m.\u001b[39mlog\u001b[38;5;241m.\u001b[39mwarning(\u001b[38;5;124m\"\u001b[39m\u001b[38;5;124mInvalid Message:\u001b[39m\u001b[38;5;124m\"\u001b[39m, exc_info\u001b[38;5;241m=\u001b[39m\u001b[38;5;28;01mTrue\u001b[39;00m)\n",
      "\u001b[1;31mKeyboardInterrupt\u001b[0m: Interrupted by user"
     ]
    }
   ],
   "source": [
    "#129주민등록번호는 13자리로 구성되는데 마지막 자리수는 주민등록번호의 유효성을 체크하는데 사용된다. \n",
    "#먼저 앞에서부터 12자리의 숫자에 2, 3, 4, 5, 6, 7, 8, 9, 2, 3, 4, 5를 차례로 곱한 뒤 그 값을 전부 더한다. 연산 결과 값을 11로 나누면 나머지가 나오는데 11에서 나머지를 뺀 값이 주민등록번호의 마지막 번호가 된다.\n",
    "#주민번호 하나씩 리스트에 넣어서, for문으로 곱하고 더한 다음, 마지막 결과를 11로 나눈 나머지를, 11에서 뺀 값이 주민등록번호 마지막 숫자.\n",
    "a = input()\n",
    "a = a.split(\"-\")\n",
    "list1 = list(a[0][0:7])\n",
    "list2 = list(a[1][0:8])\n",
    "num = list1 + list2\n",
    "i = list(map(int, num))\n",
    "j = [2, 3, 4, 5, 6, 7, 8, 9, 2, 3, 4, 5]\n",
    "r =  (i[0]*j[0] + i[1]*j[1] + i[2]*j[2] + i[3]*j[3] + i[4]*j[4] + i[5]*j[5] \\\n",
    "+ i[6]*j[6] + i[7]*j[7] + i[8]*j[8] + i[9]*j[9] + i[10]*j[10] + i[11]*j[11]) % 11\n",
    "    \n",
    "r = 11 - r\n",
    "\n",
    "if r == i[-1]:\n",
    "    pass\n",
    "else:\n",
    "    print(\"유효하지 않은 주민등록번호입니다.\")\n",
    "\n",
    "#r에 해당하는 부분을 for문으로 만들고 싶었는데, 방법을 몰라서 그냥 저렇게 함."
   ]
  },
  {
   "cell_type": "code",
   "execution_count": 126,
   "id": "4a034078",
   "metadata": {},
   "outputs": [
    {
     "ename": "ModuleNotFoundError",
     "evalue": "No module named 'requests'",
     "output_type": "error",
     "traceback": [
      "\u001b[1;31m---------------------------------------------------------------------------\u001b[0m",
      "\u001b[1;31mModuleNotFoundError\u001b[0m                       Traceback (most recent call last)",
      "Input \u001b[1;32mIn [126]\u001b[0m, in \u001b[0;36m<cell line: 4>\u001b[1;34m()\u001b[0m\n\u001b[0;32m      1\u001b[0m \u001b[38;5;66;03m#130 btc 딕셔너리 안에는 시가, 종가, 최고가, 최저가 등이 저장되어 있다. 최고가와 최저가의 차이를 변동폭으로 정의할 때 \u001b[39;00m\n\u001b[0;32m      2\u001b[0m \u001b[38;5;66;03m#(시가 + 변동폭)이 최고가 보다 높을 경우 \"상승장\", 그렇지 않은 경우 \"하락장\" 문자열을 출력하라.\u001b[39;00m\n\u001b[1;32m----> 4\u001b[0m \u001b[38;5;28;01mimport\u001b[39;00m \u001b[38;5;21;01mrequests\u001b[39;00m\n\u001b[0;32m      5\u001b[0m btc \u001b[38;5;241m=\u001b[39m requests\u001b[38;5;241m.\u001b[39mget(\u001b[38;5;124m\"\u001b[39m\u001b[38;5;124mhttps://api.bithumb.com/public/ticker/\u001b[39m\u001b[38;5;124m\"\u001b[39m)\u001b[38;5;241m.\u001b[39mjson()[\u001b[38;5;124m'\u001b[39m\u001b[38;5;124mdata\u001b[39m\u001b[38;5;124m'\u001b[39m]\n",
      "\u001b[1;31mModuleNotFoundError\u001b[0m: No module named 'requests'"
     ]
    }
   ],
   "source": [
    "#130 btc 딕셔너리 안에는 시가, 종가, 최고가, 최저가 등이 저장되어 있다. 최고가와 최저가의 차이를 변동폭으로 정의할 때 \n",
    "#(시가 + 변동폭)이 최고가 보다 높을 경우 \"상승장\", 그렇지 않은 경우 \"하락장\" 문자열을 출력하라.\n",
    "\n",
    "import requests\n",
    "btc = requests.get(\"https://api.bithumb.com/public/ticker/\").json()['data']\n",
    "\n",
    "변동폭 = int(btc['max_price'])-int(btc['min_price'])\n",
    "시가 = int(btc['opening_price'])\n",
    "최고가 = int(btc['max_price'])\n",
    "\n",
    "if 시가+변동폭 > 최고가:\n",
    "    print(\"상승장\")\n",
    "else:\n",
    "    print(\"하락장\")\n",
    "\n"
   ]
  },
  {
   "cell_type": "code",
   "execution_count": 127,
   "id": "2992d881",
   "metadata": {},
   "outputs": [
    {
     "name": "stdout",
     "output_type": "stream",
     "text": [
      "#####\n",
      "#####\n",
      "#####\n"
     ]
    }
   ],
   "source": [
    "#132 for문의 실행결과를 예측하라.\n",
    "\n",
    "과일 = [\"사과\", \"귤\", \"수박\"]\n",
    "for 변수 in 과일:\n",
    "  print(\"#####\")\n",
    "\n",
    "# \"####\"가 자료구조의 원소 개수만큼 출력되는건데, 순간 #이 wild card라고 착각했다."
   ]
  },
  {
   "cell_type": "code",
   "execution_count": 128,
   "id": "e4378a2c",
   "metadata": {},
   "outputs": [
    {
     "name": "stdout",
     "output_type": "stream",
     "text": [
      "A\n",
      "B\n",
      "C\n",
      "A\n",
      "B\n",
      "C\n"
     ]
    }
   ],
   "source": [
    "#133 다음 for 문과 동일한 기능을 수행하는 코드를 작성하세요.\n",
    "\n",
    "for 변수 in [\"A\", \"B\", \"C\"]:\n",
    "  print(변수)\n",
    "\n",
    "변수 = [\"A\", \"B\", \"C\"]\n",
    "print(변수[0])\n",
    "print(변수[1])\n",
    "print(변수[2])"
   ]
  },
  {
   "cell_type": "code",
   "execution_count": 130,
   "id": "206f828f",
   "metadata": {},
   "outputs": [
    {
     "name": "stdout",
     "output_type": "stream",
     "text": [
      "출력: A\n",
      "출력: B\n",
      "출력: C\n",
      "출력: A\n",
      "출력: B\n",
      "출력: C\n"
     ]
    }
   ],
   "source": [
    "#134 for문을 풀어서 동일한 동작을하는 코드를 작성하라.\n",
    "\n",
    "for 변수 in [\"A\", \"B\", \"C\"]:\n",
    "  print(\"출력:\", 변수)\n",
    "\n",
    "변수 = [\"A\", \"B\", \"C\"]\n",
    "print(\"출력:\", 변수[0])\n",
    "print(\"출력:\", 변수[1])\n",
    "print(\"출력:\", 변수[2])\n"
   ]
  },
  {
   "cell_type": "code",
   "execution_count": 131,
   "id": "b33f0397",
   "metadata": {},
   "outputs": [
    {
     "name": "stdout",
     "output_type": "stream",
     "text": [
      "10\n",
      "20\n",
      "30\n",
      "10\n",
      "20\n",
      "30\n"
     ]
    }
   ],
   "source": [
    "#136 다음 코드를 for문으로 작성하라.\n",
    "\n",
    "변수 = 10\n",
    "print(변수)\n",
    "변수 = 20\n",
    "print(변수)\n",
    "변수 = 30\n",
    "print(변수)\n",
    "\n",
    "for 변수 in [10, 20, 30]:\n",
    "    print(변수)"
   ]
  },
  {
   "cell_type": "code",
   "execution_count": 137,
   "id": "0d88e119",
   "metadata": {},
   "outputs": [
    {
     "name": "stdout",
     "output_type": "stream",
     "text": [
      "10\n",
      "-------\n",
      "20\n",
      "-------\n",
      "30\n",
      "-------\n",
      "10\n",
      "-------\n",
      "20\n",
      "-------\n",
      "30\n",
      "-------\n"
     ]
    }
   ],
   "source": [
    "#138 다음 코드를 for문으로 작성하라.\n",
    "\n",
    "print(10)\n",
    "print(\"-------\")\n",
    "print(20)\n",
    "print(\"-------\")\n",
    "print(30)\n",
    "print(\"-------\")\n",
    "\n",
    "for 변수 in [10, 20, 30]:\n",
    "    print(변수)\n",
    "    print(\"-------\")"
   ]
  },
  {
   "cell_type": "code",
   "execution_count": 140,
   "id": "39ed3909",
   "metadata": {},
   "outputs": [
    {
     "name": "stdout",
     "output_type": "stream",
     "text": [
      "++++\n",
      "10\n",
      "20\n",
      "30\n",
      "++++\n",
      "10\n",
      "20\n",
      "30\n"
     ]
    }
   ],
   "source": [
    "#139 다음 코드를 for문으로 작성하라.\n",
    "\n",
    "print(\"++++\")\n",
    "print(10)\n",
    "print(20)\n",
    "print(30)\n",
    "\n",
    "print(\"++++\")\n",
    "for 변수 in [10, 20, 30]:\n",
    "    print(변수)"
   ]
  },
  {
   "cell_type": "code",
   "execution_count": 142,
   "id": "8762b740",
   "metadata": {},
   "outputs": [
    {
     "name": "stdout",
     "output_type": "stream",
     "text": [
      "-------\n",
      "-------\n",
      "-------\n",
      "-------\n",
      "-------\n",
      "-------\n",
      "-------\n",
      "-------\n"
     ]
    }
   ],
   "source": [
    "#140 다음 코드를 for문으로 작성하라.\n",
    "\n",
    "print(\"-------\")\n",
    "print(\"-------\")\n",
    "print(\"-------\")\n",
    "print(\"-------\")\n",
    "\n",
    "for i in range(4):\n",
    "    print(\"-------\")\n",
    "    "
   ]
  },
  {
   "cell_type": "code",
   "execution_count": 143,
   "id": "a6444779",
   "metadata": {},
   "outputs": [
    {
     "name": "stdout",
     "output_type": "stream",
     "text": [
      "110\n",
      "210\n",
      "310\n"
     ]
    }
   ],
   "source": [
    "#141 다음과 같이 판매가가 저장된 리스트가 있을 때 부가세가 포함된 가격을 for 문을 사용해서 화면에 출력하라. \n",
    "#단 부가세는 10원으로 가정한다.\n",
    "\n",
    "리스트 = [100, 200, 300]\n",
    "\n",
    "for 변수 in 리스트:\n",
    "    print(변수 + 10)"
   ]
  },
  {
   "cell_type": "code",
   "execution_count": 144,
   "id": "490fca16",
   "metadata": {},
   "outputs": [
    {
     "name": "stdout",
     "output_type": "stream",
     "text": [
      "오늘의 메뉴:김밥\n",
      "오늘의 메뉴:라면\n",
      "오늘의 메뉴:튀김\n"
     ]
    }
   ],
   "source": [
    "#142 for 문을 사용해서 리스트에 저장된 값을 다음과 같이 출력하라.\n",
    "\n",
    "리스트 = [\"김밥\", \"라면\", \"튀김\"]\n",
    "\n",
    "for 메뉴 in 리스트:\n",
    "    print(\"오늘의 메뉴:\" + 메뉴)"
   ]
  },
  {
   "cell_type": "code",
   "execution_count": 147,
   "id": "0c588e79",
   "metadata": {},
   "outputs": [
    {
     "name": "stdout",
     "output_type": "stream",
     "text": [
      "6\n",
      "4\n",
      "4\n"
     ]
    }
   ],
   "source": [
    "#143 리스트에 주식 종목이름이 저장돼 있다.저장된 문자열의 길이를 다음과 같이 출력하라.\n",
    "\n",
    "리스트 = [\"SK하이닉스\", \"삼성전자\", \"LG전자\"]\n",
    "\n",
    "\n",
    "for i in 리스트:\n",
    "    print(len(i))"
   ]
  },
  {
   "cell_type": "code",
   "execution_count": 150,
   "id": "bdc840e2",
   "metadata": {},
   "outputs": [
    {
     "name": "stdout",
     "output_type": "stream",
     "text": [
      "dog: 3\n",
      "cat: 3\n",
      "parrot: 6\n"
     ]
    }
   ],
   "source": [
    "#144 리스트에는 동물이름이 문자열로 저장돼 있다.동물 이름과 글자수를 다음과 같이 출력하라.\n",
    "\n",
    "리스트 = ['dog', 'cat', 'parrot']\n",
    "\n",
    "for i in 리스트:\n",
    "    print(i+\":\", len(i))"
   ]
  },
  {
   "cell_type": "code",
   "execution_count": 151,
   "id": "9c601035",
   "metadata": {},
   "outputs": [
    {
     "name": "stdout",
     "output_type": "stream",
     "text": [
      "d\n",
      "c\n",
      "p\n"
     ]
    }
   ],
   "source": [
    "#145 리스트에 동물 이름 저장돼 있다.for문을 사용해서 동물 이름의 첫 글자만 출력하라.\n",
    "\n",
    "리스트 = ['dog', 'cat', 'parrot']\n",
    "\n",
    "for f in 리스트:\n",
    "    print(f[0])"
   ]
  },
  {
   "cell_type": "code",
   "execution_count": 152,
   "id": "fb3842c7",
   "metadata": {},
   "outputs": [
    {
     "name": "stdout",
     "output_type": "stream",
     "text": [
      "3 x 1\n",
      "3 x 2\n",
      "3 x 3\n"
     ]
    }
   ],
   "source": [
    "'''146 리스트에는 세 개의 숫자가 바인딩돼 있다.for문을 사용해서 다음과 같이 출력하라.\n",
    "\n",
    "3 x 1\n",
    "3 x 2\n",
    "3 x 3'''\n",
    "\n",
    "리스트 = [1, 2, 3]\n",
    "\n",
    "for i in 리스트:\n",
    "    print(3, \"x\",i)\n",
    "    \n",
    "#답안에 있는 문자열 연산 대신 쉼표와 겹따옴표로 출력했다."
   ]
  },
  {
   "cell_type": "code",
   "execution_count": 155,
   "id": "a06254c4",
   "metadata": {},
   "outputs": [
    {
     "name": "stdout",
     "output_type": "stream",
     "text": [
      "3 x 1 = 3\n",
      "3 x 2 = 6\n",
      "3 x 3 = 9\n",
      "3 x 1 = 3\n",
      "3 x 2 = 6\n",
      "3 x 3 = 9\n"
     ]
    }
   ],
   "source": [
    "'''147 리스트에는 세 개의 숫자가 바인딩돼 있다.for문을 사용해서 다음과 같이 출력하라.\n",
    "\n",
    "3 x 1 = 3\n",
    "3 x 2 = 6\n",
    "3 x 3 = 9'''\n",
    "\n",
    "리스트 = [1, 2, 3]\n",
    "\n",
    "for i in 리스트:\n",
    "    print(3, \"x\", i, \"=\", i*3)\n",
    "    \n",
    "for i in 리스트:\n",
    "    print(f\"3 x {i} = {i*3}\")"
   ]
  },
  {
   "cell_type": "code",
   "execution_count": 159,
   "id": "2ff8e585",
   "metadata": {},
   "outputs": [
    {
     "name": "stdout",
     "output_type": "stream",
     "text": [
      "나\n",
      "다\n",
      "라\n",
      "나\n",
      "다\n",
      "라\n"
     ]
    }
   ],
   "source": [
    "'''148 리스트에는 네 개의 문자열이 바인딩돼 있다. for문을 사용해서 다음과 같이 출력하라.\n",
    "나\n",
    "다\n",
    "라'''\n",
    "\n",
    "리스트 = [\"가\", \"나\", \"다\", \"라\"]\n",
    "\n",
    "for i in 리스트:\n",
    "    if i == \"가\":\n",
    "        pass\n",
    "    else:\n",
    "        print(i)\n",
    "        \n",
    "# in 리스트 뒤에 바로 슬라이싱을 해도 된다는 것을 알았다.        \n",
    "for i in 리스트[1:]:\n",
    "    print(i)"
   ]
  },
  {
   "cell_type": "code",
   "execution_count": 160,
   "id": "d4ac9ed9",
   "metadata": {},
   "outputs": [
    {
     "name": "stdout",
     "output_type": "stream",
     "text": [
      "가\n",
      "다\n"
     ]
    }
   ],
   "source": [
    "'''149 리스트에는 네 개의 문자열이 바인딩돼 있다. for문을 사용해서 다음과 같이 출력하라.\n",
    "\n",
    "가\n",
    "다'''\n",
    "리스트 = [\"가\", \"나\", \"다\", \"라\"]\n",
    "\n",
    "for i in 리스트[::2]:\n",
    "    print(i)\n"
   ]
  },
  {
   "cell_type": "code",
   "execution_count": 162,
   "id": "68e64cba",
   "metadata": {},
   "outputs": [
    {
     "name": "stdout",
     "output_type": "stream",
     "text": [
      "라\n",
      "다\n",
      "나\n",
      "가\n"
     ]
    }
   ],
   "source": [
    "'''150 리스트에는 네 개의 문자열이 바인딩돼 있다.for문을 사용해서 다음과 같이 출력하라.\n",
    "\n",
    "라\n",
    "다\n",
    "나\n",
    "가'''\n",
    "\n",
    "리스트 = [\"가\", \"나\", \"다\", \"라\"]\n",
    "\n",
    "for i in 리스트[::-1]:\n",
    "    print(i)"
   ]
  },
  {
   "cell_type": "code",
   "execution_count": null,
   "id": "a33ed0c1",
   "metadata": {},
   "outputs": [],
   "source": [
    "#106 지원하지 않는 연산자입니다. 크거나 같은지 물을땐 >=, 작거나 같은지 물을땐<= 로 적어야 함.\n",
    "#119 딕셔너리를 분기문으로 돌리면 키값으로 순회가 된다.\n",
    "#121 islower()함수와, upper(), lower()함수를 사용할 때, 변수.함수() 형태로 사용하는 것을 알았다.\n",
    "#123 분기문이 아니라 dictionary로 키와 값을 연결하는것, 타입을 float으로 하는것, \"원\" 앞에 쉼표 넣는것.\n",
    "#125 번호 앞자리를 문자열로 처리해야함, split()함수 뒤에 슬라이싱 할 수 있음.\n",
    "#126 input()함수의 결과값이 항상 문자열이기 때문에 키값을 str으로 바꿔야한다.\n",
    "#129 이거 다른 사람 코드 봐야지...\n",
    "#148 in 리스트 뒤에 바로 슬라이싱을 해도 된다는 것을 알았다.        \n",
    "for i in 리스트[1:]:\n",
    "    print(i)"
   ]
  }
 ],
 "metadata": {
  "kernelspec": {
   "display_name": "Python 3 (ipykernel)",
   "language": "python",
   "name": "python3"
  },
  "language_info": {
   "codemirror_mode": {
    "name": "ipython",
    "version": 3
   },
   "file_extension": ".py",
   "mimetype": "text/x-python",
   "name": "python",
   "nbconvert_exporter": "python",
   "pygments_lexer": "ipython3",
   "version": "3.8.13"
  }
 },
 "nbformat": 4,
 "nbformat_minor": 5
}
