{
  "nbformat": 4,
  "nbformat_minor": 0,
  "metadata": {
    "colab": {
      "name": "BJ_StepbyStep_FundMath.ipynb",
      "provenance": []
    },
    "kernelspec": {
      "name": "python3",
      "display_name": "Python 3"
    },
    "language_info": {
      "name": "python"
    }
  },
  "cells": [
    {
      "cell_type": "markdown",
      "source": [
        "## Fund_Math 1(0/8)"
      ],
      "metadata": {
        "id": "TD9f327lMdZL"
      }
    },
    {
      "cell_type": "code",
      "execution_count": 11,
      "metadata": {
        "colab": {
          "base_uri": "https://localhost:8080/"
        },
        "id": "MsDRdS5xLDO_",
        "outputId": "52f6dc83-93b4-48fd-ac79-e79575b967a3"
      },
      "outputs": [
        {
          "output_type": "stream",
          "name": "stdout",
          "text": [
            "1000 70 170\n",
            "11\n"
          ]
        }
      ],
      "source": [
        "#손익분기점 - 고정(연간이지만 고려 x)-가변 비용-수익\n",
        "A, B, C = map(int, input().split())\n",
        "if C>B:\n",
        "  print(A//(C-B)+1)\n",
        "else:\n",
        "  print(-1)"
      ]
    },
    {
      "cell_type": "code",
      "source": [
        "#벌집\n",
        "n = int(input())-1\n",
        "cnt=1\n",
        "while(n>0):\n",
        "  n -= cnt*6\n",
        "  cnt += 1\n",
        "print(cnt)"
      ],
      "metadata": {
        "colab": {
          "base_uri": "https://localhost:8080/"
        },
        "id": "mhVDtwZlM4O3",
        "outputId": "d7887afc-ba50-4748-b601-a02bd4217ffa"
      },
      "execution_count": 12,
      "outputs": [
        {
          "output_type": "stream",
          "name": "stdout",
          "text": [
            "13\n",
            "3\n"
          ]
        }
      ]
    },
    {
      "cell_type": "code",
      "source": [
        "#분수찾기\n",
        "n = int(input())\n",
        "cnt=0\n",
        "while (n>0):\n",
        "  cnt += 1\n",
        "  n -= cnt\n",
        "  \n",
        "if cnt%2==0: print(f\"{cnt+n}/{1-n}\")\n",
        "else: print(f\"{1-n}/{cnt+n}\")"
      ],
      "metadata": {
        "colab": {
          "base_uri": "https://localhost:8080/"
        },
        "id": "8cAMLc5-M5XZ",
        "outputId": "b09380f6-3d9a-4b33-8812-7a0f1b8be7ae"
      },
      "execution_count": 48,
      "outputs": [
        {
          "output_type": "stream",
          "name": "stdout",
          "text": [
            "7\n",
            "1/4\n"
          ]
        }
      ]
    },
    {
      "cell_type": "code",
      "source": [
        "#달팽이는 올라가고 싶다\n"
      ],
      "metadata": {
        "id": "TeRG46dBM6OD"
      },
      "execution_count": 46,
      "outputs": []
    },
    {
      "cell_type": "code",
      "source": [
        "#ACM 호텔"
      ],
      "metadata": {
        "id": "CmFZqizHM6Ia"
      },
      "execution_count": 4,
      "outputs": []
    },
    {
      "cell_type": "code",
      "source": [
        "#부녀회장이 될테야"
      ],
      "metadata": {
        "id": "lXBSYrfOM6CT"
      },
      "execution_count": 5,
      "outputs": []
    },
    {
      "cell_type": "code",
      "source": [
        "#설탕 배달"
      ],
      "metadata": {
        "id": "p98ZRB2NM5hp"
      },
      "execution_count": null,
      "outputs": []
    },
    {
      "cell_type": "code",
      "source": [
        "#큰 수 A+B"
      ],
      "metadata": {
        "id": "bVFKL6pKNEI2"
      },
      "execution_count": null,
      "outputs": []
    },
    {
      "cell_type": "markdown",
      "source": [
        "## Fund_Math 2(0/6)"
      ],
      "metadata": {
        "id": "KB8hbNWfMvOc"
      }
    },
    {
      "cell_type": "code",
      "source": [
        "#소수 찾기"
      ],
      "metadata": {
        "id": "ghX6Z5JIMynU"
      },
      "execution_count": 6,
      "outputs": []
    },
    {
      "cell_type": "code",
      "source": [
        "#소수"
      ],
      "metadata": {
        "id": "Rz1wqXNYNMX9"
      },
      "execution_count": 7,
      "outputs": []
    },
    {
      "cell_type": "code",
      "source": [
        "#소인수분해"
      ],
      "metadata": {
        "id": "83HQeqimNM77"
      },
      "execution_count": 8,
      "outputs": []
    },
    {
      "cell_type": "code",
      "source": [
        "#소수 구하기"
      ],
      "metadata": {
        "id": "iQ0bPNpGNN62"
      },
      "execution_count": 9,
      "outputs": []
    },
    {
      "cell_type": "code",
      "source": [
        "#베르트랑 공준(???)"
      ],
      "metadata": {
        "id": "4dMjJ6QONOrW"
      },
      "execution_count": 10,
      "outputs": []
    },
    {
      "cell_type": "code",
      "source": [
        "#골드바흐의 추측"
      ],
      "metadata": {
        "id": "wnCQJr0BNQyt"
      },
      "execution_count": null,
      "outputs": []
    }
  ]
}