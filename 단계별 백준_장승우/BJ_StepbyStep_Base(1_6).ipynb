{
  "nbformat": 4,
  "nbformat_minor": 0,
  "metadata": {
    "colab": {
      "name": "BJ_StepbyStep_Base(1~6).ipynb",
      "provenance": []
    },
    "kernelspec": {
      "name": "python3",
      "display_name": "Python 3"
    },
    "language_info": {
      "name": "python"
    }
  },
  "cells": [
    {
      "cell_type": "markdown",
      "source": [
        "## I/O(14/14)"
      ],
      "metadata": {
        "id": "GFjBAUcHXaPH"
      }
    },
    {
      "cell_type": "code",
      "execution_count": null,
      "metadata": {
        "id": "qgF-cqgfQVwP"
      },
      "outputs": [],
      "source": [
        "#\tHello World\n",
        "print(\"Hello World!\")"
      ]
    },
    {
      "cell_type": "code",
      "source": [
        "#We love kriii\n",
        "for i in range(0,2) : print(\"강한친구 대한육군\")"
      ],
      "metadata": {
        "colab": {
          "base_uri": "https://localhost:8080/"
        },
        "id": "DhP-1MAiJYUG",
        "outputId": "98be0f11-6cd3-49f1-c215-09a44f5a652a"
      },
      "execution_count": null,
      "outputs": [
        {
          "output_type": "stream",
          "name": "stdout",
          "text": [
            "강한친구 대한육군\n",
            "강한친구 대한육군\n"
          ]
        }
      ]
    },
    {
      "cell_type": "code",
      "source": [
        "#고양이 - 귀여워요!\n",
        "print(\"\\\\    /\\\\\\n )  ( ')\\n(  /  )\\n \\\\(__)|\")"
      ],
      "metadata": {
        "colab": {
          "base_uri": "https://localhost:8080/"
        },
        "id": "FE5PUqWZJpGc",
        "outputId": "b54f9f07-e744-495c-da9d-32c4f86574bd"
      },
      "execution_count": null,
      "outputs": [
        {
          "output_type": "stream",
          "name": "stdout",
          "text": [
            "\\    /\\\n",
            " )  ( ')\n",
            "(  /  )\n",
            " \\(__)|\n"
          ]
        }
      ]
    },
    {
      "cell_type": "code",
      "source": [
        "#개 - 별로 안 귀여워요...\n",
        "print(\"|\\\\_/|\")\n",
        "print(\"|q p|   /}\")\n",
        "print('( 0 )\"\"\"\\\\')\n",
        "print('|\"^\"`    |')\n",
        "print(\"||_/=\\\\\\\\__|\")"
      ],
      "metadata": {
        "colab": {
          "base_uri": "https://localhost:8080/"
        },
        "id": "78rcm5OnJa51",
        "outputId": "929e8dcb-b020-4bab-f3d5-2c2ce3b55946"
      },
      "execution_count": null,
      "outputs": [
        {
          "output_type": "stream",
          "name": "stdout",
          "text": [
            "|\\_/|\n",
            "|q p|   /}\n",
            "( 0 )\"\"\"\\\n",
            "|\"^\"`    |\n",
            "||_/=\\\\__|\n"
          ]
        }
      ]
    },
    {
      "cell_type": "code",
      "source": [
        "  #새싹 \n",
        "  print(\"         ,r'\"+'\"7\\nr`-_   ,'+\"'  ,/\\n \\\\. \"+'\". L_r'+\"'\\n   `~\\\\/\\n      |\\n      |\")"
      ],
      "metadata": {
        "id": "0YmWJ7GpKDeO",
        "colab": {
          "base_uri": "https://localhost:8080/"
        },
        "outputId": "e14606c2-2de7-4ad5-ff79-40e04f6b0ff9"
      },
      "execution_count": null,
      "outputs": [
        {
          "output_type": "stream",
          "name": "stdout",
          "text": [
            "         ,r'\"7\n",
            "r`-_   ,'  ,/\n",
            " \\. \". L_r'\n",
            "   `~\\/\n",
            "      |\n",
            "      |\n"
          ]
        }
      ]
    },
    {
      "cell_type": "code",
      "source": [
        "#A+B\n",
        "a, b = input().split()\n",
        "print(int(a)+int(b))"
      ],
      "metadata": {
        "colab": {
          "base_uri": "https://localhost:8080/"
        },
        "id": "WLrkM_-LTxvE",
        "outputId": "d4e0842c-22cb-4558-d97d-0c83f34c7003"
      },
      "execution_count": null,
      "outputs": [
        {
          "output_type": "stream",
          "name": "stdout",
          "text": [
            "1 2\n",
            "3\n"
          ]
        }
      ]
    },
    {
      "cell_type": "code",
      "source": [
        "#A-B\n",
        "a, b = input().split()\n",
        "print(int(a)-int(b))"
      ],
      "metadata": {
        "id": "kcPWo7I9VAvJ"
      },
      "execution_count": null,
      "outputs": []
    },
    {
      "cell_type": "code",
      "source": [
        "#A*B\n",
        "a, b = input().split()\n",
        "print(int(a)-int(b))"
      ],
      "metadata": {
        "id": "k8smWcc5YUcv"
      },
      "execution_count": null,
      "outputs": []
    },
    {
      "cell_type": "code",
      "source": [
        "#A/B\n",
        "a, b = input().split()\n",
        "print(int(a)/int(b))"
      ],
      "metadata": {
        "id": "nNFkY94zYUxS"
      },
      "execution_count": null,
      "outputs": []
    },
    {
      "cell_type": "code",
      "source": [
        "#사칙연산\n",
        "li = input().split()\n",
        "a, b = int(li[0]), int(li[1])\n",
        "print(f'{a+b}\\n{a-b}\\n{a*b}\\n{a//b}\\n{a%b}')"
      ],
      "metadata": {
        "colab": {
          "base_uri": "https://localhost:8080/"
        },
        "id": "WZGYwGpAZJt7",
        "outputId": "8d50b396-5c28-4dc6-c6e4-288f9caed2a3"
      },
      "execution_count": null,
      "outputs": [
        {
          "output_type": "stream",
          "name": "stdout",
          "text": [
            "3 4\n",
            "7\n",
            "-1\\M12\n",
            "0.75\n",
            "3\n"
          ]
        }
      ]
    },
    {
      "cell_type": "code",
      "source": [
        "#??!\n",
        "print(input()+\"??!\")"
      ],
      "metadata": {
        "colab": {
          "base_uri": "https://localhost:8080/"
        },
        "id": "tWlq_iMKaB7e",
        "outputId": "8e120b7f-a4c1-469a-e8a4-1af7b733cb46"
      },
      "execution_count": null,
      "outputs": [
        {
          "output_type": "stream",
          "name": "stdout",
          "text": [
            "lol\n",
            "lol??!\n"
          ]
        }
      ]
    },
    {
      "cell_type": "code",
      "source": [
        "#1998년생인 내가 태국에서는 2541년생?!\n",
        "print(int(input())-543)"
      ],
      "metadata": {
        "colab": {
          "base_uri": "https://localhost:8080/"
        },
        "id": "lWCp8nL2a2oX",
        "outputId": "91632cb4-bb9f-4350-c3ae-ac9bae510661"
      },
      "execution_count": null,
      "outputs": [
        {
          "output_type": "stream",
          "name": "stdout",
          "text": [
            "2541\n",
            "1998\n"
          ]
        }
      ]
    },
    {
      "cell_type": "code",
      "source": [
        "#나머지\n",
        "#첫째 줄에 (A+B)%C, 둘째 줄에 ((A%C) + (B%C))%C, 셋째 줄에 (A×B)%C, 넷째 줄에 ((A%C) × (B%C))%C를 출력한다.\n",
        "li = input().split()\n",
        "A, B, C = int(li[0]), int(li[1]), int(li[2])\n",
        "\n",
        "print(f\"{(A+B)%C}\\n{((A%C) + (B%C))%C}\\n{(A*B)%C}\\n{((A%C) * (B%C))%C}\")\n"
      ],
      "metadata": {
        "colab": {
          "base_uri": "https://localhost:8080/"
        },
        "id": "w8qPteOobkDV",
        "outputId": "bc10aed6-e2f1-4388-8633-df4785ff9dc9"
      },
      "execution_count": null,
      "outputs": [
        {
          "output_type": "stream",
          "name": "stdout",
          "text": [
            "1 2 3\n",
            "0\n",
            "0\n",
            "2\n",
            "2\n"
          ]
        }
      ]
    },
    {
      "cell_type": "code",
      "source": [
        "#곱셈\n",
        "n1 = int(input())\n",
        "n2 = int(input())\n",
        "\n",
        "print(f\"{n2%10*n1}\\n{n2%100//10*n1}\\n{n2//100*n1}\\n{n1*n2}\")"
      ],
      "metadata": {
        "colab": {
          "base_uri": "https://localhost:8080/"
        },
        "id": "-cjUZY1LhVzB",
        "outputId": "15c6220e-7d1e-4ad9-c4e4-501321b3f236"
      },
      "execution_count": null,
      "outputs": [
        {
          "output_type": "stream",
          "name": "stdout",
          "text": [
            "234\n",
            "567\n",
            "1638\n",
            "1404\n",
            "1170\n",
            "132678\n"
          ]
        }
      ]
    },
    {
      "cell_type": "markdown",
      "source": [
        "## If (7/7)"
      ],
      "metadata": {
        "id": "UeYjmJY0XUc-"
      }
    },
    {
      "cell_type": "code",
      "execution_count": null,
      "metadata": {
        "id": "8CmXr1NDifTA"
      },
      "outputs": [],
      "source": [
        "#두 수 비교하기\n",
        "var1, var2=map(int,input().split())\n",
        "if(var1>var2):\n",
        "    print('>')\n",
        "elif(var1==var2):\n",
        "    print('==')\n",
        "else:\n",
        "    print('<')"
      ]
    },
    {
      "cell_type": "code",
      "source": [
        "#시험 성적\n",
        "score = int(input())\n",
        "if score>=90 : print(\"A\")\n",
        "elif score>=80 : print(\"B\")  #elif는 앞의 if가 실행되면 pass되므로\n",
        "elif score>=70 : print(\"C\")\n",
        "elif score>=60 : print(\"D\")\n",
        "else : print(\"F\")"
      ],
      "metadata": {
        "colab": {
          "base_uri": "https://localhost:8080/"
        },
        "id": "sMJNSIMIiraF",
        "outputId": "eab27f14-f286-49bb-af62-d5a8af032ded"
      },
      "execution_count": null,
      "outputs": [
        {
          "output_type": "stream",
          "name": "stdout",
          "text": [
            "12\n",
            "F\n"
          ]
        }
      ]
    },
    {
      "cell_type": "code",
      "source": [
        "#윤년\n",
        "year = int(input())\n",
        "print(int(year%4<1 and (year%100>0 or year%400<1)))"
      ],
      "metadata": {
        "colab": {
          "base_uri": "https://localhost:8080/"
        },
        "id": "LncBmpHli0QV",
        "outputId": "a99a2c82-c030-4544-8a81-8b9f5fdead54"
      },
      "execution_count": null,
      "outputs": [
        {
          "output_type": "stream",
          "name": "stdout",
          "text": [
            "128\n",
            "1\n"
          ]
        }
      ]
    },
    {
      "cell_type": "code",
      "source": [
        "#사분면 고르기\n",
        "x= int(input())\n",
        "y= int(input())\n",
        "\n",
        "if x>0 :\n",
        "  if y>0:r=1\n",
        "  else: r=4\n",
        "else :\n",
        "  if y>0:r=2\n",
        "  else: r=3\n",
        "print(r)\n",
        "  "
      ],
      "metadata": {
        "colab": {
          "base_uri": "https://localhost:8080/"
        },
        "id": "HfXtbcdgs8Ng",
        "outputId": "64356181-2f77-475a-f2db-2270590923aa"
      },
      "execution_count": null,
      "outputs": [
        {
          "output_type": "stream",
          "name": "stdout",
          "text": [
            "1\n",
            "3\n",
            "1\n"
          ]
        }
      ]
    },
    {
      "cell_type": "code",
      "source": [
        "#알람 시계 :)\n",
        "h, m=map(int,input().split())\n",
        "t = h*60+m-45\n",
        "\n",
        "if t<0:\n",
        "  t+=1440\n",
        "h = t//60\n",
        "m = t%60\n",
        "\n",
        "print(h,m)"
      ],
      "metadata": {
        "id": "SIUXe-PGvlCi",
        "colab": {
          "base_uri": "https://localhost:8080/"
        },
        "outputId": "2a5206b1-fe1f-4159-cd20-4978c5b26e73"
      },
      "execution_count": null,
      "outputs": [
        {
          "output_type": "stream",
          "name": "stdout",
          "text": [
            "10 10\n",
            "9 25\n"
          ]
        }
      ]
    },
    {
      "cell_type": "code",
      "source": [
        "#오븐 시계\n",
        "h, m=map(int,input().split())\n",
        "d = int(input())\n",
        "t = h*60+m+d\n",
        "\n",
        "if t>1439:\n",
        "  t-=1440\n",
        "h = t//60\n",
        "m = t%60\n",
        "\n",
        "print(h,m)"
      ],
      "metadata": {
        "colab": {
          "base_uri": "https://localhost:8080/"
        },
        "id": "MKFaAr67MVQb",
        "outputId": "b9aeb6d3-e792-4265-9d9e-cecbf1d6ddcd"
      },
      "execution_count": null,
      "outputs": [
        {
          "output_type": "stream",
          "name": "stdout",
          "text": [
            "23 59\n",
            "1\n",
            "24 0\n"
          ]
        }
      ]
    },
    {
      "cell_type": "code",
      "source": [
        "#주사위 세개\n",
        "n1, n2, n3=map(int,input().split())\n",
        "c = 0\n",
        "n = 0\n",
        "\n",
        "if n<n1: n = n1\n",
        "if n<n2: n = n2\n",
        "if n<n3: n = n3\n",
        "\n",
        "if n1==n2: \n",
        "  n = n1\n",
        "  c+=1\n",
        "if n2==n3: \n",
        "  c+=1\n",
        "  n = n2\n",
        "if n1==n3: \n",
        "  c+=1\n",
        "  n = n3\n",
        "\n",
        "if c:\n",
        "  if c>1:\n",
        "    r = 10000+n*1000\n",
        "  else:\n",
        "    r = 1000+n*100\n",
        "else :\n",
        "  r = n*100\n",
        "\n",
        "print(r)"
      ],
      "metadata": {
        "colab": {
          "base_uri": "https://localhost:8080/"
        },
        "id": "s1GOIxxbNJl5",
        "outputId": "c30325cf-7f02-4e5f-a5ef-50777592d05c"
      },
      "execution_count": null,
      "outputs": [
        {
          "output_type": "stream",
          "name": "stdout",
          "text": [
            "3 3 6\n",
            "1300\n"
          ]
        }
      ]
    },
    {
      "cell_type": "markdown",
      "source": [
        "## For(14/14)"
      ],
      "metadata": {
        "id": "aw0d-z8eYcjb"
      }
    },
    {
      "cell_type": "code",
      "source": [
        "#구구단\n",
        "n = int(input())\n",
        "for i in range(1,10):\n",
        "  print(n, \"*\", i, \"=\", n*i)"
      ],
      "metadata": {
        "colab": {
          "base_uri": "https://localhost:8080/"
        },
        "id": "Ic7wrZY6Yi-V",
        "outputId": "07f97019-6181-4d65-e07a-5f5f5acdd72d"
      },
      "execution_count": null,
      "outputs": [
        {
          "output_type": "stream",
          "name": "stdout",
          "text": [
            "2\n",
            "2 * 1 = 2\n",
            "2 * 2 = 4\n",
            "2 * 3 = 6\n",
            "2 * 4 = 8\n",
            "2 * 5 = 10\n",
            "2 * 6 = 12\n",
            "2 * 7 = 14\n",
            "2 * 8 = 16\n",
            "2 * 9 = 18\n"
          ]
        }
      ]
    },
    {
      "cell_type": "code",
      "source": [
        "#A+B-3\n",
        "t = int(input())\n",
        "for i in range(t):\n",
        "  a, b = map(int,input().split())\n",
        "  print(a+b)"
      ],
      "metadata": {
        "colab": {
          "base_uri": "https://localhost:8080/"
        },
        "id": "5vkxAoVRY4n-",
        "outputId": "1010e931-455c-4f86-9091-b66de9f17733"
      },
      "execution_count": null,
      "outputs": [
        {
          "output_type": "stream",
          "name": "stdout",
          "text": [
            "5\n",
            "1 1\n",
            "2\n",
            "2 3\n",
            "5\n",
            "45 45\n",
            "90\n",
            "100 100\n",
            "200\n",
            "567 8910\n",
            "9477\n"
          ]
        }
      ]
    },
    {
      "cell_type": "code",
      "source": [
        "#합\n",
        "n = int(input())\n",
        "sum = 0\n",
        "for i in range(1, 1+n):\n",
        "  sum += i\n",
        "print(sum)"
      ],
      "metadata": {
        "id": "QI6M1zWKZfiG"
      },
      "execution_count": null,
      "outputs": []
    },
    {
      "cell_type": "code",
      "source": [
        "#빠른 A+B - colab 미지원(제출시만 변경하는걸로)\n",
        "import sys\n",
        "\n",
        "T = int(input())\n",
        "for i in range(T):\n",
        "  A, B = map(int, sys.stdin.readline().split())\n",
        "  print(A+B)"
      ],
      "metadata": {
        "id": "MYUAa6sDaIQM"
      },
      "execution_count": null,
      "outputs": []
    },
    {
      "cell_type": "code",
      "source": [
        "#N 찍기\n",
        "n = int(input())\n",
        "for i in range(n):\n",
        "  print(i+1)"
      ],
      "metadata": {
        "id": "uTBvMjpualNP",
        "colab": {
          "base_uri": "https://localhost:8080/"
        },
        "outputId": "977a1eb5-5170-4d8c-ecf8-a915389b0ce1"
      },
      "execution_count": null,
      "outputs": [
        {
          "output_type": "stream",
          "name": "stdout",
          "text": [
            "3\n",
            "1\n",
            "2\n",
            "3\n"
          ]
        }
      ]
    },
    {
      "cell_type": "code",
      "source": [
        "#기찍 N\n",
        "n = int(input())\n",
        "for i in range(n, 0, -1):\n",
        "  print(i)"
      ],
      "metadata": {
        "colab": {
          "base_uri": "https://localhost:8080/"
        },
        "id": "C41OcC-fiSiH",
        "outputId": "ecc8fd9a-0fc6-4a83-8448-c96e007523c0"
      },
      "execution_count": null,
      "outputs": [
        {
          "output_type": "stream",
          "name": "stdout",
          "text": [
            "5\n",
            "5\n",
            "4\n",
            "3\n",
            "2\n",
            "1\n"
          ]
        }
      ]
    },
    {
      "cell_type": "code",
      "source": [
        "#A+B - 7\n",
        "t = int(input())\n",
        "for i in range(t):\n",
        "  a, b = map(int,input().split())\n",
        "  print(f\"Case #{i+1}: {a+b}\")"
      ],
      "metadata": {
        "colab": {
          "base_uri": "https://localhost:8080/"
        },
        "id": "Xy8VqynAimuw",
        "outputId": "82fbe677-34c7-4868-aca1-52cba7af200f"
      },
      "execution_count": null,
      "outputs": [
        {
          "output_type": "stream",
          "name": "stdout",
          "text": [
            "3\n",
            "1 2\n",
            "Case #1: 3\n",
            "3 4\n",
            "Case #2: 7\n",
            "5 6\n",
            "Case #3: 11\n"
          ]
        }
      ]
    },
    {
      "cell_type": "code",
      "source": [
        "#A+B - 8\n",
        "t = int(input())\n",
        "for i in range(t):\n",
        "  a, b = map(int,input().split())\n",
        "  print(f\"Case #{i+1}: {a} + {b} = {a+b}\")\n"
      ],
      "metadata": {
        "id": "PY-KBUHji7Gb"
      },
      "execution_count": null,
      "outputs": []
    },
    {
      "cell_type": "code",
      "source": [
        "#별 찍 기\n",
        "n = int(input())\n",
        "for i in range(1,n+1):\n",
        "  print(\"*\"*i)"
      ],
      "metadata": {
        "colab": {
          "base_uri": "https://localhost:8080/"
        },
        "id": "WHYEMj7vjnwA",
        "outputId": "53858135-b53e-42a4-d219-3ae2d627db92"
      },
      "execution_count": null,
      "outputs": [
        {
          "output_type": "stream",
          "name": "stdout",
          "text": [
            "4\n",
            "*\n",
            "**\n",
            "***\n",
            "****\n"
          ]
        }
      ]
    },
    {
      "cell_type": "code",
      "source": [
        "#별 찍 기 2\n",
        "n = int(input())\n",
        "for i in range(1,n+1):\n",
        "  print(\" \"*(n-i)+\"*\"*i)\n",
        "\n",
        "#별모양 별찍기 안나와서 살짝 아쉬움"
      ],
      "metadata": {
        "colab": {
          "base_uri": "https://localhost:8080/"
        },
        "id": "HJF7qJnsju-I",
        "outputId": "39a65c13-90de-4dcb-a9e3-5e4ee37e31fc"
      },
      "execution_count": null,
      "outputs": [
        {
          "output_type": "stream",
          "name": "stdout",
          "text": [
            "5\n",
            "    *\n",
            "   **\n",
            "  ***\n",
            " ****\n",
            "*****\n"
          ]
        }
      ]
    },
    {
      "cell_type": "code",
      "source": [
        "#X보다 작은 수\n",
        "t, X = map(int,input().split())\n",
        "li = input().split()\n",
        "\n",
        "for i in range(t):\n",
        "  if int(li[i])<X : li.append(li[i])\n",
        "print(*li[t:])"
      ],
      "metadata": {
        "colab": {
          "base_uri": "https://localhost:8080/"
        },
        "id": "E0igK-gvkGYQ",
        "outputId": "346e4253-f0b7-4f03-e062-710328350429"
      },
      "execution_count": null,
      "outputs": [
        {
          "output_type": "stream",
          "name": "stdout",
          "text": [
            "4 3\n",
            "1 1 3 1\n",
            "1 1 1\n"
          ]
        }
      ]
    },
    {
      "cell_type": "code",
      "source": [
        "#A+B - 5\n",
        "\n",
        "while (True):\n",
        "  a, b = map(int,input().split())\n",
        "  if not(a+b) : break\n",
        "  print(a+b)"
      ],
      "metadata": {
        "id": "bGtNKKBckrOC",
        "colab": {
          "base_uri": "https://localhost:8080/"
        },
        "outputId": "217225ba-529e-408e-b30c-db75f2cac8ec"
      },
      "execution_count": null,
      "outputs": [
        {
          "name": "stdout",
          "output_type": "stream",
          "text": [
            "1 3\n",
            "4\n",
            "0 0\n"
          ]
        }
      ]
    },
    {
      "cell_type": "code",
      "source": [
        "#A+B - 4\n",
        "while(True):\n",
        "    try:\n",
        "        a,b = map(int,input().split())\n",
        "        print(a+b)\n",
        "    except(EOFError):\n",
        "        break"
      ],
      "metadata": {
        "id": "gNvsowyZkt7L"
      },
      "execution_count": null,
      "outputs": []
    },
    {
      "cell_type": "code",
      "source": [
        "#더하기 사이클\n",
        "n = int(input())\n",
        "s = 0\n",
        "r = n\n",
        "\n",
        "while True:\n",
        "  r = r%10*10+(r//10+r%10)%10\n",
        "  s+=1\n",
        "  if(r==n):break\n",
        "print(s)\n",
        "  "
      ],
      "metadata": {
        "colab": {
          "base_uri": "https://localhost:8080/"
        },
        "id": "ChfAOR0Un-z7",
        "outputId": "285a573f-8131-4e4b-a18e-cd75201dc4a2"
      },
      "execution_count": null,
      "outputs": [
        {
          "output_type": "stream",
          "name": "stdout",
          "text": [
            "0\n",
            "1\n"
          ]
        }
      ]
    },
    {
      "cell_type": "markdown",
      "source": [
        "## Array (7/7)"
      ],
      "metadata": {
        "id": "jiVgw3PgtYly"
      }
    },
    {
      "cell_type": "code",
      "source": [
        "#최소, 최대\n",
        "max=0\n",
        "for i in range(9):\n",
        "  n = int(input())\n",
        "  if n > max : \n",
        "    max = n\n",
        "    idx = i\n",
        "print(f\"{max}\\n{idx+1}\")"
      ],
      "metadata": {
        "colab": {
          "base_uri": "https://localhost:8080/"
        },
        "id": "iQtO-c0kpu0M",
        "outputId": "28535503-8279-47b6-8edf-2cb25114c326"
      },
      "execution_count": null,
      "outputs": [
        {
          "output_type": "stream",
          "name": "stdout",
          "text": [
            "3\n",
            "40\n",
            "1\n",
            "20\n",
            "30\n",
            "40\n",
            "500\n",
            "10\n",
            "102\n",
            "7\n"
          ]
        }
      ]
    },
    {
      "cell_type": "code",
      "source": [
        "#숫자의 개수\n",
        "li = [0]*10\n",
        "sum = 1\n",
        "for i in range(3):\n",
        "  sum *= int(input())\n",
        "\n",
        "while(sum>0):\n",
        "  li[sum%10]+=1\n",
        "  sum//=10\n",
        "\n",
        "for i in li:\n",
        "  print(i)"
      ],
      "metadata": {
        "colab": {
          "base_uri": "https://localhost:8080/"
        },
        "id": "QeHSxNZfqxFh",
        "outputId": "447d5333-6344-4cb4-ad10-ef5d9ce2d08b"
      },
      "execution_count": null,
      "outputs": [
        {
          "output_type": "stream",
          "name": "stdout",
          "text": [
            "150\n",
            "266\n",
            "427\n",
            "3\n",
            "1\n",
            "0\n",
            "2\n",
            "0\n",
            "0\n",
            "0\n",
            "2\n",
            "0\n",
            "0\n"
          ]
        }
      ]
    },
    {
      "cell_type": "code",
      "source": [
        "#나머지 \n",
        "li = []\n",
        "for i in range(10):\n",
        "  li.append(int(input())%42)\n",
        "print(len(set(li)))"
      ],
      "metadata": {
        "colab": {
          "base_uri": "https://localhost:8080/"
        },
        "id": "NgOs5BVQzxrS",
        "outputId": "533c9cb3-5fc1-43d5-f482-f6bec05bb86f"
      },
      "execution_count": null,
      "outputs": [
        {
          "output_type": "stream",
          "name": "stdout",
          "text": [
            "1\n",
            "2\n",
            "3\n",
            "4\n",
            "5\n",
            "6\n",
            "7\n",
            "8\n",
            "9\n",
            "0\n",
            "10\n"
          ]
        }
      ]
    },
    {
      "cell_type": "code",
      "source": [
        "#평균\n",
        "t = int(input())\n",
        "li = [int(i) for i in input().split()]\n",
        "max = 0\n",
        "sum = 0\n",
        "\n",
        "for i in li:\n",
        "  if i>max:max=i\n",
        "\n",
        "for i in range(len(li)):\n",
        "  sum += li[i]/max*100\n",
        "\n",
        "print(sum/t)"
      ],
      "metadata": {
        "colab": {
          "base_uri": "https://localhost:8080/"
        },
        "id": "afx8kgLM7stL",
        "outputId": "0335f48f-1188-4bb9-ea53-3a3abdcc9316"
      },
      "execution_count": null,
      "outputs": [
        {
          "output_type": "stream",
          "name": "stdout",
          "text": [
            "3\n",
            "40 60 70\n",
            "155.95238095238093\n"
          ]
        }
      ]
    },
    {
      "cell_type": "code",
      "source": [
        "#OX퀴즈\n",
        "t = int(input())\n",
        "\n",
        "\n",
        "for i in range(t):\n",
        "  s = 0\n",
        "  strk = 0\n",
        "  OX = input()\n",
        "  for char in OX:\n",
        "    if char == \"O\":\n",
        "      strk += 1\n",
        "      s += strk\n",
        "    else:\n",
        "      strk=0\n",
        "  print(s)"
      ],
      "metadata": {
        "colab": {
          "base_uri": "https://localhost:8080/"
        },
        "id": "cXCf7T_q96kR",
        "outputId": "7531170e-5793-41fa-aa73-b035027a3328"
      },
      "execution_count": null,
      "outputs": [
        {
          "output_type": "stream",
          "name": "stdout",
          "text": [
            "5\n",
            "OOXXOXXOOO\n",
            "10\n",
            "OOXXOOXXOO\n",
            "9\n",
            "OXOXOXOXOXOXOX\n",
            "7\n",
            "OOOOOOOOOO\n",
            "55\n",
            "OOOOXOOOOXOOOOX\n",
            "30\n"
          ]
        }
      ]
    },
    {
      "cell_type": "code",
      "source": [
        "#평균은 넘겠지\n",
        "T = int(input())\n",
        "for i in range(T):\n",
        "  sum, om = 0, 0\n",
        "  C = [int(i) for i in input().split()]\n",
        "\n",
        "  for j in range(1,C[0]+1):\n",
        "    sum += C[j]\n",
        "  mean = sum/(len(C)-1)\n",
        "\n",
        "  for j in range(1,C[0]+1):\n",
        "    if C[j]>mean: om+=1\n",
        "\n",
        "  print(f'{om/C[0]*100:.3f}%')"
      ],
      "metadata": {
        "colab": {
          "base_uri": "https://localhost:8080/"
        },
        "id": "VXWdwcBKA2RB",
        "outputId": "49e19e4d-26a9-46de-def3-42a2f54bff1b"
      },
      "execution_count": null,
      "outputs": [
        {
          "output_type": "stream",
          "name": "stdout",
          "text": [
            "1\n",
            "5 30 80 70 90 100\n",
            "60.000%\n"
          ]
        }
      ]
    },
    {
      "cell_type": "markdown",
      "source": [
        "## Function(3/3)"
      ],
      "metadata": {
        "id": "uW2WeLxCtkQv"
      }
    },
    {
      "cell_type": "code",
      "source": [
        "#정수 N개의 합\n",
        "def solve(a: list)->int:\n",
        "  return sum(a)"
      ],
      "metadata": {
        "id": "wtGK9QgVGsCk"
      },
      "execution_count": null,
      "outputs": []
    },
    {
      "cell_type": "code",
      "source": [
        "#셀프 넘버\n",
        "def d(n) ->int:\n",
        "  sn = n\n",
        "  while(n>0):\n",
        "    sn+=n%10\n",
        "    n//=10\n",
        "  return sn\n",
        "\n",
        "self_set = set([i for i in range(1,10001)])\n",
        "for i in range(1, 10001):\n",
        "  sn = d(i)\n",
        "  self_set.discard(sn)\n",
        "\n",
        "for i in self_set:\n",
        "  print(i)\n",
        "\n",
        "  #결과값 쫙 뽑혀나오는거 장관임"
      ],
      "metadata": {
        "id": "7Gq_zOzQHNM6"
      },
      "execution_count": null,
      "outputs": []
    },
    {
      "cell_type": "code",
      "source": [
        "#한수\n",
        "def isarim(n)->int:\n",
        "  if n<10: return 1\n",
        "  \n",
        "  li = []\n",
        "  while(n>0):\n",
        "    li.append(n%10)\n",
        "    n//=10\n",
        "  \n",
        "  diff = li[0]-li[1]\n",
        "  for i in range(len(li)-1):\n",
        "    if li[i]-li[i+1] !=diff:\n",
        "      return 0\n",
        "  return 1\n",
        "\n",
        "sum = 0\n",
        "n = int(input())\n",
        "\n",
        "for i in range(1,n+1):\n",
        "  sum += isarim(i)\n",
        "print(sum)"
      ],
      "metadata": {
        "colab": {
          "base_uri": "https://localhost:8080/"
        },
        "id": "_JqeHPv8HRXR",
        "outputId": "3005627c-9cc8-4acf-edb1-6927be3b2002"
      },
      "execution_count": null,
      "outputs": [
        {
          "output_type": "stream",
          "name": "stdout",
          "text": [
            "110\n",
            "99\n"
          ]
        }
      ]
    },
    {
      "cell_type": "markdown",
      "source": [
        "## String(10/10)"
      ],
      "metadata": {
        "id": "d9DSXHo-tr-L"
      }
    },
    {
      "cell_type": "code",
      "source": [
        "#아스키코드\n",
        "print(ord(input()))"
      ],
      "metadata": {
        "id": "NNS3pahFtrjZ",
        "colab": {
          "base_uri": "https://localhost:8080/"
        },
        "outputId": "50985528-c2d4-4aa0-8837-d7092736043b"
      },
      "execution_count": 3,
      "outputs": [
        {
          "output_type": "stream",
          "name": "stdout",
          "text": [
            "B\n",
            "66\n"
          ]
        }
      ]
    },
    {
      "cell_type": "code",
      "source": [
        "#숫자의 합\n",
        "t = int(input())\n",
        "n = input()\n",
        "sum = 0\n",
        "for i in range(t) :\n",
        "  sum += int(n[i])\n",
        "print(sum)"
      ],
      "metadata": {
        "colab": {
          "base_uri": "https://localhost:8080/"
        },
        "id": "_P4vtOkdqArw",
        "outputId": "16934e4e-625a-4850-f100-241ab4883325"
      },
      "execution_count": 7,
      "outputs": [
        {
          "output_type": "stream",
          "name": "stdout",
          "text": [
            "4\n",
            "1234\n",
            "10\n"
          ]
        }
      ]
    },
    {
      "cell_type": "code",
      "source": [
        "#알파벳 찾기 #소문자 아스키는 97~122\n",
        "s = input()\n",
        "c_li = [-1]*26\n",
        "\n",
        "for i in range(len(s)):\n",
        "  if c_li[ord(s[i])-97]==-1: c_li[ord(s[i])-97]=i\n",
        "  \n",
        "print(*c_li)"
      ],
      "metadata": {
        "colab": {
          "base_uri": "https://localhost:8080/"
        },
        "id": "DIIYnd98qfsF",
        "outputId": "2a445b11-5728-4e85-dfee-e0bd4a612a40"
      },
      "execution_count": 12,
      "outputs": [
        {
          "output_type": "stream",
          "name": "stdout",
          "text": [
            "baekjoon\n",
            "1 0 -1 -1 2 -1 -1 -1 -1 4 3 -1 -1 7 5 -1 -1 -1 -1 -1 -1 -1 -1 -1 -1 -1\n"
          ]
        }
      ]
    },
    {
      "cell_type": "code",
      "source": [
        "#문자열 반복\n",
        "T = int(input())\n",
        "for i in range(T):\n",
        "  S = input().split()\n",
        "  R = int(S[0])\n",
        "  S = S[1]\n",
        "\n",
        "  for j in range(len(S)):\n",
        "    print(S[j]*R, end=\"\")\n",
        "  print()"
      ],
      "metadata": {
        "colab": {
          "base_uri": "https://localhost:8080/"
        },
        "id": "Mf0uV_KorRg6",
        "outputId": "a981d4a2-65a2-4616-a156-a0b4531e8a15"
      },
      "execution_count": 18,
      "outputs": [
        {
          "output_type": "stream",
          "name": "stdout",
          "text": [
            "2\n",
            "3 Roar\n",
            "RRRoooaaarrr\n",
            "4 sleep\n",
            "sssslllleeeeeeeepppp\n"
          ]
        }
      ]
    },
    {
      "cell_type": "code",
      "source": [
        "#단어 공부 - 조금 장황한가요? 근데 실행시간은 거기서 거기...?\n",
        "s = input()\n",
        "c_li = [0]*26\n",
        "for i in range(len(s)):\n",
        "  asc = ord(s[i])\n",
        "  if 96<asc<123:\n",
        "    c_li[asc-97] +=1\n",
        "  elif 64<asc<91:\n",
        "    c_li[asc-65] +=1\n",
        "  \n",
        "max = 0\n",
        "idx=0\n",
        "d=0\n",
        "for i in range(len(c_li)):\n",
        "  if c_li[i]>max: \n",
        "    max=c_li[i]\n",
        "    idx=i\n",
        "    d=0\n",
        "  elif c_li[i]==max: \n",
        "    d=1\n",
        "\n",
        "if d:print(\"?\")\n",
        "else:print(chr(idx+65))"
      ],
      "metadata": {
        "colab": {
          "base_uri": "https://localhost:8080/"
        },
        "id": "-0kJUM-Jtqzn",
        "outputId": "33aa391d-325e-48c7-8c39-d7227e1c9267"
      },
      "execution_count": 45,
      "outputs": [
        {
          "output_type": "stream",
          "name": "stdout",
          "text": [
            "aatroxX\n",
            "[2, 0, 0, 0, 0, 0, 0, 0, 0, 0, 0, 0, 0, 0, 1, 0, 0, 1, 0, 1, 0, 0, 0, 2, 0, 0]\n",
            "?\n"
          ]
        }
      ]
    },
    {
      "cell_type": "code",
      "source": [
        "#단어의 개수 \n",
        "print(len(input().split()))"
      ],
      "metadata": {
        "id": "oJRU-iNwts1z"
      },
      "execution_count": 46,
      "outputs": []
    },
    {
      "cell_type": "code",
      "source": [
        "#상수\n",
        "n1, n2 = map(int,input().split())\n",
        "\n",
        "def swap(n):\n",
        "  n = (n%10*100) + (n//10%10*10) + (n//100)\n",
        "  return n\n",
        "\n",
        "n1 = swap(n1)\n",
        "n2 = swap(n2)\n",
        "\n",
        "if n1>n2:print(n1)\n",
        "else :print(n2)"
      ],
      "metadata": {
        "colab": {
          "base_uri": "https://localhost:8080/"
        },
        "id": "t0KV_bgptv8q",
        "outputId": "873df4b9-9994-4424-ac32-fc2dce5bf6b0"
      },
      "execution_count": 48,
      "outputs": [
        {
          "output_type": "stream",
          "name": "stdout",
          "text": [
            "734 893\n",
            "437\n"
          ]
        }
      ]
    },
    {
      "cell_type": "code",
      "source": [
        "#다이얼\n",
        "s = input()\n",
        "sum = 0\n",
        "for c in s:\n",
        "  n = ord(c)\n",
        "  if n > ord(\"R\") : n -= 1\n",
        "  if n > ord(\"X\") : n -= 1\n",
        "  sum += (n-65)//3+3\n",
        "print(sum)\n"
      ],
      "metadata": {
        "colab": {
          "base_uri": "https://localhost:8080/"
        },
        "id": "gvAgfnybtw3A",
        "outputId": "0c962f4d-9e7c-48e5-9046-ed1023671d59"
      },
      "execution_count": 66,
      "outputs": [
        {
          "output_type": "stream",
          "name": "stdout",
          "text": [
            "PQRS\n",
            "32\n"
          ]
        }
      ]
    },
    {
      "cell_type": "code",
      "source": [
        "#크로아티아 알파벳 # - = j #이 개노가다를 해야 한다고??\n",
        "\n",
        "s = input()\n",
        "# cnt=0\n",
        "# for i in range(len(s)-1) :\n",
        "#  if s[i] == \"c\" :\n",
        "#    if s[i+1] == \"-\" : cnt+=1\n",
        "#    elif s[i+1] == \"=\" : cnt+=1\n",
        "#  elif s[i] == \"d\" :\n",
        "#    if s[i+1] == \"-\" : cnt+=1\n",
        "#    elif s[i+1] == \"z\" :\n",
        "#      if i<len(s)-2:\n",
        "#       if s[i+2] == \"=\" :cnt+=1\n",
        "#  elif s[i] == \"z\" :\n",
        "#    if s[i+1] == \"=\" : cnt+=1\n",
        "#  elif s[i] == \"s\" :\n",
        "#    if s[i+1] == \"=\" : cnt+=1\n",
        "#  elif s[i] == \"l\" :\n",
        "#    if s[i+1] == \"j\" : cnt+=1\n",
        "#  elif s[i] == \"n\" :\n",
        "#    if s[i+1] == \"j\" : cnt+=1  \n",
        "# print(len(s)-cnt)\n",
        "\n",
        "c_alp = [\"c=\", \"c-\", \"dz=\", \"d-\", \"lj\",\t\"nj\",\t\"s=\",\t\"z=\"] \n",
        "for c in c_alp:\n",
        "  s = s.replace(c, \"!\")\n",
        "print(len(s))\n"
      ],
      "metadata": {
        "colab": {
          "base_uri": "https://localhost:8080/"
        },
        "id": "aaZzRfertxeL",
        "outputId": "77d4bb9b-abd2-45c3-dcbd-c7d3285d1ed1"
      },
      "execution_count": 71,
      "outputs": [
        {
          "output_type": "stream",
          "name": "stdout",
          "text": [
            "ljes=njak\n",
            "6\n"
          ]
        }
      ]
    },
    {
      "cell_type": "code",
      "source": [
        "#그룹 단어 체커 - in 명령어를 활용했다면 더 좋았을듯?\n",
        "def isgrp(s)->int :\n",
        "  alp = []\n",
        "  for i in range(len(s)):\n",
        "    ap = 1\n",
        "    for c in alp :\n",
        "      if s[i]==c:\n",
        "        ap=0\n",
        "        if s[i-1] != s[i]:return 0\n",
        "    if ap: alp.append(s[i])\n",
        "  return 1  \n",
        "\n",
        "t = int(input())\n",
        "sum = 0\n",
        "for i in range(t):\n",
        "  sum += isgrp(input())\n",
        "print(sum)"
      ],
      "metadata": {
        "colab": {
          "base_uri": "https://localhost:8080/"
        },
        "id": "pBnHIHW8tz56",
        "outputId": "21ae3a1c-b918-4713-805e-7f6c5d9487bc"
      },
      "execution_count": 73,
      "outputs": [
        {
          "output_type": "stream",
          "name": "stdout",
          "text": [
            "3\n",
            "happy\n",
            "new\n",
            "year\n",
            "3\n"
          ]
        }
      ]
    }
  ]
}