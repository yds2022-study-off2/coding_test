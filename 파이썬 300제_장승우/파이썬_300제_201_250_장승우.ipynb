{
  "nbformat": 4,
  "nbformat_minor": 0,
  "metadata": {
    "colab": {
      "name": "파이썬 300제_201~250_장승우.ipynb",
      "provenance": []
    },
    "kernelspec": {
      "name": "python3",
      "display_name": "Python 3"
    },
    "language_info": {
      "name": "python"
    }
  },
  "cells": [
    {
      "cell_type": "code",
      "execution_count": 1,
      "metadata": {
        "id": "idZcBwnM8xjj"
      },
      "outputs": [],
      "source": [
        "#201\n",
        "def print_coin() :\n",
        "  print(\"비트코인\")"
      ]
    },
    {
      "cell_type": "code",
      "source": [
        "#202\n",
        "print_coin()"
      ],
      "metadata": {
        "colab": {
          "base_uri": "https://localhost:8080/"
        },
        "id": "aMIaEblP9BpK",
        "outputId": "0ffab6e1-c574-4d11-dc59-eafd9c3f17fc"
      },
      "execution_count": 2,
      "outputs": [
        {
          "output_type": "stream",
          "name": "stdout",
          "text": [
            "비트코인\n"
          ]
        }
      ]
    },
    {
      "cell_type": "code",
      "source": [
        "#203\n",
        "for i in range(100) : \n",
        "  print_coin()"
      ],
      "metadata": {
        "id": "5W88M69O9GDo"
      },
      "execution_count": null,
      "outputs": []
    },
    {
      "cell_type": "code",
      "source": [
        "#204\n",
        "def print_coins() :\n",
        "  for i in range(100) :\n",
        "    print(\"비트코인\")"
      ],
      "metadata": {
        "id": "Ch44gnWr9M45"
      },
      "execution_count": 4,
      "outputs": []
    },
    {
      "cell_type": "code",
      "source": [
        "#205\n",
        "hello()\n",
        "def hello():\n",
        "    print(\"Hi\")\n",
        "\n",
        "#정의 이전에 호출"
      ],
      "metadata": {
        "id": "8dA3_EOB9ZvV"
      },
      "execution_count": null,
      "outputs": []
    },
    {
      "cell_type": "code",
      "source": [
        "#206\n",
        "def message() :\n",
        "    print(\"A\")\n",
        "    print(\"B\")\n",
        "\n",
        "message()\n",
        "print(\"C\")\n",
        "message()      #A\\nB\\nC\\nA\\nB"
      ],
      "metadata": {
        "colab": {
          "base_uri": "https://localhost:8080/"
        },
        "id": "YYUNixJ_9htX",
        "outputId": "1afc36c2-5410-44f7-c80b-bcf56587b627"
      },
      "execution_count": 5,
      "outputs": [
        {
          "output_type": "stream",
          "name": "stdout",
          "text": [
            "A\n",
            "B\n",
            "C\n",
            "A\n",
            "B\n"
          ]
        }
      ]
    },
    {
      "cell_type": "code",
      "source": [
        "#207\n",
        "print(\"A\")\n",
        "\n",
        "def message() :\n",
        "    print(\"B\")\n",
        "\n",
        "print(\"C\")\n",
        "message()      #A\\nC\\nB 정의는 맨 윗쪽에"
      ],
      "metadata": {
        "id": "CpnjFgnU9pa-"
      },
      "execution_count": null,
      "outputs": []
    },
    {
      "cell_type": "code",
      "source": [
        "#208\n",
        "print(\"A\")\n",
        "def message1() :\n",
        "    print(\"B\")\n",
        "print(\"C\")\n",
        "def message2() :\n",
        "    print(\"D\")\n",
        "message1()\n",
        "print(\"E\")\n",
        "message2()     #A\\nC\\nB\\nE\\nD"
      ],
      "metadata": {
        "id": "8nfD6xI_91J5"
      },
      "execution_count": null,
      "outputs": []
    },
    {
      "cell_type": "code",
      "source": [
        "#209\n",
        "def message1():\n",
        "    print(\"A\")\n",
        "\n",
        "def message2():\n",
        "    print(\"B\")\n",
        "    message1()\n",
        "\n",
        "message2()      #B\\nA"
      ],
      "metadata": {
        "id": "e_V7sEXy9-Ks"
      },
      "execution_count": null,
      "outputs": []
    },
    {
      "cell_type": "code",
      "source": [
        "#210\n",
        "def message1():\n",
        "    print(\"A\")\n",
        "\n",
        "def message2():\n",
        "    print(\"B\")\n",
        "\n",
        "def message3():\n",
        "    for i in range (3) :\n",
        "        message2()\n",
        "        print(\"C\")\n",
        "    message1()\n",
        "\n",
        "message3()      #BCBCBCA(\\n생략)"
      ],
      "metadata": {
        "id": "xP9vxRaf-DhA"
      },
      "execution_count": null,
      "outputs": []
    },
    {
      "cell_type": "code",
      "source": [
        "#211\n",
        "def 함수(문자열) :\n",
        "    print(문자열)\n",
        "\n",
        "함수(\"안녕\")\n",
        "함수(\"Hi\")      #정상 작동"
      ],
      "metadata": {
        "id": "cfOoSecI-TeE"
      },
      "execution_count": null,
      "outputs": []
    },
    {
      "cell_type": "code",
      "source": [
        "#212\n",
        "def 함수(a, b) :\n",
        "    print(a + b)\n",
        "\n",
        "함수(3, 4)\n",
        "함수(7, 8)     # 7, 15"
      ],
      "metadata": {
        "id": "kVPmyyl2-blg"
      },
      "execution_count": null,
      "outputs": []
    },
    {
      "cell_type": "code",
      "source": [
        "#213\n",
        "def 함수(문자열) :\n",
        "    print(문자열)\n",
        "\n",
        "함수()         # argument missing"
      ],
      "metadata": {
        "id": "TG1-xS2N-fhC"
      },
      "execution_count": null,
      "outputs": []
    },
    {
      "cell_type": "code",
      "source": [
        "#214\n",
        "def 함수(a, b) :\n",
        "    print(a + b)\n",
        "\n",
        "함수(\"안녕\", 3)#argument type not match"
      ],
      "metadata": {
        "id": "72iXofN_-twy"
      },
      "execution_count": null,
      "outputs": []
    },
    {
      "cell_type": "code",
      "source": [
        "#215\n",
        "def print_with_smile():\n",
        "  str_in = input()\n",
        "  print(str_in+\":D\")  #답과 다름: 입력받아<-인수로 받으라는 뜻이었음. 문제 에러."
      ],
      "metadata": {
        "id": "D6e7YmJV-0Eo"
      },
      "execution_count": 6,
      "outputs": []
    },
    {
      "cell_type": "code",
      "source": [
        "#216\n",
        "print_with_smile()"
      ],
      "metadata": {
        "colab": {
          "base_uri": "https://localhost:8080/"
        },
        "id": "9A5XJVyF_B2w",
        "outputId": "079a0f09-66b5-41a4-ebb4-8c7559c79cb0"
      },
      "execution_count": 7,
      "outputs": [
        {
          "output_type": "stream",
          "name": "stdout",
          "text": [
            "안녕하세요\n",
            "안녕하세요:D\n"
          ]
        }
      ]
    },
    {
      "cell_type": "code",
      "source": [
        "#217\n",
        "def print_upper_price(price):\n",
        "  return price*1.3"
      ],
      "metadata": {
        "id": "3LpKnziI_Em6"
      },
      "execution_count": 8,
      "outputs": []
    },
    {
      "cell_type": "code",
      "source": [
        "#218\n",
        "def print_sum(n1,n2) :\n",
        "  print(n1+n2)"
      ],
      "metadata": {
        "id": "FlQPTSXm_sCk"
      },
      "execution_count": 9,
      "outputs": []
    },
    {
      "cell_type": "code",
      "source": [
        "#219\n",
        "def print_arithmetic_operation(n1,n2) :\n",
        "  print(f\"{n1} + {n2} = {n1+n2}\")\n",
        "  print(f\"{n1} - {n2} = {n1-n2}\")\n",
        "  print(f\"{n1} * {n2} = {n1*n2}\")\n",
        "  print(f\"{n1} / {n2} = {n1/n2}\")\n",
        "\n",
        "print_arithmetic_operation(3,4)"
      ],
      "metadata": {
        "colab": {
          "base_uri": "https://localhost:8080/"
        },
        "id": "9nijQV94_1rP",
        "outputId": "1d160108-6d91-49c2-f07b-af02c960cc22"
      },
      "execution_count": 10,
      "outputs": [
        {
          "output_type": "stream",
          "name": "stdout",
          "text": [
            "3 + 4 = 7\n",
            "3 - 4 = -1\n",
            "3 * 4 = 12\n",
            "3 / 4 = 0.75\n"
          ]
        }
      ]
    },
    {
      "cell_type": "code",
      "source": [
        "#220\n",
        "def print_max(n1,n2,n3) :\n",
        "  if n1<n2 : n1=n2\n",
        "  if n1<n3 : n1=n3\n",
        "  print(n1)\n",
        "print_max(3, 7, 230)"
      ],
      "metadata": {
        "colab": {
          "base_uri": "https://localhost:8080/"
        },
        "id": "E0yneM9yAaU4",
        "outputId": "a474196b-9447-4409-8b8b-e33a696e80bc"
      },
      "execution_count": 12,
      "outputs": [
        {
          "output_type": "stream",
          "name": "stdout",
          "text": [
            "230\n"
          ]
        }
      ]
    },
    {
      "cell_type": "code",
      "source": [
        "#221\n",
        "def print_reverse(s):\n",
        "  print(s[::-1])\n",
        "print_reverse(\"python\")\n",
        "  "
      ],
      "metadata": {
        "colab": {
          "base_uri": "https://localhost:8080/"
        },
        "id": "BRikfWu7BLyf",
        "outputId": "a9cdeb7d-c26a-498b-ad9c-0df6b5e540ec"
      },
      "execution_count": 13,
      "outputs": [
        {
          "output_type": "stream",
          "name": "stdout",
          "text": [
            "nohtyp\n"
          ]
        }
      ]
    },
    {
      "cell_type": "code",
      "source": [
        "#222\n",
        "def print_score(li):\n",
        "  print(sum(li)/len(li))\n",
        "\n",
        "print_score([1,2,3])"
      ],
      "metadata": {
        "colab": {
          "base_uri": "https://localhost:8080/"
        },
        "id": "QfTCbhoEBinQ",
        "outputId": "b7e29836-37d7-4b5f-c6cc-04f92df9496e"
      },
      "execution_count": 14,
      "outputs": [
        {
          "output_type": "stream",
          "name": "stdout",
          "text": [
            "2.0\n"
          ]
        }
      ]
    },
    {
      "cell_type": "code",
      "source": [
        "#223\n",
        "def print_even(li) :\n",
        "  for i in li :\n",
        "    if i%2==0 : print(i)\n",
        "\n",
        "print_even ([1, 3, 2, 10, 12, 11, 15])"
      ],
      "metadata": {
        "colab": {
          "base_uri": "https://localhost:8080/"
        },
        "id": "62UjeGJyBx_N",
        "outputId": "8b376ab1-9f60-4f06-fc94-cd1263a36df4"
      },
      "execution_count": 16,
      "outputs": [
        {
          "output_type": "stream",
          "name": "stdout",
          "text": [
            "2\n",
            "10\n",
            "12\n"
          ]
        }
      ]
    },
    {
      "cell_type": "code",
      "source": [
        "#224\n",
        "def print_keys(d) :\n",
        "  for i in d.keys():\n",
        "    print(i)\n",
        "\n",
        "print_keys ({\"이름\":\"김말똥\", \"나이\":30, \"성별\":0})"
      ],
      "metadata": {
        "colab": {
          "base_uri": "https://localhost:8080/"
        },
        "id": "TdiUmZkyB6U1",
        "outputId": "6ca54d96-2de5-41af-82a1-3f98606d04b3"
      },
      "execution_count": 18,
      "outputs": [
        {
          "output_type": "stream",
          "name": "stdout",
          "text": [
            "이름\n",
            "나이\n",
            "성별\n"
          ]
        }
      ]
    },
    {
      "cell_type": "code",
      "source": [
        "#225\n",
        "def print_value_by_key(dic, day):\n",
        "  print(dic[day])\n",
        "\n",
        "my_dict = {\"10/26\" : [100, 130, 100, 100],\n",
        "           \"10/27\" : [10, 12, 10, 11]}\n",
        "\n",
        "print_value_by_key  (my_dict, \"10/26\")"
      ],
      "metadata": {
        "colab": {
          "base_uri": "https://localhost:8080/"
        },
        "id": "S8FWazcIDCE0",
        "outputId": "b0d1cf7e-79e4-4c55-a06f-93b559eee456"
      },
      "execution_count": 20,
      "outputs": [
        {
          "output_type": "stream",
          "name": "stdout",
          "text": [
            "[100, 130, 100, 100]\n"
          ]
        }
      ]
    },
    {
      "cell_type": "code",
      "source": [
        "#226\n",
        "def print_5xn(s):\n",
        "  for i in range(len(s)//5+1) :\n",
        "    print(s[i*5:i*5+5])\n",
        "\n",
        "print_5xn(\"아이엠어보이유알어걸\")"
      ],
      "metadata": {
        "colab": {
          "base_uri": "https://localhost:8080/"
        },
        "id": "vIZbKYC2DeBz",
        "outputId": "14650124-05de-4135-f3d4-e67ee16e0573"
      },
      "execution_count": 21,
      "outputs": [
        {
          "output_type": "stream",
          "name": "stdout",
          "text": [
            "아이엠어보\n",
            "이유알어걸\n",
            "\n"
          ]
        }
      ]
    },
    {
      "cell_type": "code",
      "source": [
        "#227\n",
        "def print_mxn(s, n):\n",
        "  for i in range(len(s)//n+1) :\n",
        "    print(s[i*n:i*n+n])\n",
        "\n",
        "print_mxn(\"아이엠어보이유알어걸\", 3)"
      ],
      "metadata": {
        "colab": {
          "base_uri": "https://localhost:8080/"
        },
        "id": "rTHJpEU3ECvl",
        "outputId": "1c0513eb-841e-4d06-99f4-ff9a5c823edf"
      },
      "execution_count": 22,
      "outputs": [
        {
          "output_type": "stream",
          "name": "stdout",
          "text": [
            "아이엠\n",
            "어보이\n",
            "유알어\n",
            "걸\n"
          ]
        }
      ]
    },
    {
      "cell_type": "code",
      "source": [
        "#228\n",
        "def calc_monthly_salary(salary) :\n",
        "  print(salary//12)\n",
        "\n",
        "calc_monthly_salary(12000000)"
      ],
      "metadata": {
        "colab": {
          "base_uri": "https://localhost:8080/"
        },
        "id": "Zcyonh-KES2C",
        "outputId": "19a2d72a-e5c8-41e1-a3a8-567433bb25cb"
      },
      "execution_count": 23,
      "outputs": [
        {
          "output_type": "stream",
          "name": "stdout",
          "text": [
            "1000000\n"
          ]
        }
      ]
    },
    {
      "cell_type": "code",
      "source": [
        "#229\n",
        "def my_print (a, b) :\n",
        "    print(\"왼쪽:\", a)\n",
        "    print(\"오른쪽:\", b)\n",
        "                        #왼쪽: 100, 오른쪽: 200 \n",
        "my_print(a=100, b=200)  #왜 당연한 걸 이제와서..?"
      ],
      "metadata": {
        "id": "rhsq8mHQEh44"
      },
      "execution_count": null,
      "outputs": []
    },
    {
      "cell_type": "code",
      "source": [
        "#230\n",
        "def my_print (a, b) :\n",
        "    print(\"왼쪽:\", a)\n",
        "    print(\"오른쪽:\", b)\n",
        "\n",
        "my_print(b=100, a=200)  #왼쪽: 200, 오른쪽: 100"
      ],
      "metadata": {
        "id": "O7lhuxy6Ew_z"
      },
      "execution_count": null,
      "outputs": []
    },
    {
      "cell_type": "code",
      "source": [
        "#231\n",
        "def n_plus_1 (n) :\n",
        "    result = n + 1\n",
        "\n",
        "n_plus_1(3)\n",
        "print (result)          #에러, 지역변수는 함수 밖으로 나갈 수 없음"
      ],
      "metadata": {
        "id": "Sl_zBWu5E8zm"
      },
      "execution_count": null,
      "outputs": []
    },
    {
      "cell_type": "code",
      "source": [
        "#232\n",
        "def make_url(s):\n",
        "  return(f\"www.{s}.com\") #반환하라 라고 명시된 문제\n",
        "\n",
        "print(make_url(\"naver\"))"
      ],
      "metadata": {
        "colab": {
          "base_uri": "https://localhost:8080/"
        },
        "id": "9gXu_1bsE9so",
        "outputId": "1c743f68-6740-4a64-c5c7-bc206c8fb92d"
      },
      "execution_count": 42,
      "outputs": [
        {
          "output_type": "stream",
          "name": "stdout",
          "text": [
            "www.naver.com\n"
          ]
        }
      ]
    },
    {
      "cell_type": "code",
      "source": [
        "#233\n",
        "def make_list(s) :\n",
        "  return [i for i in s]\n",
        "\n",
        "print(make_list(\"naver\"))"
      ],
      "metadata": {
        "colab": {
          "base_uri": "https://localhost:8080/"
        },
        "id": "XLG0RsPOE_s3",
        "outputId": "dd897c38-19fd-4913-ce46-297d63daa6eb"
      },
      "execution_count": 44,
      "outputs": [
        {
          "output_type": "stream",
          "name": "stdout",
          "text": [
            "['n', 'a', 'v', 'e', 'r']\n"
          ]
        }
      ]
    },
    {
      "cell_type": "code",
      "source": [
        "#234\n",
        "def pickup_even(li):\n",
        "  return [i for i in li if i%2==0]\n",
        "\n",
        "print(pickup_even([3, 4, 5, 6, 7, 8]))"
      ],
      "metadata": {
        "colab": {
          "base_uri": "https://localhost:8080/"
        },
        "id": "15oScomRFAL0",
        "outputId": "21fdd157-dc15-4745-d4cd-bd77af231b7e"
      },
      "execution_count": 46,
      "outputs": [
        {
          "output_type": "stream",
          "name": "stdout",
          "text": [
            "[4, 6, 8]\n"
          ]
        }
      ]
    },
    {
      "cell_type": "code",
      "source": [
        "#235\n",
        "def convert_int(n_s):\n",
        "  return int(n_s.replace(\",\",\"\"))\n",
        "\n",
        "print(convert_int(\"1,234,567\"))"
      ],
      "metadata": {
        "colab": {
          "base_uri": "https://localhost:8080/"
        },
        "id": "GllXkCxTFAyE",
        "outputId": "32be643a-b543-4062-ddd9-405cae3e655a"
      },
      "execution_count": 47,
      "outputs": [
        {
          "output_type": "stream",
          "name": "stdout",
          "text": [
            "1234567\n"
          ]
        }
      ]
    },
    {
      "cell_type": "code",
      "source": [
        "#236\n",
        "def 함수(num) :\n",
        "    return num + 4\n",
        "\n",
        "a = 함수(10)\n",
        "b = 함수(a)\n",
        "c = 함수(b)\n",
        "print(c)                 #22"
      ],
      "metadata": {
        "colab": {
          "base_uri": "https://localhost:8080/"
        },
        "id": "I8bIVqpAFB3O",
        "outputId": "9d66980e-e277-4f3d-8d29-509a01e66884"
      },
      "execution_count": 48,
      "outputs": [
        {
          "output_type": "stream",
          "name": "stdout",
          "text": [
            "22\n"
          ]
        }
      ]
    },
    {
      "cell_type": "code",
      "source": [
        "#237\n",
        "def 함수(num) :\n",
        "    return num + 4\n",
        "\n",
        "c = 함수(함수(함수(10)))\n",
        "print(c)                  #22"
      ],
      "metadata": {
        "colab": {
          "base_uri": "https://localhost:8080/"
        },
        "id": "fFXqRVKWFCeQ",
        "outputId": "5639f9b5-9338-4751-fe01-3de48d8fedbe"
      },
      "execution_count": 49,
      "outputs": [
        {
          "output_type": "stream",
          "name": "stdout",
          "text": [
            "22\n"
          ]
        }
      ]
    },
    {
      "cell_type": "code",
      "source": [
        "#238\n",
        "def 함수1(num) :\n",
        "    return num + 4\n",
        "\n",
        "def 함수2(num) :\n",
        "    return num * 10\n",
        "\n",
        "a = 함수1(10)\n",
        "c = 함수2(a)\n",
        "print(c)                #120"
      ],
      "metadata": {
        "colab": {
          "base_uri": "https://localhost:8080/"
        },
        "id": "3-P15cfyFC-O",
        "outputId": "acab90cc-bdd2-475f-9325-d3f967c69fb9"
      },
      "execution_count": 50,
      "outputs": [
        {
          "output_type": "stream",
          "name": "stdout",
          "text": [
            "140\n"
          ]
        }
      ]
    },
    {
      "cell_type": "code",
      "source": [
        "#239\n",
        "def 함수1(num) :\n",
        "    return num + 4\n",
        "\n",
        "def 함수2(num) :\n",
        "    num = num + 2\n",
        "    return 함수1(num)\n",
        "\n",
        "c = 함수2(10)\n",
        "print(c)                #16"
      ],
      "metadata": {
        "colab": {
          "base_uri": "https://localhost:8080/"
        },
        "id": "g2IUqcFxFDkw",
        "outputId": "f4f7fbcd-51c9-47d9-a5ee-863da2d20da1"
      },
      "execution_count": 51,
      "outputs": [
        {
          "output_type": "stream",
          "name": "stdout",
          "text": [
            "16\n"
          ]
        }
      ]
    },
    {
      "cell_type": "code",
      "source": [
        "#240\n",
        "def 함수0(num) :\n",
        "    return num * 2\n",
        "\n",
        "def 함수1(num) :\n",
        "    return 함수0(num + 2)\n",
        "\n",
        "def 함수2(num) :\n",
        "    num = num + 10\n",
        "    return 함수1(num)\n",
        "\n",
        "c = 함수2(2)\n",
        "print(c)                #28"
      ],
      "metadata": {
        "colab": {
          "base_uri": "https://localhost:8080/"
        },
        "id": "Fz3oRx1RFEI8",
        "outputId": "1320ce58-3319-4f6d-d9ea-6b8f6a690668"
      },
      "execution_count": 52,
      "outputs": [
        {
          "output_type": "stream",
          "name": "stdout",
          "text": [
            "28\n"
          ]
        }
      ]
    },
    {
      "cell_type": "code",
      "source": [
        "#241\n",
        "import datetime\n",
        "print(datetime.datetime.now())"
      ],
      "metadata": {
        "colab": {
          "base_uri": "https://localhost:8080/"
        },
        "id": "BTBInzTVFEu8",
        "outputId": "fef9e602-9bcd-4acf-f59a-7b92ce27d0d8"
      },
      "execution_count": 54,
      "outputs": [
        {
          "output_type": "stream",
          "name": "stdout",
          "text": [
            "2022-05-25 02:54:14.439537\n"
          ]
        }
      ]
    },
    {
      "cell_type": "code",
      "source": [
        "#242\n",
        "print(type(datetime.datetime.now()))"
      ],
      "metadata": {
        "colab": {
          "base_uri": "https://localhost:8080/"
        },
        "id": "nkoCk2WUFFmO",
        "outputId": "2383ca21-0f36-482d-8d30-d926bd3c5a14"
      },
      "execution_count": 55,
      "outputs": [
        {
          "output_type": "stream",
          "name": "stdout",
          "text": [
            "<class 'datetime.datetime'>\n"
          ]
        }
      ]
    },
    {
      "cell_type": "code",
      "source": [
        "#243\n",
        "for i in range(5,0,-1):\n",
        "  print(datetime.datetime.now()-datetime.timedelta(i))\n"
      ],
      "metadata": {
        "colab": {
          "base_uri": "https://localhost:8080/"
        },
        "id": "qBwFNHt1FGk5",
        "outputId": "619c4eb0-84e9-4d97-a5c5-b2ef52221f00"
      },
      "execution_count": 61,
      "outputs": [
        {
          "output_type": "stream",
          "name": "stdout",
          "text": [
            "2022-05-20 02:58:14.318248\n",
            "2022-05-21 02:58:14.320066\n",
            "2022-05-22 02:58:14.320876\n",
            "2022-05-23 02:58:14.321804\n",
            "2022-05-24 02:58:14.322526\n"
          ]
        }
      ]
    },
    {
      "cell_type": "code",
      "source": [
        "#244\n",
        "now = datetime.datetime.now()\n",
        "print(now.strftime(\"%H:%M:%S\"))"
      ],
      "metadata": {
        "colab": {
          "base_uri": "https://localhost:8080/"
        },
        "id": "G11T4WVQFHQJ",
        "outputId": "cbc65a74-3813-4c3a-fc8c-2e70e93524ae"
      },
      "execution_count": 64,
      "outputs": [
        {
          "output_type": "stream",
          "name": "stdout",
          "text": [
            "03:00:25\n"
          ]
        }
      ]
    },
    {
      "cell_type": "code",
      "source": [
        "#245\n",
        "day = \"2022-05-25\"\n",
        "print(datetime.datetime.strptime(day, \"%Y-%m-%d\"))"
      ],
      "metadata": {
        "colab": {
          "base_uri": "https://localhost:8080/"
        },
        "id": "S591zpg0FHwA",
        "outputId": "56f15da5-de6d-435f-eee0-071e67d96f8f"
      },
      "execution_count": 67,
      "outputs": [
        {
          "output_type": "stream",
          "name": "stdout",
          "text": [
            "2022-05-25 00:00:00\n"
          ]
        }
      ]
    },
    {
      "cell_type": "code",
      "source": [
        "#246\n",
        "import time\n",
        "import datetime\n",
        "\n",
        "while True :\n",
        "  print(datetime.datetime.now())\n",
        "  time.sleep(1) #중지시킴"
      ],
      "metadata": {
        "id": "oOBzHL6WFIkX"
      },
      "execution_count": null,
      "outputs": []
    },
    {
      "cell_type": "code",
      "source": [
        "#247\n",
        "import numpy #라이브러리 임포트<-라이브러리별 충돌 최소화\n",
        "from numpy import array #특정 함수 임포트\n",
        "from numpy import * #다 불러오기\n",
        "\n",
        "\n",
        "import numpy as np #별명 설정이 4번째라고...???"
      ],
      "metadata": {
        "id": "v9HQIZvvFJOA"
      },
      "execution_count": 39,
      "outputs": []
    },
    {
      "cell_type": "code",
      "source": [
        "#248\n",
        "from os import getcwd\n",
        "print(f\"'{getcwd()}'\")"
      ],
      "metadata": {
        "colab": {
          "base_uri": "https://localhost:8080/"
        },
        "id": "dt2Qt4q_FJwV",
        "outputId": "f61a3d2e-a0d5-432c-833a-e5e4dc77c80b"
      },
      "execution_count": 70,
      "outputs": [
        {
          "output_type": "stream",
          "name": "stdout",
          "text": [
            "'/content'\n"
          ]
        }
      ]
    },
    {
      "cell_type": "code",
      "source": [
        "#249\n",
        "import os\n",
        "os.rename(\"./a.txt\", \"./after.txt\") #여건관계상 패스 "
      ],
      "metadata": {
        "id": "zF8fN0k5FKR9"
      },
      "execution_count": 73,
      "outputs": []
    },
    {
      "cell_type": "code",
      "source": [
        "#250\n",
        "import numpy as np\n",
        "\n",
        "print(np.arange(0,5,0.1))"
      ],
      "metadata": {
        "colab": {
          "base_uri": "https://localhost:8080/"
        },
        "id": "I_yaQKtdFK35",
        "outputId": "1e3bceaf-e35a-4839-f3b6-2e7d007bbdff"
      },
      "execution_count": 79,
      "outputs": [
        {
          "output_type": "stream",
          "name": "stdout",
          "text": [
            "[0.  0.1 0.2 0.3 0.4 0.5 0.6 0.7 0.8 0.9 1.  1.1 1.2 1.3 1.4 1.5 1.6 1.7\n",
            " 1.8 1.9 2.  2.1 2.2 2.3 2.4 2.5 2.6 2.7 2.8 2.9 3.  3.1 3.2 3.3 3.4 3.5\n",
            " 3.6 3.7 3.8 3.9 4.  4.1 4.2 4.3 4.4 4.5 4.6 4.7 4.8 4.9]\n"
          ]
        }
      ]
    },
    {
      "cell_type": "code",
      "source": [
        ""
      ],
      "metadata": {
        "id": "qtMVcoD2Nj5W"
      },
      "execution_count": null,
      "outputs": []
    }
  ]
}