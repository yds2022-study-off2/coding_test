{
  "nbformat": 4,
  "nbformat_minor": 0,
  "metadata": {
    "colab": {
      "name": "파이썬 300제 101_150_장승우.ipynb",
      "provenance": [],
      "collapsed_sections": []
    },
    "kernelspec": {
      "name": "python3",
      "display_name": "Python 3"
    },
    "language_info": {
      "name": "python"
    }
  },
  "cells": [
    {
      "cell_type": "code",
      "execution_count": null,
      "metadata": {
        "colab": {
          "base_uri": "https://localhost:8080/"
        },
        "id": "SXYQm3NL_BWk",
        "outputId": "5ca3a32e-618a-449f-ce2a-ed372a1e4782"
      },
      "outputs": [
        {
          "output_type": "stream",
          "name": "stdout",
          "text": [
            "True <class 'bool'>\n"
          ]
        }
      ],
      "source": [
        "#101\n",
        "a = True\n",
        "print(a, type(a))"
      ]
    },
    {
      "cell_type": "code",
      "source": [
        "#102\n",
        "print(3==5) #False"
      ],
      "metadata": {
        "colab": {
          "base_uri": "https://localhost:8080/"
        },
        "id": "1J76_X-V_Sig",
        "outputId": "f837a337-7fa6-4128-fa58-55f707e953f6"
      },
      "execution_count": null,
      "outputs": [
        {
          "output_type": "stream",
          "name": "stdout",
          "text": [
            "False\n"
          ]
        }
      ]
    },
    {
      "cell_type": "code",
      "source": [
        "#103\n",
        "print(3 < 5) #True"
      ],
      "metadata": {
        "colab": {
          "base_uri": "https://localhost:8080/"
        },
        "id": "FD_-FyQT_ij-",
        "outputId": "a2421967-8efa-470f-afa3-a4414df27952"
      },
      "execution_count": null,
      "outputs": [
        {
          "output_type": "stream",
          "name": "stdout",
          "text": [
            "True\n"
          ]
        }
      ]
    },
    {
      "cell_type": "code",
      "source": [
        "#104\n",
        "x = 4\n",
        "print(1 < x < 5) #True"
      ],
      "metadata": {
        "colab": {
          "base_uri": "https://localhost:8080/"
        },
        "id": "7fsg8dfr_pRc",
        "outputId": "3014712d-ff3e-4676-f2a1-f60e512c71dc"
      },
      "execution_count": null,
      "outputs": [
        {
          "output_type": "stream",
          "name": "stdout",
          "text": [
            "True\n"
          ]
        }
      ]
    },
    {
      "cell_type": "code",
      "source": [
        "#105\n",
        "print ((3 == 3) and (4 != 3 )) #True"
      ],
      "metadata": {
        "colab": {
          "base_uri": "https://localhost:8080/"
        },
        "id": "9T7BWgS8_uSl",
        "outputId": "8d61f593-015f-4fc4-e4d9-dccb41ceacd5"
      },
      "execution_count": null,
      "outputs": [
        {
          "output_type": "stream",
          "name": "stdout",
          "text": [
            "True\n"
          ]
        }
      ]
    },
    {
      "cell_type": "code",
      "source": [
        "#106\n",
        "print(3=>4) # 크거나->같다 (o) 같거나->크다(x) "
      ],
      "metadata": {
        "id": "KDV9ScB6_4Uo",
        "colab": {
          "base_uri": "https://localhost:8080/",
          "height": 137
        },
        "outputId": "4f5030ee-82ed-4ca5-98bc-28f753a96ad0"
      },
      "execution_count": 1,
      "outputs": [
        {
          "output_type": "error",
          "ename": "SyntaxError",
          "evalue": "ignored",
          "traceback": [
            "\u001b[0;36m  File \u001b[0;32m\"<ipython-input-1-3a90157f9e1e>\"\u001b[0;36m, line \u001b[0;32m2\u001b[0m\n\u001b[0;31m    print(3=>4) # 크거나->같다 (o) 같거나->크다(x)\u001b[0m\n\u001b[0m            ^\u001b[0m\n\u001b[0;31mSyntaxError\u001b[0m\u001b[0;31m:\u001b[0m invalid syntax\n"
          ]
        }
      ]
    },
    {
      "cell_type": "code",
      "source": [
        "#107\n",
        "if 4 < 3:\n",
        "  print('Hello World!') #if조건 미충족(결과없음)"
      ],
      "metadata": {
        "id": "dFOQDn_OErd9"
      },
      "execution_count": 2,
      "outputs": []
    },
    {
      "cell_type": "code",
      "source": [
        "#108\n",
        "if 4 < 3:\n",
        "    print(\"Hello World.\")\n",
        "else:\n",
        "    print(\"Hi, there.\")   #if조건 미충족으로 else 실행됨(Hi, There)"
      ],
      "metadata": {
        "colab": {
          "base_uri": "https://localhost:8080/"
        },
        "id": "PGAfa5mdE6HA",
        "outputId": "fdbcda44-e2e5-4227-eb70-53e1b6a68a0f"
      },
      "execution_count": 3,
      "outputs": [
        {
          "output_type": "stream",
          "name": "stdout",
          "text": [
            "Hi, there.\n"
          ]
        }
      ]
    },
    {
      "cell_type": "code",
      "source": [
        "#109\n",
        "if True :\n",
        "    print (\"1\")\n",
        "    print (\"2\")\n",
        "else :\n",
        "    print(\"3\")          #1,2->True 3->False(else) 4-> outof if\n",
        "print(\"4\")              #so 1,2,4"
      ],
      "metadata": {
        "colab": {
          "base_uri": "https://localhost:8080/"
        },
        "id": "1KhyDarQHD15",
        "outputId": "d07f16c5-051e-4130-b0ae-4c44c6a91e8e"
      },
      "execution_count": 6,
      "outputs": [
        {
          "output_type": "stream",
          "name": "stdout",
          "text": [
            "1\n",
            "2\n",
            "4\n"
          ]
        }
      ]
    },
    {
      "cell_type": "code",
      "source": [
        "#110\n",
        "if True :\n",
        "  if False : \n",
        "    print('1')\n",
        "    print('2')\n",
        "  else : \n",
        "    print('3')\n",
        "else :\n",
        "  print('4')              # 1,2->False 3->True(else) 4->False(else) 5->outof if\n",
        "print('5')                # so 3, 5"
      ],
      "metadata": {
        "colab": {
          "base_uri": "https://localhost:8080/"
        },
        "id": "f77PUpvyFHce",
        "outputId": "1a7f596b-3ce0-4e70-f5af-54361e8fdb50"
      },
      "execution_count": 5,
      "outputs": [
        {
          "output_type": "stream",
          "name": "stdout",
          "text": [
            "3\n",
            "5\n"
          ]
        }
      ]
    },
    {
      "cell_type": "code",
      "source": [
        "#111\n",
        "string = input()\n",
        "print(string*2)"
      ],
      "metadata": {
        "colab": {
          "base_uri": "https://localhost:8080/"
        },
        "id": "utowrSTsFRzO",
        "outputId": "109aa94a-0d6a-48f5-8e90-d426caaab46d"
      },
      "execution_count": 7,
      "outputs": [
        {
          "output_type": "stream",
          "name": "stdout",
          "text": [
            "안녕하세요\n",
            "안녕하세요안녕하세요\n"
          ]
        }
      ]
    },
    {
      "cell_type": "code",
      "source": [
        "#112\n",
        "number = input(\"숫자를 입력하세요: \")\n",
        "print(int(number)+10)"
      ],
      "metadata": {
        "colab": {
          "base_uri": "https://localhost:8080/"
        },
        "id": "hFgH7uf7IFpu",
        "outputId": "8bfd0f5e-aa12-442a-a652-d2ae349cc3b7"
      },
      "execution_count": 10,
      "outputs": [
        {
          "output_type": "stream",
          "name": "stdout",
          "text": [
            "숫자를 입력하세요: 30\n",
            "40\n"
          ]
        }
      ]
    },
    {
      "cell_type": "code",
      "source": [
        "#113\n",
        "number = input()\n",
        "if int(number)%2==0 :\n",
        "  print(\"짝수\")\n",
        "else : \n",
        "  print(\"홀수\")"
      ],
      "metadata": {
        "colab": {
          "base_uri": "https://localhost:8080/"
        },
        "id": "HnWPqVseIl3V",
        "outputId": "f2ade749-8959-4e12-f12d-b2313b3829ed"
      },
      "execution_count": 12,
      "outputs": [
        {
          "output_type": "stream",
          "name": "stdout",
          "text": [
            "30\n",
            "짝수\n"
          ]
        }
      ]
    },
    {
      "cell_type": "code",
      "source": [
        "#114\n",
        "num = int(input(\"입력값: \"))+20  #그냥 여서 처리하는게 나은듯\n",
        "\n",
        "if num > 255 :                   #255 = 2^8-1, char로 어떻게 깔끔하게 안되나..?\n",
        "  num = 255\n",
        "\n",
        "print(f\"출력값: {num}\")"
      ],
      "metadata": {
        "colab": {
          "base_uri": "https://localhost:8080/"
        },
        "id": "_qmyqneGJQ3l",
        "outputId": "63791a32-762b-48eb-d78a-07657879a487"
      },
      "execution_count": 29,
      "outputs": [
        {
          "output_type": "stream",
          "name": "stdout",
          "text": [
            "입력값: 200\n",
            "출력값: 220\n"
          ]
        }
      ]
    },
    {
      "cell_type": "code",
      "source": [
        "#115\n",
        "num = int(input(\"입력값: \")) - 20\n",
        "\n",
        "if num > 255 :         \n",
        "  num = 255\n",
        "elif num < 0 :\n",
        "  num = 0\n",
        "\n",
        "print(f\"출력값: {num}\")"
      ],
      "metadata": {
        "colab": {
          "base_uri": "https://localhost:8080/"
        },
        "id": "fQJP4ncuPjr7",
        "outputId": "04621ffa-2613-4b6b-baba-4659c8cc16f4"
      },
      "execution_count": 30,
      "outputs": [
        {
          "output_type": "stream",
          "name": "stdout",
          "text": [
            "입력값: 200\n",
            "출력값: 180\n"
          ]
        }
      ]
    },
    {
      "cell_type": "code",
      "source": [
        "#116\n",
        "time = input(\"현재시간: \")\n",
        "if time.endswith(\"00\") :\n",
        "  print(\"정각 입니다.\")\n",
        "else :\n",
        "  print(\"정각이 아닙니다.\")"
      ],
      "metadata": {
        "colab": {
          "base_uri": "https://localhost:8080/"
        },
        "id": "3e-jK2BmQCt8",
        "outputId": "8d29ddec-58ce-47f3-9c5d-0f0b419799a8"
      },
      "execution_count": 31,
      "outputs": [
        {
          "output_type": "stream",
          "name": "stdout",
          "text": [
            "현재시간: 12:00\n",
            "정각 입니다.\n"
          ]
        }
      ]
    },
    {
      "cell_type": "code",
      "source": [
        "#117\n",
        "fruit = [\"사과\", \"포도\", \"홍시\"] #복숭아는...?\n",
        "\n",
        "str_in = input(\"좋아하는 과일은?: \")\n",
        "if str_in in fruit :\n",
        "  print(\"정답입니다.\")\n",
        "else :\n",
        "  print(\"오답입니다.\")"
      ],
      "metadata": {
        "colab": {
          "base_uri": "https://localhost:8080/"
        },
        "id": "XEynmdScSCnK",
        "outputId": "58cc0ab5-403e-4ff5-8d08-cfa2df10250b"
      },
      "execution_count": 32,
      "outputs": [
        {
          "output_type": "stream",
          "name": "stdout",
          "text": [
            "좋아하는 과일은?: 사과\n",
            "정답입니다.\n"
          ]
        }
      ]
    },
    {
      "cell_type": "code",
      "source": [
        "#118\n",
        "warn_investment_list = [\"Microsoft\", \"Google\", \"Naver\", \"Kakao\", \"SAMSUNG\", \"LG\"]\n",
        "\n",
        "str_in = input(\"\")\n",
        "if str_in in warn_investment_list :\n",
        "  print(\"투자 경고 종목입니다.\")\n",
        "else :\n",
        "  print(\"투자 경고 종목이 아닙니다.\")"
      ],
      "metadata": {
        "colab": {
          "base_uri": "https://localhost:8080/"
        },
        "id": "UaybIChjTf1y",
        "outputId": "5c9dc094-6d94-4f58-af40-d466beb303b9"
      },
      "execution_count": 33,
      "outputs": [
        {
          "output_type": "stream",
          "name": "stdout",
          "text": [
            "Microsoft\n",
            "투자 경고 종목입니다.\n"
          ]
        }
      ]
    },
    {
      "cell_type": "code",
      "source": [
        "#119\n",
        "fruit = {\"봄\" : \"딸기\", \"여름\" : \"토마토\", \"가을\" : \"사과\"} \n",
        "\n",
        "str_in = input(\"좋아하는 계절은: \")\n",
        "if str_in in fruit.keys() :\n",
        "  print(\"정답입니다.\")\n",
        "else :\n",
        "  print(\"오답입니다.\")"
      ],
      "metadata": {
        "colab": {
          "base_uri": "https://localhost:8080/"
        },
        "id": "MyLfVzUCUj5q",
        "outputId": "293393bb-fb57-4ab5-a5a8-dd85816af2d8"
      },
      "execution_count": 34,
      "outputs": [
        {
          "output_type": "stream",
          "name": "stdout",
          "text": [
            "좋아하는 계절은: 봄\n",
            "정답입니다.\n"
          ]
        }
      ]
    },
    {
      "cell_type": "code",
      "source": [
        "#120\n",
        "fruit = {\"봄\" : \"딸기\", \"여름\" : \"토마토\", \"가을\" : \"사과\"} \n",
        "\n",
        "str_in = input(\"좋아하는 과일은: \")\n",
        "if str_in in fruit.values() :\n",
        "  print(\"정답입니다.\")\n",
        "else :\n",
        "  print(\"오답입니다.\")"
      ],
      "metadata": {
        "colab": {
          "base_uri": "https://localhost:8080/"
        },
        "id": "GcO8EBUvU_OC",
        "outputId": "c17174a2-f8a1-4dd9-cc62-806be51ba053"
      },
      "execution_count": 35,
      "outputs": [
        {
          "output_type": "stream",
          "name": "stdout",
          "text": [
            "좋아하는 과일은: 한라봉\n",
            "오답입니다.\n"
          ]
        }
      ]
    },
    {
      "cell_type": "code",
      "source": [
        "#121\n",
        "char_in = input()      #아스키코드로 바꿔서 할 수도 있겠지만...\n",
        "\n",
        "if char_in.islower():  #'파이썬이니까'\n",
        "  char_in = char_in.upper()\n",
        "else :\n",
        "  char_in = char_in.lower()\n",
        "print(char_in)"
      ],
      "metadata": {
        "colab": {
          "base_uri": "https://localhost:8080/"
        },
        "id": "ILI9czQnVJLh",
        "outputId": "4f317179-09ca-4d9c-80a5-ba9e03217139"
      },
      "execution_count": 38,
      "outputs": [
        {
          "output_type": "stream",
          "name": "stdout",
          "text": [
            "a\n",
            "A\n"
          ]
        }
      ]
    },
    {
      "cell_type": "code",
      "source": [
        "#122\n",
        "score = input(\"score: \")\n",
        "\n",
        "score = int(score)\n",
        "if 81 <= score <= 100:\n",
        "    print(\"grade is A\")\n",
        "elif 61 <= score <= 80:\n",
        "    print(\"grade is B\")\n",
        "elif 41 <= score <= 60:\n",
        "    print(\"grade is C\")\n",
        "elif 21 <= score <= 40:\n",
        "    print(\"grade is D\")\n",
        "else:\n",
        "    print(\"grade is E\")"
      ],
      "metadata": {
        "colab": {
          "base_uri": "https://localhost:8080/"
        },
        "id": "ylsNIrUzVx46",
        "outputId": "7703dede-4137-4877-f35f-c8b5d3b1eacc"
      },
      "execution_count": 39,
      "outputs": [
        {
          "output_type": "stream",
          "name": "stdout",
          "text": [
            "score: 83\n",
            "grade is A\n"
          ]
        }
      ]
    },
    {
      "cell_type": "code",
      "source": [
        "#123\n",
        "환율 = {\"달러\": 1167, \n",
        "        \"엔\": 1.096, \n",
        "        \"유로\": 1268, \n",
        "        \"위안\": 171}\n",
        "\n",
        "user = input(\"입력: \")\n",
        "num, currency = user.split()\n",
        "print(float(num) * 환율[currency], \"원\")"
      ],
      "metadata": {
        "colab": {
          "base_uri": "https://localhost:8080/"
        },
        "id": "7tysl4tiZZVz",
        "outputId": "08cb721f-1351-4194-a440-7c7e4344d3d4"
      },
      "execution_count": 40,
      "outputs": [
        {
          "output_type": "stream",
          "name": "stdout",
          "text": [
            "입력: 100 달러\n",
            "116700.0 원\n"
          ]
        }
      ]
    },
    {
      "cell_type": "code",
      "source": [
        "#124\n",
        "n1 = int(input(\"inqut number1: \"))\n",
        "n2 = int(input(\"inqut number2: \"))\n",
        "n3 = int(input(\"inqut number3: \"))\n",
        "\n",
        "if n1<n2:\n",
        "  n1=n2\n",
        "if n1<n3:\n",
        "  n1=n3\n",
        "print(n1)\n"
      ],
      "metadata": {
        "colab": {
          "base_uri": "https://localhost:8080/"
        },
        "id": "SsPFjyGldze0",
        "outputId": "ee970e9c-ed88-4081-dfd6-9c5d41ea9f82"
      },
      "execution_count": 42,
      "outputs": [
        {
          "output_type": "stream",
          "name": "stdout",
          "text": [
            "inqut number1: 1\n",
            "inqut number2: 2\n",
            "inqut number3: 3\n",
            "3\n"
          ]
        }
      ]
    },
    {
      "cell_type": "code",
      "source": [
        "#125\n",
        "tel_num = input(\"휴대전화 번호 입력: \")\n",
        "tel = tel_num.split(\"-\")[0]\n",
        "if tel == \"011\" :\n",
        "  tel = \"SKT\"\n",
        "elif tel == \"016\" :\n",
        "  tel = \"KT\"\n",
        "elif tel == \"019\" :\n",
        "  tel = \"LGU\"\n",
        "else :\n",
        "  tel = \"Unknown\"\n",
        "print(f\"당신은 {tel} 사용자입니다.\")"
      ],
      "metadata": {
        "colab": {
          "base_uri": "https://localhost:8080/"
        },
        "id": "MpcZucQcey8w",
        "outputId": "1f1ba77b-704d-4222-8257-9d54a21f1e89"
      },
      "execution_count": 44,
      "outputs": [
        {
          "output_type": "stream",
          "name": "stdout",
          "text": [
            "휴대전화 번호 입력: 011-234-5678\n",
            "당신은 SKT 사용자입니다.\n"
          ]
        }
      ]
    },
    {
      "cell_type": "code",
      "source": [
        "#126\n",
        "tel_num = input(\"우편번호: \")\n",
        "tel = int(tel_num[2])\n",
        "if tel<3  :\n",
        "  tel = \"강북구\"\n",
        "elif 2<tel<6 :\n",
        "  tel = \"도봉구\"\n",
        "elif 5<tel :\n",
        "  tel = \"노원구\"\n",
        "else :\n",
        "  tel = \"Unknown\"\n",
        "print(f\"당신은 {tel} 거주자입니다.\")"
      ],
      "metadata": {
        "colab": {
          "base_uri": "https://localhost:8080/"
        },
        "id": "0ZiqKrdziygf",
        "outputId": "d1c8e340-9e55-4eee-bde9-d556cf347f18"
      },
      "execution_count": 45,
      "outputs": [
        {
          "output_type": "stream",
          "name": "stdout",
          "text": [
            "우편번호: 01300\n",
            "당신은 도봉구 거주자입니다.\n"
          ]
        }
      ]
    },
    {
      "cell_type": "code",
      "source": [
        "#127\n",
        "Pnum = input(\"주민등록번호: \")\n",
        "\n",
        "if int(Pnum.split(\"-\")[1][0])%2==1 :\n",
        "  print('남자')\n",
        "else :\n",
        "  print(\"여자\")   #예외처리 귀찮았음\n"
      ],
      "metadata": {
        "colab": {
          "base_uri": "https://localhost:8080/"
        },
        "id": "fzTTMUkDluE_",
        "outputId": "f0454079-22f0-4f2d-efce-7fdbebe2322c"
      },
      "execution_count": 48,
      "outputs": [
        {
          "output_type": "stream",
          "name": "stdout",
          "text": [
            "주민등록번호: 821010-1634210\n",
            "남자\n"
          ]
        }
      ]
    },
    {
      "cell_type": "code",
      "source": [
        "#128\n",
        "Pnum = input(\"주민등록번호: \")\n",
        "\n",
        "if int(Pnum.split(\"-\")[1][1:3])<9 :\n",
        "  print('서울입니다.')\n",
        "else :\n",
        "  print(\"서울이 아닙니다.\")   #예외처리 귀찮았음\n"
      ],
      "metadata": {
        "colab": {
          "base_uri": "https://localhost:8080/"
        },
        "id": "qTCtiCOunP6E",
        "outputId": "7d22f5c2-51e8-4887-fa4e-cc8a4c9c2b76"
      },
      "execution_count": 53,
      "outputs": [
        {
          "output_type": "stream",
          "name": "stdout",
          "text": [
            "주민등록번호: 861010-1015210\n",
            "서울입니다.\n"
          ]
        }
      ]
    },
    {
      "cell_type": "code",
      "source": [
        "#129\n",
        "Pnum = input(\"주민등록번호: \")\n",
        "vali = Pnum.replace(\"-\", '')\n",
        "sum = 0\n",
        "for i in range(8) :\n",
        "  sum += int(vali[i]) * i+2\n",
        "for i in range(4) :\n",
        "  sum += int(vali[i+8]) * i+2 \n",
        "\n",
        "if int(vali[12])==11 - sum%11 : \n",
        "  print (\"유효한 주민등록번호입니다.\")\n",
        "else : \n",
        "  print(\"유효한 주민등록번호가 아닙니다.\")"
      ],
      "metadata": {
        "colab": {
          "base_uri": "https://localhost:8080/"
        },
        "id": "3qSDlczCnXht",
        "outputId": "9a27e7f6-c6da-477e-aaae-4d260fcf9f9a"
      },
      "execution_count": 61,
      "outputs": [
        {
          "output_type": "stream",
          "name": "stdout",
          "text": [
            "주민등록번호: 821010-1635210\n",
            "유효한 주민등록번호가 아닙니다.\n"
          ]
        }
      ]
    },
    {
      "cell_type": "code",
      "source": [
        "#130\n",
        "import requests\n",
        "btc = requests.get(\"https://api.bithumb.com/public/ticker/\").json()['data']\n",
        "change = int(btc['max_price'])-int(btc['min_price'])\n",
        "if  int(btc['max_price']) <int(btc['opening_price']) + change : print('상승장')\n",
        "else : print(\"하락장\")"
      ],
      "metadata": {
        "colab": {
          "base_uri": "https://localhost:8080/"
        },
        "id": "KzoojwLHnw71",
        "outputId": "750475db-df6d-45ef-8deb-71be69380e8c"
      },
      "execution_count": 64,
      "outputs": [
        {
          "output_type": "stream",
          "name": "stdout",
          "text": [
            "상승장\n"
          ]
        }
      ]
    },
    {
      "cell_type": "code",
      "source": [
        "#131\n",
        "과일 = [\"사과\", \"귤\", \"수박\"]\n",
        "for 변수 in 과일:\n",
        "    print(변수)              #사과\\n귤\\n수박"
      ],
      "metadata": {
        "colab": {
          "base_uri": "https://localhost:8080/",
          "height": 35
        },
        "id": "0tS1jdG7o0GH",
        "outputId": "88dc474c-1460-4fb7-abf0-680aac7a7649"
      },
      "execution_count": 63,
      "outputs": [
        {
          "output_type": "execute_result",
          "data": {
            "text/plain": [
              "'38116000'"
            ],
            "application/vnd.google.colaboratory.intrinsic+json": {
              "type": "string"
            }
          },
          "metadata": {},
          "execution_count": 63
        }
      ]
    },
    {
      "cell_type": "code",
      "source": [
        "#132\n",
        "과일 = [\"사과\", \"귤\", \"수박\"]\n",
        "for 변수 in 과일:\n",
        "  print(\"#####\")           # #####\\n#####\\n#####"
      ],
      "metadata": {
        "id": "4F0KdQ3l37J7"
      },
      "execution_count": null,
      "outputs": []
    },
    {
      "cell_type": "code",
      "source": [
        "#133\n",
        "[print(변수) for 변수 in [\"A\", \"B\", \"C\"]] #이게 아닌가?"
      ],
      "metadata": {
        "colab": {
          "base_uri": "https://localhost:8080/"
        },
        "id": "TaZ86zU55rOW",
        "outputId": "c9b07539-3686-467f-e590-a5b32d834b8e"
      },
      "execution_count": 65,
      "outputs": [
        {
          "output_type": "stream",
          "name": "stdout",
          "text": [
            "A\n",
            "B\n",
            "C\n"
          ]
        },
        {
          "output_type": "execute_result",
          "data": {
            "text/plain": [
              "[None, None, None]"
            ]
          },
          "metadata": {},
          "execution_count": 65
        }
      ]
    },
    {
      "cell_type": "code",
      "source": [
        "#134\n",
        "변수 = ['A','B','C']\n",
        "print(f\"출력: {변수[0]}\\n출력: {변수[1]}\\n출력: {변수[2]}\")"
      ],
      "metadata": {
        "colab": {
          "base_uri": "https://localhost:8080/"
        },
        "id": "OrUyj2FL5xnq",
        "outputId": "b3a4a3b0-028f-47f4-ed23-c815841a3e28"
      },
      "execution_count": 66,
      "outputs": [
        {
          "output_type": "stream",
          "name": "stdout",
          "text": [
            "출력: A\n",
            "출력: B\n",
            "출력: C\n"
          ]
        }
      ]
    },
    {
      "cell_type": "code",
      "source": [
        "#135\n",
        "변수 = ['A','B','C']\n",
        "print(f\"변환: {변수[0].lower()}\\n변환: {변수[1].lower()}\\n변환: {변수[2].lower()}\")"
      ],
      "metadata": {
        "colab": {
          "base_uri": "https://localhost:8080/"
        },
        "id": "s1faa9VH6dfk",
        "outputId": "073aed50-9e80-4c8e-8181-b7da6cef0b63"
      },
      "execution_count": 67,
      "outputs": [
        {
          "output_type": "stream",
          "name": "stdout",
          "text": [
            "변환: a\n",
            "변환: b\n",
            "변환: c\n"
          ]
        }
      ]
    },
    {
      "cell_type": "code",
      "source": [
        "#136\n",
        "for i in [10,20,30] : print(i)"
      ],
      "metadata": {
        "colab": {
          "base_uri": "https://localhost:8080/"
        },
        "id": "gqxH3H9u627n",
        "outputId": "7f699d92-c236-4723-87fc-bda2cf51c1a2"
      },
      "execution_count": 70,
      "outputs": [
        {
          "output_type": "stream",
          "name": "stdout",
          "text": [
            "10\n",
            "20\n",
            "30\n"
          ]
        }
      ]
    },
    {
      "cell_type": "code",
      "source": [
        "#137\n",
        "for i in [10,20,30] : print(i)"
      ],
      "metadata": {
        "colab": {
          "base_uri": "https://localhost:8080/"
        },
        "id": "2JFLJoFE7A55",
        "outputId": "d5e9582f-357f-4f03-bafc-51d70a39212d"
      },
      "execution_count": 71,
      "outputs": [
        {
          "output_type": "stream",
          "name": "stdout",
          "text": [
            "10\n",
            "20\n",
            "30\n"
          ]
        }
      ]
    },
    {
      "cell_type": "code",
      "source": [
        "#138\n",
        "for i in [10,20,30] : print(f\"{i}\\n-------\")"
      ],
      "metadata": {
        "colab": {
          "base_uri": "https://localhost:8080/"
        },
        "id": "RQato39O8OZa",
        "outputId": "052ef3d2-91e7-4340-eb4b-c6a43570a60a"
      },
      "execution_count": 72,
      "outputs": [
        {
          "output_type": "stream",
          "name": "stdout",
          "text": [
            "10\n",
            "-------\n",
            "20\n",
            "-------\n",
            "30\n",
            "-------\n"
          ]
        }
      ]
    },
    {
      "cell_type": "code",
      "source": [
        "#139\n",
        "for i in [\"++++\",10,20,30] : print(i)"
      ],
      "metadata": {
        "colab": {
          "base_uri": "https://localhost:8080/"
        },
        "id": "jfGWq98_8bww",
        "outputId": "9a7bc928-375b-4833-a04c-304ef73d6c4e"
      },
      "execution_count": 73,
      "outputs": [
        {
          "output_type": "stream",
          "name": "stdout",
          "text": [
            "++++\n",
            "10\n",
            "20\n",
            "30\n"
          ]
        }
      ]
    },
    {
      "cell_type": "code",
      "source": [
        "#140\n",
        "for i in range(4) : print(\"-------\")"
      ],
      "metadata": {
        "colab": {
          "base_uri": "https://localhost:8080/"
        },
        "id": "v_zOR2ue8kKQ",
        "outputId": "24ad8cc8-5b0c-43a9-e93a-4f117e2a89ff"
      },
      "execution_count": 74,
      "outputs": [
        {
          "output_type": "stream",
          "name": "stdout",
          "text": [
            "-------\n",
            "-------\n",
            "-------\n",
            "-------\n"
          ]
        }
      ]
    },
    {
      "cell_type": "code",
      "source": [
        "#141\n",
        "li = [100, 200, 300]\n",
        "for i in li : print(i+10)"
      ],
      "metadata": {
        "colab": {
          "base_uri": "https://localhost:8080/"
        },
        "id": "jL9hIfpc8yD5",
        "outputId": "fd48967a-df65-4c1f-8f4f-8638e9feae4f"
      },
      "execution_count": 76,
      "outputs": [
        {
          "output_type": "stream",
          "name": "stdout",
          "text": [
            "110\n",
            "210\n",
            "310\n"
          ]
        }
      ]
    },
    {
      "cell_type": "code",
      "source": [
        "#142\n",
        "li = [\"김밥\", \"라면\", \"튀김\"]\n",
        "for i in li : print(f\"오늘의 메뉴: {i}\")"
      ],
      "metadata": {
        "colab": {
          "base_uri": "https://localhost:8080/"
        },
        "id": "PJ0xKfIB8_6R",
        "outputId": "2f9653c1-c46a-419d-d5e0-506676bd902c"
      },
      "execution_count": 77,
      "outputs": [
        {
          "output_type": "stream",
          "name": "stdout",
          "text": [
            "오늘의 메뉴: 김밥\n",
            "오늘의 메뉴: 라면\n",
            "오늘의 메뉴: 튀김\n"
          ]
        }
      ]
    },
    {
      "cell_type": "code",
      "source": [
        "#143\n",
        "li = [\"SK하이닉스\", \"삼성전자\", \"LG전자\"]\n",
        "for i in li : print(len(i))"
      ],
      "metadata": {
        "colab": {
          "base_uri": "https://localhost:8080/"
        },
        "id": "K5p_3HM79P-p",
        "outputId": "360cb663-b133-4bdb-be47-fc6b399e05b0"
      },
      "execution_count": 79,
      "outputs": [
        {
          "output_type": "stream",
          "name": "stdout",
          "text": [
            "6\n",
            "4\n",
            "4\n"
          ]
        }
      ]
    },
    {
      "cell_type": "code",
      "source": [
        "#144\n",
        "li = ['dog', 'cat', 'parrot']\n",
        "for i in li : print(i, len(i))"
      ],
      "metadata": {
        "colab": {
          "base_uri": "https://localhost:8080/"
        },
        "id": "k9MdqBRR9Vc5",
        "outputId": "e5ac1743-942b-442d-fb25-dbf3b98957ba"
      },
      "execution_count": 80,
      "outputs": [
        {
          "output_type": "stream",
          "name": "stdout",
          "text": [
            "dog 3\n",
            "cat 3\n",
            "parrot 6\n"
          ]
        }
      ]
    },
    {
      "cell_type": "code",
      "source": [
        "#145\n",
        "li = ['dog', 'cat', 'parrot']\n",
        "for i in li : print(i[0])"
      ],
      "metadata": {
        "colab": {
          "base_uri": "https://localhost:8080/"
        },
        "id": "4O78FgrY9qTK",
        "outputId": "6289afcb-9329-4917-93f3-96fe57e02bfb"
      },
      "execution_count": 82,
      "outputs": [
        {
          "output_type": "stream",
          "name": "stdout",
          "text": [
            "d\n",
            "c\n",
            "p\n"
          ]
        }
      ]
    },
    {
      "cell_type": "code",
      "source": [
        "#146\n",
        "li = [1, 2, 3]\n",
        "for i in li : print(f\"3 x {i}\")"
      ],
      "metadata": {
        "colab": {
          "base_uri": "https://localhost:8080/"
        },
        "id": "Mc5_9ADx9wVY",
        "outputId": "72607e42-34cd-4115-a6d5-6af455336ad9"
      },
      "execution_count": 83,
      "outputs": [
        {
          "output_type": "stream",
          "name": "stdout",
          "text": [
            "3 x 1\n",
            "3 x 2\n",
            "3 x 3\n"
          ]
        }
      ]
    },
    {
      "cell_type": "code",
      "source": [
        "#147\n",
        "li = [1, 2, 3]\n",
        "for i in li : print(f\"3 x {i} = {i*3}\")"
      ],
      "metadata": {
        "colab": {
          "base_uri": "https://localhost:8080/"
        },
        "id": "lS80tD4v-Dsp",
        "outputId": "4120f274-6533-44da-9269-a8b3a5a25b4d"
      },
      "execution_count": 84,
      "outputs": [
        {
          "output_type": "stream",
          "name": "stdout",
          "text": [
            "3 x 1 = 3\n",
            "3 x 2 = 6\n",
            "3 x 3 = 9\n"
          ]
        }
      ]
    },
    {
      "cell_type": "code",
      "source": [
        "#149\n",
        "li = [\"가\", \"나\", \"다\", \"라\"]\n",
        "for i in li[1:] : print(i)"
      ],
      "metadata": {
        "colab": {
          "base_uri": "https://localhost:8080/"
        },
        "id": "UvPyfzcB-LVB",
        "outputId": "65132f67-8994-4518-c171-e99c02c8b44a"
      },
      "execution_count": 85,
      "outputs": [
        {
          "output_type": "stream",
          "name": "stdout",
          "text": [
            "나\n",
            "다\n",
            "라\n"
          ]
        }
      ]
    },
    {
      "cell_type": "code",
      "source": [
        "#150\n",
        "li = [\"가\", \"나\", \"다\", \"라\"]\n",
        "for i in li[::-1] : print(i)"
      ],
      "metadata": {
        "colab": {
          "base_uri": "https://localhost:8080/"
        },
        "id": "XLSk3ElG-WD5",
        "outputId": "7db5e77d-4a34-4676-84dd-1ddadb30c7d0"
      },
      "execution_count": 91,
      "outputs": [
        {
          "output_type": "stream",
          "name": "stdout",
          "text": [
            "라\n",
            "다\n",
            "나\n",
            "가\n"
          ]
        }
      ]
    }
  ]
}