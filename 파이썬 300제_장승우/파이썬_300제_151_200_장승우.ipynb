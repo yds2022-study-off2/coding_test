{
  "nbformat": 4,
  "nbformat_minor": 0,
  "metadata": {
    "colab": {
      "name": "파이썬 300제 151_200_장승우.ipynb",
      "provenance": [],
      "collapsed_sections": []
    },
    "kernelspec": {
      "name": "python3",
      "display_name": "Python 3"
    },
    "language_info": {
      "name": "python"
    }
  },
  "cells": [
    {
      "cell_type": "code",
      "execution_count": 2,
      "metadata": {
        "colab": {
          "base_uri": "https://localhost:8080/"
        },
        "id": "pzhHrrvc-smt",
        "outputId": "01f30605-515e-4c06-9f2e-9c692919ee21"
      },
      "outputs": [
        {
          "output_type": "stream",
          "name": "stdout",
          "text": [
            "-20\n",
            "-3\n"
          ]
        }
      ],
      "source": [
        "#151\n",
        "li = [3, -20, -3, 44]\n",
        "for i in li : \n",
        "  if i<0 : print(i)"
      ]
    },
    {
      "cell_type": "code",
      "source": [
        "#152\n",
        "li = [3, 100, 23, 44]\n",
        "for i in li : \n",
        "  if i%3 == 0 : print(i)"
      ],
      "metadata": {
        "colab": {
          "base_uri": "https://localhost:8080/"
        },
        "id": "PJ5adfdu-8IC",
        "outputId": "cb8749d7-eb29-4ba7-96a9-962bfeef45d3"
      },
      "execution_count": 4,
      "outputs": [
        {
          "output_type": "stream",
          "name": "stdout",
          "text": [
            "3\n"
          ]
        }
      ]
    },
    {
      "cell_type": "code",
      "source": [
        "#153\n",
        "li = [13, 21, 12, 14, 30, 18]\n",
        "for i in li : \n",
        "  if (i%3 == 0) & (i<20) : print(i)"
      ],
      "metadata": {
        "colab": {
          "base_uri": "https://localhost:8080/"
        },
        "id": "FcHrQWHN_Yz5",
        "outputId": "2087975d-6d3c-46dc-e367-f9bf5d9d2a73"
      },
      "execution_count": 6,
      "outputs": [
        {
          "output_type": "stream",
          "name": "stdout",
          "text": [
            "12\n",
            "18\n"
          ]
        }
      ]
    },
    {
      "cell_type": "code",
      "source": [
        "#154\n",
        "li = [\"I\", \"study\", \"python\", \"language\", \"!\"]\n",
        "for i in li : \n",
        "  if len(i)>2 : print(i)"
      ],
      "metadata": {
        "colab": {
          "base_uri": "https://localhost:8080/"
        },
        "id": "j6hWFG3S_m1x",
        "outputId": "f92bae7b-5e0e-4ffa-f3af-e6f07500aff1"
      },
      "execution_count": 7,
      "outputs": [
        {
          "output_type": "stream",
          "name": "stdout",
          "text": [
            "study\n",
            "python\n",
            "language\n"
          ]
        }
      ]
    },
    {
      "cell_type": "code",
      "source": [
        "#155\n",
        "li = [\"A\", \"b\", \"c\", \"D\"]\n",
        "for i in li :\n",
        "  if i.isupper() : print(i)"
      ],
      "metadata": {
        "colab": {
          "base_uri": "https://localhost:8080/"
        },
        "id": "Pc1pentB_1X9",
        "outputId": "f6f78a9a-136d-42f2-8943-75c3fcc6abc4"
      },
      "execution_count": 8,
      "outputs": [
        {
          "output_type": "stream",
          "name": "stdout",
          "text": [
            "A\n",
            "D\n"
          ]
        }
      ]
    },
    {
      "cell_type": "code",
      "source": [
        "#156\n",
        "li = [\"A\", \"b\", \"c\", \"D\"]\n",
        "for i in li :\n",
        "  if i.islower() : print(i)"
      ],
      "metadata": {
        "colab": {
          "base_uri": "https://localhost:8080/"
        },
        "id": "j0d509y7_-ag",
        "outputId": "3c62204e-f983-4357-9824-5110faf90199"
      },
      "execution_count": 9,
      "outputs": [
        {
          "output_type": "stream",
          "name": "stdout",
          "text": [
            "b\n",
            "c\n"
          ]
        }
      ]
    },
    {
      "cell_type": "code",
      "source": [
        "#157\n",
        "li = ['dog', 'cat', 'parrot']\n",
        "for i in li : print(i.capitalize())"
      ],
      "metadata": {
        "colab": {
          "base_uri": "https://localhost:8080/"
        },
        "id": "5i4U8Z38ANCQ",
        "outputId": "a5e2b8b2-e36c-4e13-b146-7ce681792c8f"
      },
      "execution_count": 10,
      "outputs": [
        {
          "output_type": "stream",
          "name": "stdout",
          "text": [
            "Dog\n",
            "Cat\n",
            "Parrot\n"
          ]
        }
      ]
    },
    {
      "cell_type": "code",
      "source": [
        "#158\n",
        "li = ['hello.py', 'ex01.py', 'intro.hwp']\n",
        "for i in li : print(i.split(\".\")[0])"
      ],
      "metadata": {
        "colab": {
          "base_uri": "https://localhost:8080/"
        },
        "id": "a2RSs8KHAE3Q",
        "outputId": "79e1910d-dc38-4391-90ed-492b2904b5af"
      },
      "execution_count": 11,
      "outputs": [
        {
          "output_type": "stream",
          "name": "stdout",
          "text": [
            "hello\n",
            "ex01\n",
            "intro\n"
          ]
        }
      ]
    },
    {
      "cell_type": "code",
      "source": [
        "#159\n",
        "li = ['intra.h', 'intra.c', 'define.h', 'run.py']\n",
        "for i in li : \n",
        "  if i.split(\".\")[1]=='h' : print(i)"
      ],
      "metadata": {
        "colab": {
          "base_uri": "https://localhost:8080/"
        },
        "id": "HYheJlzjAkSQ",
        "outputId": "bdc14676-f016-4ad3-fb40-35b5a49d5396"
      },
      "execution_count": 12,
      "outputs": [
        {
          "output_type": "stream",
          "name": "stdout",
          "text": [
            "intra.h\n",
            "define.h\n"
          ]
        }
      ]
    },
    {
      "cell_type": "code",
      "source": [
        "#160\n",
        "li = ['intra.h', 'intra.c', 'define.h', 'run.py']\n",
        "for i in li : \n",
        "  if (i.split(\".\")[1]=='h')|(i.split(\".\")[1]=='c') : print(i)"
      ],
      "metadata": {
        "colab": {
          "base_uri": "https://localhost:8080/"
        },
        "id": "_HQea7xuAx9w",
        "outputId": "27546ed1-3957-4b01-9f48-5437523f7ae9"
      },
      "execution_count": 14,
      "outputs": [
        {
          "output_type": "stream",
          "name": "stdout",
          "text": [
            "intra.h\n",
            "intra.c\n",
            "define.h\n"
          ]
        }
      ]
    },
    {
      "cell_type": "code",
      "source": [
        "#161\n",
        "for i in range(100) : print(i) #결과는 길어서 생략"
      ],
      "metadata": {
        "id": "ftU5nVJqA-2Q"
      },
      "execution_count": null,
      "outputs": []
    },
    {
      "cell_type": "code",
      "source": [
        "#162\n",
        "print(list(range(2002,2051,4)))"
      ],
      "metadata": {
        "colab": {
          "base_uri": "https://localhost:8080/"
        },
        "id": "ztZ8qR9OBNkX",
        "outputId": "e56f0732-449e-4089-d647-c9ffcfc16966"
      },
      "execution_count": 19,
      "outputs": [
        {
          "output_type": "stream",
          "name": "stdout",
          "text": [
            "[2002, 2006, 2010, 2014, 2018, 2022, 2026, 2030, 2034, 2038, 2042, 2046, 2050]\n"
          ]
        }
      ]
    },
    {
      "cell_type": "code",
      "source": [
        "#163\n",
        "for i in range(1,31) : \n",
        "  if i%3==0 : print(i)"
      ],
      "metadata": {
        "colab": {
          "base_uri": "https://localhost:8080/"
        },
        "id": "zhBQNulwBjFY",
        "outputId": "4320f770-8591-4cc9-abc1-74908d48eb35"
      },
      "execution_count": 21,
      "outputs": [
        {
          "output_type": "stream",
          "name": "stdout",
          "text": [
            "3\n",
            "6\n",
            "9\n",
            "12\n",
            "15\n",
            "18\n",
            "21\n",
            "24\n",
            "27\n",
            "30\n"
          ]
        }
      ]
    },
    {
      "cell_type": "code",
      "source": [
        "#164\n",
        "for i in range(99,0,-1) : print(i) #긺, 결과생략"
      ],
      "metadata": {
        "id": "oN5xWgajB7eB"
      },
      "execution_count": null,
      "outputs": []
    },
    {
      "cell_type": "code",
      "source": [
        "#165\n",
        "for i in range(10) : print(i/10)"
      ],
      "metadata": {
        "colab": {
          "base_uri": "https://localhost:8080/"
        },
        "id": "Bqf1sGOZCQs_",
        "outputId": "97a6b159-cd35-4cdf-9415-1438f424bb4c"
      },
      "execution_count": 24,
      "outputs": [
        {
          "output_type": "stream",
          "name": "stdout",
          "text": [
            "0.0\n",
            "0.1\n",
            "0.2\n",
            "0.3\n",
            "0.4\n",
            "0.5\n",
            "0.6\n",
            "0.7\n",
            "0.8\n",
            "0.9\n"
          ]
        }
      ]
    },
    {
      "cell_type": "code",
      "source": [
        "#166\n",
        "for i in range(1,10) : print(f\"3x{i} = {i*3}\")"
      ],
      "metadata": {
        "colab": {
          "base_uri": "https://localhost:8080/"
        },
        "id": "_BeKPsysCgg3",
        "outputId": "46a322df-8c72-457e-e096-ee4d8567d8bb"
      },
      "execution_count": 25,
      "outputs": [
        {
          "output_type": "stream",
          "name": "stdout",
          "text": [
            "3x1 = 3\n",
            "3x2 = 6\n",
            "3x3 = 9\n",
            "3x4 = 12\n",
            "3x5 = 15\n",
            "3x6 = 18\n",
            "3x7 = 21\n",
            "3x8 = 24\n",
            "3x9 = 27\n"
          ]
        }
      ]
    },
    {
      "cell_type": "code",
      "source": [
        "#167\n",
        "for i in range(1,10) : \n",
        "  if i%2==1 : print(f\"3x{i} = {i*3}\")"
      ],
      "metadata": {
        "colab": {
          "base_uri": "https://localhost:8080/"
        },
        "id": "nGUBMXPQC-Rn",
        "outputId": "40108bd7-6ba8-4d27-a108-99fb16229b09"
      },
      "execution_count": 26,
      "outputs": [
        {
          "output_type": "stream",
          "name": "stdout",
          "text": [
            "3x1 = 3\n",
            "3x3 = 9\n",
            "3x5 = 15\n",
            "3x7 = 21\n",
            "3x9 = 27\n"
          ]
        }
      ]
    },
    {
      "cell_type": "code",
      "source": [
        "#168\n",
        "sum = 0\n",
        "for i in range(10) : sum+=i+1\n",
        "print(sum)"
      ],
      "metadata": {
        "colab": {
          "base_uri": "https://localhost:8080/"
        },
        "id": "hOAeVFeYDG23",
        "outputId": "5fa3a960-829b-4646-89ae-bd14061039ba"
      },
      "execution_count": 27,
      "outputs": [
        {
          "output_type": "stream",
          "name": "stdout",
          "text": [
            "55\n"
          ]
        }
      ]
    },
    {
      "cell_type": "code",
      "source": [
        "#169\n",
        "sum = 0\n",
        "for i in range(1, 11) :\n",
        "  if i%2==1 : sum += i\n",
        "print(sum)"
      ],
      "metadata": {
        "colab": {
          "base_uri": "https://localhost:8080/"
        },
        "id": "E3D0l1cLDjmI",
        "outputId": "692be85d-69d2-4d40-e8bf-6f6d7fdeb3f8"
      },
      "execution_count": 29,
      "outputs": [
        {
          "output_type": "stream",
          "name": "stdout",
          "text": [
            "25\n"
          ]
        }
      ]
    },
    {
      "cell_type": "code",
      "source": [
        "#170\n",
        "sum = 1\n",
        "for i in range(1, 11) : sum *= i\n",
        "print(sum)"
      ],
      "metadata": {
        "colab": {
          "base_uri": "https://localhost:8080/"
        },
        "id": "jpQpnUFUDqcH",
        "outputId": "828284a9-fcfd-4db2-c7df-1d3f3e9ff994"
      },
      "execution_count": 30,
      "outputs": [
        {
          "output_type": "stream",
          "name": "stdout",
          "text": [
            "3628800\n"
          ]
        }
      ]
    },
    {
      "cell_type": "code",
      "source": [
        "#171\n",
        "price_list = [32100, 32150, 32000, 32500]\n",
        "for i in range(len(price_list)) : print(price_list[i])"
      ],
      "metadata": {
        "colab": {
          "base_uri": "https://localhost:8080/"
        },
        "id": "k4MBtpBzEEXX",
        "outputId": "642b10bc-6143-427f-b184-36b5a7423cd9"
      },
      "execution_count": 33,
      "outputs": [
        {
          "output_type": "stream",
          "name": "stdout",
          "text": [
            "32100\n",
            "32150\n",
            "32000\n",
            "32500\n"
          ]
        }
      ]
    },
    {
      "cell_type": "code",
      "source": [
        "#172\n",
        "price_list = [32100, 32150, 32000, 32500]\n",
        "for i in range(len(price_list)) : print(i, price_list[i])"
      ],
      "metadata": {
        "colab": {
          "base_uri": "https://localhost:8080/"
        },
        "id": "Wj2DI8K8EkGY",
        "outputId": "6138f0c4-9e51-427b-ffac-3798369b65d6"
      },
      "execution_count": 34,
      "outputs": [
        {
          "output_type": "stream",
          "name": "stdout",
          "text": [
            "0 32100\n",
            "1 32150\n",
            "2 32000\n",
            "3 32500\n"
          ]
        }
      ]
    },
    {
      "cell_type": "code",
      "source": [
        "#173\n",
        "price_list = [32100, 32150, 32000, 32500]\n",
        "for i in range(len(price_list)) : print(3-i, price_list[i])"
      ],
      "metadata": {
        "colab": {
          "base_uri": "https://localhost:8080/"
        },
        "id": "de3onOzrEygG",
        "outputId": "fe2e1f01-4729-4380-aa15-aa823481c80c"
      },
      "execution_count": 35,
      "outputs": [
        {
          "output_type": "stream",
          "name": "stdout",
          "text": [
            "3 32100\n",
            "2 32150\n",
            "1 32000\n",
            "0 32500\n"
          ]
        }
      ]
    },
    {
      "cell_type": "code",
      "source": [
        "#174\n",
        "price_list = [32100, 32150, 32000, 32500]\n",
        "for i in range(len(price_list)-1) : print(i*10+100, price_list[i+1])"
      ],
      "metadata": {
        "colab": {
          "base_uri": "https://localhost:8080/"
        },
        "id": "kVUXVrK1E9qe",
        "outputId": "df39e580-aeb6-456f-e336-89ec3d1e28dc"
      },
      "execution_count": 36,
      "outputs": [
        {
          "output_type": "stream",
          "name": "stdout",
          "text": [
            "100 32150\n",
            "110 32000\n",
            "120 32500\n"
          ]
        }
      ]
    },
    {
      "cell_type": "code",
      "source": [
        "#175\n",
        "my_list = [\"가\", \"나\", \"다\", \"라\"]\n",
        "for i in range(len(my_list)-1) : print(my_list[i], my_list[i+1])"
      ],
      "metadata": {
        "colab": {
          "base_uri": "https://localhost:8080/"
        },
        "id": "tyVJl5VJFi3v",
        "outputId": "baaf5586-ca4e-4ad5-8725-c024e27880bf"
      },
      "execution_count": 38,
      "outputs": [
        {
          "output_type": "stream",
          "name": "stdout",
          "text": [
            "가 나\n",
            "나 다\n",
            "다 라\n"
          ]
        }
      ]
    },
    {
      "cell_type": "code",
      "source": [
        "#176\n",
        "my_list = [\"가\", \"나\", \"다\", \"라\", \"마\"]\n",
        "for i in range(len(my_list)-2) : print(my_list[i], my_list[i+1], my_list[i+2])"
      ],
      "metadata": {
        "colab": {
          "base_uri": "https://localhost:8080/"
        },
        "id": "A9J3upENFudf",
        "outputId": "575a56bf-58b0-4a7e-d720-95a17d12d497"
      },
      "execution_count": 39,
      "outputs": [
        {
          "output_type": "stream",
          "name": "stdout",
          "text": [
            "가 나 다\n",
            "나 다 라\n",
            "다 라 마\n"
          ]
        }
      ]
    },
    {
      "cell_type": "code",
      "source": [
        "#177\n",
        "my_list = [\"가\", \"나\", \"다\", \"라\"]\n",
        "for i in range(len(my_list)-1, 0, -1) : print(my_list[i], my_list[i-1])"
      ],
      "metadata": {
        "colab": {
          "base_uri": "https://localhost:8080/"
        },
        "id": "lyud6AggHvZ3",
        "outputId": "0ecdfb9a-9367-4e36-e81e-dd280e3dcc11"
      },
      "execution_count": 42,
      "outputs": [
        {
          "output_type": "stream",
          "name": "stdout",
          "text": [
            "라 다\n",
            "다 나\n",
            "나 가\n"
          ]
        }
      ]
    },
    {
      "cell_type": "code",
      "source": [
        "#178\n",
        "my_list = [100, 200, 400, 800]\n",
        "for i in range(len(my_list)-1) : print(abs(my_list[i]-my_list[i+1]))"
      ],
      "metadata": {
        "colab": {
          "base_uri": "https://localhost:8080/"
        },
        "id": "nJ-UNEq7IHNf",
        "outputId": "154f5490-09f8-4042-cdfa-f082fc78d61a"
      },
      "execution_count": 44,
      "outputs": [
        {
          "output_type": "stream",
          "name": "stdout",
          "text": [
            "100\n",
            "200\n",
            "400\n"
          ]
        }
      ]
    },
    {
      "cell_type": "code",
      "source": [
        "#179\n",
        "my_list = [100, 200, 400, 800, 1000, 1300]\n",
        "for i in range(len(my_list)-2) : print((my_list[i]+my_list[i+1]+my_list[i+2])/3)"
      ],
      "metadata": {
        "colab": {
          "base_uri": "https://localhost:8080/"
        },
        "id": "5jdDId0sJhaH",
        "outputId": "996ba1cc-7276-491d-b0bf-ef87e0b85f36"
      },
      "execution_count": 45,
      "outputs": [
        {
          "output_type": "stream",
          "name": "stdout",
          "text": [
            "233.33333333333334\n",
            "466.6666666666667\n",
            "733.3333333333334\n",
            "1033.3333333333333\n"
          ]
        }
      ]
    },
    {
      "cell_type": "code",
      "source": [
        "#180\n",
        "low_prices  = [100, 200, 400, 800, 1000]\n",
        "high_prices = [150, 300, 430, 880, 1000]\n",
        "volatility =  [high_prices[i]-low_prices[i] for i in range(len(low_prices))]\n",
        "volatility"
      ],
      "metadata": {
        "colab": {
          "base_uri": "https://localhost:8080/"
        },
        "id": "Mk9oWmnJKKUl",
        "outputId": "2e87f791-4db4-4f16-f894-d0acda845226"
      },
      "execution_count": 47,
      "outputs": [
        {
          "output_type": "execute_result",
          "data": {
            "text/plain": [
              "[50, 100, 30, 80, 0]"
            ]
          },
          "metadata": {},
          "execution_count": 47
        }
      ]
    },
    {
      "cell_type": "code",
      "source": [
        "#181\n",
        "apart = [[f\"{i+1}0{j+1}호\" for j in range(2)] for i in range(3)]\n",
        "apart"
      ],
      "metadata": {
        "colab": {
          "base_uri": "https://localhost:8080/"
        },
        "id": "RYF2YBRUKjX-",
        "outputId": "def3af9c-ec6b-4f7a-fae4-ebb2c5d666fd"
      },
      "execution_count": 52,
      "outputs": [
        {
          "output_type": "execute_result",
          "data": {
            "text/plain": [
              "[['101호', '102호'], ['201호', '202호'], ['301호', '302호']]"
            ]
          },
          "metadata": {},
          "execution_count": 52
        }
      ]
    },
    {
      "cell_type": "code",
      "source": [
        "#182\n",
        "stock = [['시가',100,200,300],['종가',80,210,330]]\n",
        "stock"
      ],
      "metadata": {
        "colab": {
          "base_uri": "https://localhost:8080/"
        },
        "id": "2GGGdOo9L9R1",
        "outputId": "90bc741e-9d3c-48b0-f7b0-c5166b3c5083"
      },
      "execution_count": 53,
      "outputs": [
        {
          "output_type": "execute_result",
          "data": {
            "text/plain": [
              "[['시가', 100, 200, 300], ['종가', 80, 210, 330]]"
            ]
          },
          "metadata": {},
          "execution_count": 53
        }
      ]
    },
    {
      "cell_type": "code",
      "source": [
        "#183\n",
        "stock = {'시가':[100,200,300],'종가':[80,210,330]}\n",
        "stock"
      ],
      "metadata": {
        "colab": {
          "base_uri": "https://localhost:8080/"
        },
        "id": "z30V0oWtV0ak",
        "outputId": "50c4e97e-caca-4094-d285-65d4920efa83"
      },
      "execution_count": 54,
      "outputs": [
        {
          "output_type": "execute_result",
          "data": {
            "text/plain": [
              "{'시가': [100, 200, 300], '종가': [80, 210, 330]}"
            ]
          },
          "metadata": {},
          "execution_count": 54
        }
      ]
    },
    {
      "cell_type": "code",
      "source": [
        "#184\n",
        "stock = {'10/10':[80,110,70,90],'10/11':[210,230,190,200]}\n",
        "stock"
      ],
      "metadata": {
        "colab": {
          "base_uri": "https://localhost:8080/"
        },
        "id": "hNccef09V93C",
        "outputId": "507c8e1d-3fd5-405e-a5c9-6440f8125786"
      },
      "execution_count": 57,
      "outputs": [
        {
          "output_type": "execute_result",
          "data": {
            "text/plain": [
              "{'10/10': [80, 110, 70, 90], '10/11': [210, 230, 190, 200]}"
            ]
          },
          "metadata": {},
          "execution_count": 57
        }
      ]
    },
    {
      "cell_type": "code",
      "source": [
        "#185\n",
        "for i in apart : \n",
        "  for j in i : print(j)"
      ],
      "metadata": {
        "colab": {
          "base_uri": "https://localhost:8080/"
        },
        "id": "QrsIlCstWL6D",
        "outputId": "4b582d07-27fb-4a2f-d4bc-94169c53234a"
      },
      "execution_count": 59,
      "outputs": [
        {
          "output_type": "stream",
          "name": "stdout",
          "text": [
            "101호\n",
            "102호\n",
            "201호\n",
            "202호\n",
            "301호\n",
            "302호\n"
          ]
        }
      ]
    },
    {
      "cell_type": "code",
      "source": [
        "#186\n",
        "for i in apart[::-1] : \n",
        "  for j in i : print(j)"
      ],
      "metadata": {
        "colab": {
          "base_uri": "https://localhost:8080/"
        },
        "id": "_JdWcAaXWYP7",
        "outputId": "38764c0f-e2b4-470d-badd-be3df1da0159"
      },
      "execution_count": 60,
      "outputs": [
        {
          "output_type": "stream",
          "name": "stdout",
          "text": [
            "301호\n",
            "302호\n",
            "201호\n",
            "202호\n",
            "101호\n",
            "102호\n"
          ]
        }
      ]
    },
    {
      "cell_type": "code",
      "source": [
        "#187\n",
        "for i in apart[::-1] : \n",
        "  for j in i[::-1] : print(j)"
      ],
      "metadata": {
        "colab": {
          "base_uri": "https://localhost:8080/"
        },
        "id": "D6ok983PW17R",
        "outputId": "c95d75be-e6f8-4d4a-c3c4-0f08338e2e69"
      },
      "execution_count": 61,
      "outputs": [
        {
          "output_type": "stream",
          "name": "stdout",
          "text": [
            "302호\n",
            "301호\n",
            "202호\n",
            "201호\n",
            "102호\n",
            "101호\n"
          ]
        }
      ]
    },
    {
      "cell_type": "code",
      "source": [
        "#188\n",
        "for i in apart : \n",
        "  for j in i : print(f'{j}\\n-----')"
      ],
      "metadata": {
        "colab": {
          "base_uri": "https://localhost:8080/"
        },
        "id": "lj_93RI3XCZ5",
        "outputId": "2e2811ef-c1b1-46d9-c31e-e3cdac579504"
      },
      "execution_count": 63,
      "outputs": [
        {
          "output_type": "stream",
          "name": "stdout",
          "text": [
            "101호\n",
            "-----\n",
            "102호\n",
            "-----\n",
            "201호\n",
            "-----\n",
            "202호\n",
            "-----\n",
            "301호\n",
            "-----\n",
            "302호\n",
            "-----\n"
          ]
        }
      ]
    },
    {
      "cell_type": "code",
      "source": [
        "#189\n",
        "for i in apart : \n",
        "  for j in i : print(j)\n",
        "  print('-----')"
      ],
      "metadata": {
        "colab": {
          "base_uri": "https://localhost:8080/"
        },
        "id": "NYptqtxlXPgw",
        "outputId": "b31bf282-7d2f-4855-b05d-72d4be222b60"
      },
      "execution_count": 66,
      "outputs": [
        {
          "output_type": "stream",
          "name": "stdout",
          "text": [
            "101호\n",
            "102호\n",
            "-----\n",
            "201호\n",
            "202호\n",
            "-----\n",
            "301호\n",
            "302호\n",
            "-----\n"
          ]
        }
      ]
    },
    {
      "cell_type": "code",
      "source": [
        "#190\n",
        "for i in apart : \n",
        "  for j in i : print(j)\n",
        "print('-----')"
      ],
      "metadata": {
        "colab": {
          "base_uri": "https://localhost:8080/"
        },
        "id": "cYig2KAsXcub",
        "outputId": "ad800cf9-2561-455a-d52d-d0629e299c53"
      },
      "execution_count": 67,
      "outputs": [
        {
          "output_type": "stream",
          "name": "stdout",
          "text": [
            "101호\n",
            "102호\n",
            "201호\n",
            "202호\n",
            "301호\n",
            "302호\n",
            "-----\n"
          ]
        }
      ]
    },
    {
      "cell_type": "code",
      "source": [
        "#191~194\n",
        "data = [\n",
        "    [ 2000,  3050,  2050,  1980],\n",
        "    [ 7500,  2050,  2050,  1980],\n",
        "    [15450, 15050, 15550, 14900]\n",
        "]"
      ],
      "metadata": {
        "id": "BeAM4OATZuxD"
      },
      "execution_count": null,
      "outputs": []
    },
    {
      "cell_type": "code",
      "source": [
        "#191\n",
        "for i in data : \n",
        "  for j in i : print(j*1.00014)"
      ],
      "metadata": {
        "colab": {
          "base_uri": "https://localhost:8080/"
        },
        "id": "SQN9TT3pXtMa",
        "outputId": "7990ee00-2129-450a-9879-a2c9bbadf79f"
      },
      "execution_count": 70,
      "outputs": [
        {
          "output_type": "stream",
          "name": "stdout",
          "text": [
            "2000.28\n",
            "3050.427\n",
            "2050.2870000000003\n",
            "1980.2772\n",
            "7501.05\n",
            "2050.2870000000003\n",
            "2050.2870000000003\n",
            "1980.2772\n",
            "15452.163\n",
            "15052.107\n",
            "15552.177\n",
            "14902.086000000001\n"
          ]
        }
      ]
    },
    {
      "cell_type": "code",
      "source": [
        "#192\n",
        "for i in data : \n",
        "  for j in i : print(j*1.00014)\n",
        "  print('----')"
      ],
      "metadata": {
        "colab": {
          "base_uri": "https://localhost:8080/"
        },
        "id": "EuaDIbhsYCIT",
        "outputId": "bca4f566-1d59-4e0c-cfa0-166f4dbe1be9"
      },
      "execution_count": 71,
      "outputs": [
        {
          "output_type": "stream",
          "name": "stdout",
          "text": [
            "2000.28\n",
            "3050.427\n",
            "2050.2870000000003\n",
            "1980.2772\n",
            "----\n",
            "7501.05\n",
            "2050.2870000000003\n",
            "2050.2870000000003\n",
            "1980.2772\n",
            "----\n",
            "15452.163\n",
            "15052.107\n",
            "15552.177\n",
            "14902.086000000001\n",
            "----\n"
          ]
        }
      ]
    },
    {
      "cell_type": "code",
      "source": [
        "#193\n",
        "result = [j*1.00014 for i in data for j in i]\n",
        "result"
      ],
      "metadata": {
        "colab": {
          "base_uri": "https://localhost:8080/"
        },
        "id": "wcG9MYjSYVYx",
        "outputId": "0b5f0b86-5518-43c3-e7c3-8f667b36698d"
      },
      "execution_count": 72,
      "outputs": [
        {
          "output_type": "execute_result",
          "data": {
            "text/plain": [
              "[2000.28,\n",
              " 3050.427,\n",
              " 2050.2870000000003,\n",
              " 1980.2772,\n",
              " 7501.05,\n",
              " 2050.2870000000003,\n",
              " 2050.2870000000003,\n",
              " 1980.2772,\n",
              " 15452.163,\n",
              " 15052.107,\n",
              " 15552.177,\n",
              " 14902.086000000001]"
            ]
          },
          "metadata": {},
          "execution_count": 72
        }
      ]
    },
    {
      "cell_type": "code",
      "source": [
        "#194\n",
        "result = [[j*1.00014 for j in i] for i in data]\n",
        "result"
      ],
      "metadata": {
        "colab": {
          "base_uri": "https://localhost:8080/"
        },
        "id": "fIOr6_-GYruD",
        "outputId": "bee17f54-8a35-4fe0-c300-09dfe4c71581"
      },
      "execution_count": 73,
      "outputs": [
        {
          "output_type": "execute_result",
          "data": {
            "text/plain": [
              "[[2000.28, 3050.427, 2050.2870000000003, 1980.2772],\n",
              " [7501.05, 2050.2870000000003, 2050.2870000000003, 1980.2772],\n",
              " [15452.163, 15052.107, 15552.177, 14902.086000000001]]"
            ]
          },
          "metadata": {},
          "execution_count": 73
        }
      ]
    },
    {
      "cell_type": "code",
      "source": [
        "#195~200\n",
        "ohlc = [[\"open\", \"high\", \"low\", \"close\"],\n",
        "        [100, 110, 70, 100],\n",
        "        [200, 210, 180, 190],\n",
        "        [300, 310, 300, 310]]\n"
      ],
      "metadata": {
        "id": "cajQVY8kZnJ5"
      },
      "execution_count": null,
      "outputs": []
    },
    {
      "cell_type": "code",
      "source": [
        "#195\n",
        "for i in ohlc[1:] : print(i[3])"
      ],
      "metadata": {
        "colab": {
          "base_uri": "https://localhost:8080/"
        },
        "id": "r2iov92sY8SJ",
        "outputId": "87e2c85c-b148-42fc-c597-0c1e8b46e96d"
      },
      "execution_count": 74,
      "outputs": [
        {
          "output_type": "stream",
          "name": "stdout",
          "text": [
            "100\n",
            "190\n",
            "310\n"
          ]
        }
      ]
    },
    {
      "cell_type": "code",
      "source": [
        "#196\n",
        "for i in ohlc[1:] : \n",
        "  if i[3]>150 :\n",
        "    print(i[3])"
      ],
      "metadata": {
        "colab": {
          "base_uri": "https://localhost:8080/"
        },
        "id": "dTD18qELabbj",
        "outputId": "9bda3332-64f8-4940-cf97-bd6b421b046c"
      },
      "execution_count": 75,
      "outputs": [
        {
          "output_type": "stream",
          "name": "stdout",
          "text": [
            "190\n",
            "310\n"
          ]
        }
      ]
    },
    {
      "cell_type": "code",
      "source": [
        "#197\n",
        "for i in ohlc[1:] : \n",
        "  if i[3]>=i[0] :\n",
        "    print(i[3])"
      ],
      "metadata": {
        "colab": {
          "base_uri": "https://localhost:8080/"
        },
        "id": "BoSVKpxVZfyT",
        "outputId": "5dc9fcd9-ee0b-45ba-b696-e48197755131"
      },
      "execution_count": 76,
      "outputs": [
        {
          "output_type": "stream",
          "name": "stdout",
          "text": [
            "100\n",
            "310\n"
          ]
        }
      ]
    },
    {
      "cell_type": "code",
      "source": [
        "#198\n",
        "volatility = [i[1]-i[2] for i in ohlc[1:]]\n",
        "print(volatility)"
      ],
      "metadata": {
        "colab": {
          "base_uri": "https://localhost:8080/"
        },
        "id": "4jwBuCcVaoef",
        "outputId": "d361ff91-2cbb-4645-c0d0-c71c8093e80d"
      },
      "execution_count": 81,
      "outputs": [
        {
          "output_type": "stream",
          "name": "stdout",
          "text": [
            "[40, 30, 10]\n"
          ]
        }
      ]
    },
    {
      "cell_type": "code",
      "source": [
        "#199\n",
        "for i in ohlc[1:] : \n",
        "  if i[3]>i[0] :\n",
        "    print(i[1]-i[2])"
      ],
      "metadata": {
        "colab": {
          "base_uri": "https://localhost:8080/"
        },
        "id": "Mjc_Uxt7a_Ra",
        "outputId": "299d7c72-b8bc-4549-cedb-8fa13539245b"
      },
      "execution_count": 84,
      "outputs": [
        {
          "output_type": "stream",
          "name": "stdout",
          "text": [
            "10\n"
          ]
        }
      ]
    },
    {
      "cell_type": "code",
      "source": [
        "#200\n",
        "sum = 0\n",
        "for i in ohlc[1:] : \n",
        "    sum += i[3]-i[0]\n",
        "print(sum)"
      ],
      "metadata": {
        "colab": {
          "base_uri": "https://localhost:8080/"
        },
        "id": "KtP1R0iRbniM",
        "outputId": "8a34e798-bc98-4862-8b61-e4ba34393f29"
      },
      "execution_count": 85,
      "outputs": [
        {
          "output_type": "stream",
          "name": "stdout",
          "text": [
            "0\n"
          ]
        }
      ]
    },
    {
      "cell_type": "code",
      "source": [
        ""
      ],
      "metadata": {
        "id": "R9ueS-sGcfM6"
      },
      "execution_count": null,
      "outputs": []
    }
  ]
}