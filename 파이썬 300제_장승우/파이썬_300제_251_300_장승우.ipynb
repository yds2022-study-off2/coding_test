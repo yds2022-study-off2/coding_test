{
  "nbformat": 4,
  "nbformat_minor": 0,
  "metadata": {
    "colab": {
      "name": "파이썬 300제_251~300_장승우.ipynb",
      "provenance": [],
      "collapsed_sections": []
    },
    "kernelspec": {
      "name": "python3",
      "display_name": "Python 3"
    },
    "language_info": {
      "name": "python"
    }
  },
  "cells": [
    {
      "cell_type": "code",
      "execution_count": 1,
      "metadata": {
        "id": "4vdU7sLhQFUo"
      },
      "outputs": [],
      "source": [
        "#251\n",
        "#클래스-여러 변수와 함수의 모음\n",
        "#객체-자신만의 실행 영역을 가지고 있는 코드 //식별 가능한? \n",
        "#인스턴스-메모리에 실제 할당되어있는 구현체"
      ]
    },
    {
      "cell_type": "code",
      "source": [
        "#252\n",
        "class Human :\n",
        "  pass"
      ],
      "metadata": {
        "id": "R4jKF8NhQKa4"
      },
      "execution_count": 1,
      "outputs": []
    },
    {
      "cell_type": "code",
      "source": [
        "#253\n",
        "areum = Human()"
      ],
      "metadata": {
        "id": "whEsvA__QK6k"
      },
      "execution_count": 3,
      "outputs": []
    },
    {
      "cell_type": "code",
      "source": [
        "#254\n",
        "class Human :\n",
        "  def __init__(self) :\n",
        "    print(\"응애응애\")\n",
        "\n",
        "Human()"
      ],
      "metadata": {
        "colab": {
          "base_uri": "https://localhost:8080/"
        },
        "id": "GXdTeInOQLUS",
        "outputId": "f38b9956-f2e3-4e79-af63-386aa319745a"
      },
      "execution_count": 2,
      "outputs": [
        {
          "output_type": "stream",
          "name": "stdout",
          "text": [
            "응애응애\n"
          ]
        },
        {
          "output_type": "execute_result",
          "data": {
            "text/plain": [
              "<__main__.Human at 0x7f828d1ba650>"
            ]
          },
          "metadata": {},
          "execution_count": 2
        }
      ]
    },
    {
      "cell_type": "code",
      "source": [
        "#255\n",
        "class Human :\n",
        "  def __init__(self, name, age, sex):\n",
        "    self.name = name\n",
        "    self.age = age\n",
        "    self.sex = sex\n",
        "\n",
        "areum = Human(\"아름\", 25, \"여자\")\n",
        "print(areum.name)"
      ],
      "metadata": {
        "colab": {
          "base_uri": "https://localhost:8080/"
        },
        "id": "CyLj5BOuQLxv",
        "outputId": "a6d27d1e-d78c-4f26-cde9-952297f3b993"
      },
      "execution_count": 3,
      "outputs": [
        {
          "output_type": "stream",
          "name": "stdout",
          "text": [
            "아름\n"
          ]
        }
      ]
    },
    {
      "cell_type": "code",
      "source": [
        "#256\n",
        "print(f\"이름: {areum.name}, 나이: {areum.age}, 성별: {areum.sex}\")"
      ],
      "metadata": {
        "colab": {
          "base_uri": "https://localhost:8080/"
        },
        "id": "uqQFBHMzQMIt",
        "outputId": "76b8104e-9d27-4bbe-a597-43159a8aa59e"
      },
      "execution_count": 4,
      "outputs": [
        {
          "output_type": "stream",
          "name": "stdout",
          "text": [
            "이름: 아름, 나이: 25, 성별: 여자\n"
          ]
        }
      ]
    },
    {
      "cell_type": "code",
      "source": [
        "#257\n",
        "class Human :\n",
        "  def __init__(self, name, age, sex):\n",
        "    self.name = name\n",
        "    self.age = age\n",
        "    self.sex = sex\n",
        "  \n",
        "  def who(self):\n",
        "    print(f\"이름: {self.name}, 나이: {self.age}, 성별: {self.sex}\")\n",
        "\n",
        "areum = Human(\"아름\", 25, \"여자\")\n",
        "areum.who()"
      ],
      "metadata": {
        "colab": {
          "base_uri": "https://localhost:8080/"
        },
        "id": "bxNcvlkWQMeM",
        "outputId": "5890bce6-fd72-47fb-a95b-1fc5d6b594b6"
      },
      "execution_count": 10,
      "outputs": [
        {
          "output_type": "stream",
          "name": "stdout",
          "text": [
            "이름: 아름, 나이: 25, 성별: 여자\n"
          ]
        }
      ]
    },
    {
      "cell_type": "code",
      "source": [
        "#258\n",
        "class Human :\n",
        "  def __init__(self, name, age, sex):\n",
        "    self.name = name\n",
        "    self.age = age\n",
        "    self.sex = sex\n",
        "\n",
        "  def setInfo(self, name, age, sex):\n",
        "    self.name = name\n",
        "    self.age = age\n",
        "    self.sex = sex\n",
        "\n",
        "areum = Human(\"모름\", 0, \"모름\")\n",
        "areum.setInfo(\"아름\", 25, \"여자\")\n",
        "\n",
        "areum.name"
      ],
      "metadata": {
        "colab": {
          "base_uri": "https://localhost:8080/",
          "height": 35
        },
        "id": "H8kt6bbmQM3N",
        "outputId": "8c7d3a1a-b92b-4e07-a675-086adc2439f2"
      },
      "execution_count": 8,
      "outputs": [
        {
          "output_type": "execute_result",
          "data": {
            "text/plain": [
              "'아름'"
            ],
            "application/vnd.google.colaboratory.intrinsic+json": {
              "type": "string"
            }
          },
          "metadata": {},
          "execution_count": 8
        }
      ]
    },
    {
      "cell_type": "code",
      "source": [
        "#259\n",
        "class Human :\n",
        "  def __init__(self, name, age, sex):\n",
        "    self.name = name\n",
        "    self.age = age\n",
        "    self.sex = sex\n",
        "    \n",
        "  def __del__(self) -> None:\n",
        "    print(\"나의 죽음을 알리지 말라\")\n",
        "\n",
        "\n",
        "areum = Human(\"아름\", 25, \"여자\")\n",
        "del areum"
      ],
      "metadata": {
        "colab": {
          "base_uri": "https://localhost:8080/"
        },
        "id": "hsXCaqK-QNUy",
        "outputId": "c2c9fbc9-3cb7-4456-e6bf-ef1b60d33ce4"
      },
      "execution_count": 15,
      "outputs": [
        {
          "output_type": "stream",
          "name": "stdout",
          "text": [
            "나의 죽음을 알리지 말라\n"
          ]
        }
      ]
    },
    {
      "cell_type": "code",
      "source": [
        "#260\n",
        "class OMG : \n",
        "    def print() :\n",
        "        print(\"Oh my god\")\n",
        "\n",
        "#함수 오버라이딩 문제 : 기본 함수를 덮어씀"
      ],
      "metadata": {
        "id": "GaRoqfqHQNyU"
      },
      "execution_count": 16,
      "outputs": []
    },
    {
      "cell_type": "code",
      "source": [
        "#261~265\n",
        "class Stock :\n",
        "  def __init__(self, name, code, per, pbr, rev) :\n",
        "    self.name = name\n",
        "    self.code = code\n",
        "\n",
        "  def set_name(self, name) :\n",
        "    self.name = name\n",
        "\n",
        "  def set_code(self, code) :\n",
        "    self.code = code\n",
        "\n",
        "  def get_name(self) :\n",
        "    return self.name\n",
        "\n",
        "  def get_code(self) :\n",
        "    return self.code"
      ],
      "metadata": {
        "id": "sDYNgNiOQQJJ"
      },
      "execution_count": 27,
      "outputs": []
    },
    {
      "cell_type": "code",
      "source": [
        "#262\n",
        "삼성 = Stock(\"삼성전자\", \"005930\")\n",
        "삼성.name"
      ],
      "metadata": {
        "colab": {
          "base_uri": "https://localhost:8080/",
          "height": 35
        },
        "id": "h99_4yPZQRBh",
        "outputId": "f11eb694-9604-48a3-ed03-d23d0b7de702"
      },
      "execution_count": 21,
      "outputs": [
        {
          "output_type": "execute_result",
          "data": {
            "text/plain": [
              "'삼성전자'"
            ],
            "application/vnd.google.colaboratory.intrinsic+json": {
              "type": "string"
            }
          },
          "metadata": {},
          "execution_count": 21
        }
      ]
    },
    {
      "cell_type": "code",
      "source": [
        "#263\n",
        "a = Stock(None, None)\n",
        "a.set_name(\"삼성전자\")\n",
        "\n",
        "a.name"
      ],
      "metadata": {
        "colab": {
          "base_uri": "https://localhost:8080/",
          "height": 35
        },
        "id": "EA4aSfYPQRjz",
        "outputId": "ddcbc0bc-4701-4135-8117-f9a616c4f738"
      },
      "execution_count": 24,
      "outputs": [
        {
          "output_type": "execute_result",
          "data": {
            "text/plain": [
              "'삼성전자'"
            ],
            "application/vnd.google.colaboratory.intrinsic+json": {
              "type": "string"
            }
          },
          "metadata": {},
          "execution_count": 24
        }
      ]
    },
    {
      "cell_type": "code",
      "source": [
        "#264\n",
        "a = Stock(None, None)\n",
        "a.set_code(\"005930\")\n",
        "\n",
        "a.code"
      ],
      "metadata": {
        "colab": {
          "base_uri": "https://localhost:8080/",
          "height": 35
        },
        "id": "WY7JBXFphrgl",
        "outputId": "949f0ee7-ff03-4055-d533-89880cd46776"
      },
      "execution_count": 25,
      "outputs": [
        {
          "output_type": "execute_result",
          "data": {
            "text/plain": [
              "'005930'"
            ],
            "application/vnd.google.colaboratory.intrinsic+json": {
              "type": "string"
            }
          },
          "metadata": {},
          "execution_count": 25
        }
      ]
    },
    {
      "cell_type": "code",
      "source": [
        "#265\n",
        "삼성 = Stock(\"삼성전자\", \"005930\")\n",
        "print(삼성.get_name(), 삼성.get_code())"
      ],
      "metadata": {
        "colab": {
          "base_uri": "https://localhost:8080/"
        },
        "id": "nlx7FhBgQSmP",
        "outputId": "28062d59-88c5-40b7-b5b3-e23f5792c680"
      },
      "execution_count": 26,
      "outputs": [
        {
          "output_type": "stream",
          "name": "stdout",
          "text": [
            "삼성전자 005930\n"
          ]
        }
      ]
    },
    {
      "cell_type": "code",
      "source": [
        "#266~270\n",
        "class Stock :\n",
        "  def __init__(self, name, code, per, pbr, div) :\n",
        "    self.name = name\n",
        "    self.code = code\n",
        "    self.per = per          #다른 언어에서는 타입마다 일일히 지정해야함 (SQL 등)\n",
        "    self.pbr = pbr\n",
        "    self.div = div\n",
        "\n",
        "  def set_name(self, name) :\n",
        "    self.name = name\n",
        "\n",
        "  def set_code(self, code) :\n",
        "    self.code = code\n",
        "\n",
        "  def set_per(self,per) :\n",
        "    self.per = per\n",
        "\n",
        "  def set_pbr(self,pbr) :\n",
        "    self.pbr = pbr\n",
        "\n",
        "  def set_div(self, div) :\n",
        "    self.div = div\n",
        "  \n",
        "  def get_name(self) :\n",
        "    return self.name\n",
        "\n",
        "  def get_code(self) :\n",
        "    return self.code\n",
        "\n",
        "  "
      ],
      "metadata": {
        "id": "J8yNHeUuQTGX"
      },
      "execution_count": 2,
      "outputs": []
    },
    {
      "cell_type": "code",
      "source": [
        "#267\n",
        "samsung = Stock(\"삼성전자\", \"005930\", 15.79, 1.33, 2.83)\n",
        "samsung"
      ],
      "metadata": {
        "colab": {
          "base_uri": "https://localhost:8080/"
        },
        "id": "-qyzmZdLQTfa",
        "outputId": "87acae1c-9dc3-4086-ed3a-28bc020ac8df"
      },
      "execution_count": 3,
      "outputs": [
        {
          "output_type": "execute_result",
          "data": {
            "text/plain": [
              "<__main__.Stock at 0x7f8239cfe150>"
            ]
          },
          "metadata": {},
          "execution_count": 3
        }
      ]
    },
    {
      "cell_type": "code",
      "source": [
        "#268\n",
        "samsung.set_div(200000000)\n",
        "samsung.div"
      ],
      "metadata": {
        "colab": {
          "base_uri": "https://localhost:8080/"
        },
        "id": "2oEqRNizQUbd",
        "outputId": "a6ed1762-1c95-43a9-a73f-2c6a0ef6f780"
      },
      "execution_count": 4,
      "outputs": [
        {
          "output_type": "execute_result",
          "data": {
            "text/plain": [
              "200000000"
            ]
          },
          "metadata": {},
          "execution_count": 4
        }
      ]
    },
    {
      "cell_type": "code",
      "source": [
        "#269\n",
        "samsung.set_per(12.75)\n",
        "samsung.per"
      ],
      "metadata": {
        "colab": {
          "base_uri": "https://localhost:8080/"
        },
        "id": "0Ufwzu03QU08",
        "outputId": "26d9dd7b-b424-45c7-86d8-ef686882508b"
      },
      "execution_count": 5,
      "outputs": [
        {
          "output_type": "execute_result",
          "data": {
            "text/plain": [
              "12.75"
            ]
          },
          "metadata": {},
          "execution_count": 5
        }
      ]
    },
    {
      "cell_type": "code",
      "source": [
        "#270\n",
        "stocks ={\"samsung\" : Stock(\"삼성전자\", \"005930\", 15.79, 1.33, 2.83),\n",
        "          \"hyundai\" : Stock(\"현대차\", \"005380\", 8.70, 0.35, 4.27),\n",
        "          \"LG\" : Stock(\"LG전자\", \"066570\", 317.34, 0.69, 1.37)}\n",
        "          \n",
        "for i in stocks : print(f\"{stocks[i].code}: {stocks[i].pbr}\")"
      ],
      "metadata": {
        "colab": {
          "base_uri": "https://localhost:8080/"
        },
        "id": "BfKVrP-bQVTZ",
        "outputId": "eb4ae42c-c92f-4334-f747-2f0c5a0300d1"
      },
      "execution_count": 16,
      "outputs": [
        {
          "output_type": "stream",
          "name": "stdout",
          "text": [
            "005930: 1.33\n",
            "005380: 0.35\n",
            "066570: 0.69\n"
          ]
        }
      ]
    },
    {
      "cell_type": "code",
      "source": [
        "#271\n",
        "import random\n",
        "\n",
        "class Account :\n",
        "  account_count = 0\n",
        "  \n",
        "  def __init__(self, own, bal) :\n",
        "    self.owner = own\n",
        "    self.balance = bal\n",
        "    self.bank_name = \"SC은행\"\n",
        "    rnum = str(random.randint(100000000000, 199999999999))  #14자리인 이유 = 첫자리엔 0이 올수 없어서\n",
        "    self.account_num = f\"{rnum[1:4]}-{rnum[4:6]}-{rnum[6:12]}\"\n",
        "    self.deposit_count = 0\n",
        "    self.deposit_log = []\n",
        "    self.withdraw_log = []\n",
        "\n",
        "    Account.account_count+=1  #self는 객체에만 저장됨\n",
        "\n",
        "  def get_account_num(self):\n",
        "    return self.account_num\n",
        "\n",
        "  def deposit(self, depo) :\n",
        "    if depo > 0 : \n",
        "      self.balance+=depo\n",
        "      self.deposit_count+=1\n",
        "      self.deposit_log.append(depo)\n",
        "      if self.deposit_count>4 : \n",
        "        self.balance=int(self.balance*1.1)\n",
        "        self.deposit_count-=5\n",
        "    else : return False\n",
        "\n",
        "  def withdraw(self, amount) : \n",
        "    if self.balance>=amount : \n",
        "      self.balance -= amount\n",
        "      self.withdraw_log.append(amount)\n",
        "      return amount\n",
        "    else : return False\n",
        "\n",
        "  def display_info(self) :\n",
        "    print(f\"은행 이름: {self.bank_name}\\n예금주: {self.owner}\\n계좌번호: {self.account_num}\\n잔고: {self.balance}\")\n",
        "\n",
        "  def deposit_history(self) :\n",
        "    return self.deposit_log\n",
        "  def withdraw_history(self) :\n",
        "    return self.withdraw_log"
      ],
      "metadata": {
        "id": "iEqBs4BnQWJX"
      },
      "execution_count": 65,
      "outputs": []
    },
    {
      "cell_type": "code",
      "source": [
        "#272\n",
        "a = Account(\"Mr. a\", 100000)\n",
        "b = Account(\"Mr. b\", 200000)\n",
        "Account.account_count"
      ],
      "metadata": {
        "colab": {
          "base_uri": "https://localhost:8080/"
        },
        "id": "afUbhlVBQWjD",
        "outputId": "c1f8aa39-82d4-4a17-a8c1-4c7490d4dd1a"
      },
      "execution_count": 56,
      "outputs": [
        {
          "output_type": "execute_result",
          "data": {
            "text/plain": [
              "2"
            ]
          },
          "metadata": {},
          "execution_count": 56
        }
      ]
    },
    {
      "cell_type": "code",
      "source": [
        "#273\n",
        "a.get_account_num()"
      ],
      "metadata": {
        "colab": {
          "base_uri": "https://localhost:8080/",
          "height": 35
        },
        "id": "bARJZSH9QW55",
        "outputId": "17c46e37-b88d-4c27-a04d-d4d8e5be7f4e"
      },
      "execution_count": 57,
      "outputs": [
        {
          "output_type": "execute_result",
          "data": {
            "text/plain": [
              "'068-79-485110'"
            ],
            "application/vnd.google.colaboratory.intrinsic+json": {
              "type": "string"
            }
          },
          "metadata": {},
          "execution_count": 57
        }
      ]
    },
    {
      "cell_type": "code",
      "source": [
        "#274\n",
        "a.deposit(0), a.deposit(10000), a.balance"
      ],
      "metadata": {
        "colab": {
          "base_uri": "https://localhost:8080/"
        },
        "id": "i0cEBUMfQXR7",
        "outputId": "ca79e0b1-096b-4b9f-b7d9-890e83ced394"
      },
      "execution_count": 58,
      "outputs": [
        {
          "output_type": "execute_result",
          "data": {
            "text/plain": [
              "(False, None, 110000)"
            ]
          },
          "metadata": {},
          "execution_count": 58
        }
      ]
    },
    {
      "cell_type": "code",
      "source": [
        "#275\n",
        "a.withdraw(50000)"
      ],
      "metadata": {
        "colab": {
          "base_uri": "https://localhost:8080/"
        },
        "id": "CPJtXGEhQX3B",
        "outputId": "33d04916-076d-4e41-aa9f-bc6e3f7b80f3"
      },
      "execution_count": 59,
      "outputs": [
        {
          "output_type": "execute_result",
          "data": {
            "text/plain": [
              "50000"
            ]
          },
          "metadata": {},
          "execution_count": 59
        }
      ]
    },
    {
      "cell_type": "code",
      "source": [
        "#276\n",
        "a.display_info()"
      ],
      "metadata": {
        "colab": {
          "base_uri": "https://localhost:8080/"
        },
        "id": "y6lGUMy7QYhm",
        "outputId": "65151baf-f558-461f-b5ec-e6d3b2b76fee"
      },
      "execution_count": 60,
      "outputs": [
        {
          "output_type": "stream",
          "name": "stdout",
          "text": [
            "은행 이름: SC은행\n",
            "예금주: Mr. a\n",
            "계좌번호: 068-79-485110\n",
            "잔고: 60000\n"
          ]
        }
      ]
    },
    {
      "cell_type": "code",
      "source": [
        "#277\n",
        "a.deposit(10), a.deposit(10), a.deposit(10), a.deposit(10), a.balance"
      ],
      "metadata": {
        "colab": {
          "base_uri": "https://localhost:8080/"
        },
        "id": "WSk8lc59QY8T",
        "outputId": "09d7e56f-436b-4ac7-e782-6c2c81d10452"
      },
      "execution_count": 61,
      "outputs": [
        {
          "output_type": "execute_result",
          "data": {
            "text/plain": [
              "(None, None, None, None, 66044)"
            ]
          },
          "metadata": {},
          "execution_count": 61
        }
      ]
    },
    {
      "cell_type": "code",
      "source": [
        "#278\n",
        "accounts = [Account(\"Kim\", 1000000),Account(\"Lee\", 200000), Account(\"Park\", 300000)]"
      ],
      "metadata": {
        "id": "g4YgIUrtQZeG"
      },
      "execution_count": 62,
      "outputs": []
    },
    {
      "cell_type": "code",
      "source": [
        "#279\n",
        "for ac in accounts :\n",
        "  if ac.balance>999999 : ac.display_info()"
      ],
      "metadata": {
        "colab": {
          "base_uri": "https://localhost:8080/"
        },
        "id": "KVfll4PIQZ2T",
        "outputId": "df46d420-3ff5-4c9a-e498-1a4bd2d54692"
      },
      "execution_count": 63,
      "outputs": [
        {
          "output_type": "stream",
          "name": "stdout",
          "text": [
            "은행 이름: SC은행\n",
            "예금주: Kim\n",
            "계좌번호: 334-18-175917\n",
            "잔고: 1000000\n"
          ]
        }
      ]
    },
    {
      "cell_type": "code",
      "source": [
        "#280\n",
        "k = Account(\"Kim\", 1000)\n",
        "k.deposit(100)\n",
        "k.deposit(200)\n",
        "k.deposit(300)\n",
        "print(k.deposit_history())\n",
        "\n",
        "k.withdraw(100)\n",
        "k.withdraw(200)\n",
        "print(k.withdraw_history())"
      ],
      "metadata": {
        "colab": {
          "base_uri": "https://localhost:8080/"
        },
        "id": "nchds1o9QalF",
        "outputId": "5d43ff02-150e-4c0f-e67d-51c0a96d59e0"
      },
      "execution_count": 67,
      "outputs": [
        {
          "output_type": "stream",
          "name": "stdout",
          "text": [
            "[100, 200, 300]\n",
            "[100, 200]\n"
          ]
        }
      ]
    },
    {
      "cell_type": "code",
      "source": [
        "#281\n",
        "class Car :\n",
        "  def __init__(self,w,p) :\n",
        "    self.wheel = w\n",
        "    self.price = p\n",
        "\n",
        "car = Car(2,1000)\n",
        "car.price, car.wheel"
      ],
      "metadata": {
        "colab": {
          "base_uri": "https://localhost:8080/"
        },
        "id": "z2_o_9m0QbSr",
        "outputId": "99ad60ce-ca8c-414e-9b82-cbaeab3fd268"
      },
      "execution_count": 69,
      "outputs": [
        {
          "output_type": "execute_result",
          "data": {
            "text/plain": [
              "(1000, 2)"
            ]
          },
          "metadata": {},
          "execution_count": 69
        }
      ]
    },
    {
      "cell_type": "code",
      "source": [
        "#282\n",
        "class Bicycle(Car) :\n",
        "  pass"
      ],
      "metadata": {
        "id": "aLvDk8OaQbvh"
      },
      "execution_count": 70,
      "outputs": []
    },
    {
      "cell_type": "code",
      "source": [
        "#283\n",
        "class Bicycle(Car) :\n",
        "  def __init__(self, w, p) :\n",
        "    super().__init__(w, p)\n",
        "bicycle = Bicycle(2,1000)\n",
        "bicycle.wheel"
      ],
      "metadata": {
        "colab": {
          "base_uri": "https://localhost:8080/"
        },
        "id": "ItjZmrpyQcMR",
        "outputId": "72396862-948c-412b-c3e5-1d3ccae3d97d"
      },
      "execution_count": 74,
      "outputs": [
        {
          "output_type": "execute_result",
          "data": {
            "text/plain": [
              "2"
            ]
          },
          "metadata": {},
          "execution_count": 74
        }
      ]
    },
    {
      "cell_type": "code",
      "source": [
        "#284\n",
        "class Bicycle(Car) :\n",
        "  def __init__(self, w, p, d) :\n",
        "    super().__init__(w, p)\n",
        "    self.drivetrain = d\n",
        "\n",
        "bicycle = Bicycle(2, 100, \"시마노\")\n",
        "bicycle.drivetrain"
      ],
      "metadata": {
        "colab": {
          "base_uri": "https://localhost:8080/",
          "height": 35
        },
        "id": "Nyo7FWazQcle",
        "outputId": "a25d2e91-4bdf-4fd1-d3c4-43c3c9113b14"
      },
      "execution_count": 75,
      "outputs": [
        {
          "output_type": "execute_result",
          "data": {
            "text/plain": [
              "'시마노'"
            ],
            "application/vnd.google.colaboratory.intrinsic+json": {
              "type": "string"
            }
          },
          "metadata": {},
          "execution_count": 75
        }
      ]
    },
    {
      "cell_type": "code",
      "source": [
        "#285\n",
        "class  Motercar(Car) :\n",
        "  def __init__(self, w, p) :\n",
        "    super().__init__(w, p)\n",
        "\n",
        "  def info(self) :\n",
        "    print(f\"바퀴수 {self.wheel}\\n가격 {self.price}\")\n",
        "\n",
        "car = Motercar(4, 1000)\n",
        "car.info()"
      ],
      "metadata": {
        "colab": {
          "base_uri": "https://localhost:8080/"
        },
        "id": "jDGt1r5-Qc-D",
        "outputId": "f6aca2ad-5900-4914-a1e8-f6e194cd888c"
      },
      "execution_count": 77,
      "outputs": [
        {
          "output_type": "stream",
          "name": "stdout",
          "text": [
            "바퀴수 4\n",
            "가격 1000\n"
          ]
        }
      ]
    },
    {
      "cell_type": "code",
      "source": [
        "#286\n",
        "class Car :\n",
        "  def __init__(self,w,p) :\n",
        "    self.wheel = w\n",
        "    self.price = p\n",
        "\n",
        "  def info(self) :\n",
        "    print(f\"바퀴수 {self.wheel}\\n가격 {self.price}\")\n",
        "\n",
        "class Bicycle(Car) :\n",
        "  def __init__(self, w, p, d) :\n",
        "    super().__init__(w, p)\n",
        "    self.drivetrain = d\n",
        "\n",
        "bicycle = Bicycle(2, 100, \"시마노\")\n",
        "bicycle.info()"
      ],
      "metadata": {
        "colab": {
          "base_uri": "https://localhost:8080/"
        },
        "id": "6aOE9DBrQdVR",
        "outputId": "94d17911-f210-4ce0-9d6f-b3ffbf3f4707"
      },
      "execution_count": 78,
      "outputs": [
        {
          "output_type": "stream",
          "name": "stdout",
          "text": [
            "바퀴수 2\n",
            "가격 100\n"
          ]
        }
      ]
    },
    {
      "cell_type": "code",
      "source": [
        "#287\n",
        "class Bicycle(Car) :\n",
        "  def __init__(self, w, p, d) :\n",
        "    super().__init__(w, p)\n",
        "    self.drivetrain = d\n",
        "  \n",
        "  def info(self) :\n",
        "    print(f\"바퀴수 {self.wheel}\\n가격 {self.price}\\n구동계 {self.drivetrain}\")\n",
        "\n",
        "bicycle = Bicycle(2, 100, \"시마노\")\n",
        "bicycle.info()"
      ],
      "metadata": {
        "colab": {
          "base_uri": "https://localhost:8080/"
        },
        "id": "SyZvf0uQQeou",
        "outputId": "ec7d4f12-ffcf-4151-f597-9669c7bae5b1"
      },
      "execution_count": 79,
      "outputs": [
        {
          "output_type": "stream",
          "name": "stdout",
          "text": [
            "바퀴수 2\n",
            "가격 100\n",
            "구동계 시마노\n"
          ]
        }
      ]
    },
    {
      "cell_type": "code",
      "source": [
        "#288\n",
        "class 부모:\n",
        "  def 호출(self):\n",
        "    print(\"부모호출\")\n",
        "\n",
        "class 자식(부모):\n",
        "  def 호출(self):         #상속받은 메소드가 덮어씌워짐(오버라이딩)\n",
        "    print(\"자식호출\")\n",
        "  \n",
        "나 = 자식()\n",
        "나.호출()                  #따라서 \"자식호출\""
      ],
      "metadata": {
        "colab": {
          "base_uri": "https://localhost:8080/"
        },
        "id": "MRs_aIOIQfQC",
        "outputId": "dfaf313c-ba6d-4ccf-880e-464e5aa4d319"
      },
      "execution_count": 80,
      "outputs": [
        {
          "output_type": "stream",
          "name": "stdout",
          "text": [
            "자식호출\n"
          ]
        }
      ]
    },
    {
      "cell_type": "code",
      "source": [
        "#289\n",
        "class 부모:\n",
        "  def __init__(self):\n",
        "    print(\"부모생성\")\n",
        "\n",
        "class 자식(부모):\n",
        "  def __init__(self):\n",
        "    print(\"자식생성\")\n",
        "\n",
        "나 = 자식()  #자식생성"
      ],
      "metadata": {
        "colab": {
          "base_uri": "https://localhost:8080/"
        },
        "id": "O38VEHXIQflU",
        "outputId": "5a1d37b5-5ce4-4deb-9b92-f0aefe0e6a37"
      },
      "execution_count": 81,
      "outputs": [
        {
          "output_type": "stream",
          "name": "stdout",
          "text": [
            "자식생성\n"
          ]
        }
      ]
    },
    {
      "cell_type": "code",
      "source": [
        "#290\n",
        "class 부모:\n",
        "  def __init__(self):\n",
        "    print(\"부모생성\")\n",
        "\n",
        "class 자식(부모):\n",
        "  def __init__(self):\n",
        "    print(\"자식생성\")\n",
        "    super().__init__()    #부모의 함수를 명시해서 호출했기에 \"자식생성\" \"부모생성\"\n",
        "\n",
        "  나 = 자식()"
      ],
      "metadata": {
        "colab": {
          "base_uri": "https://localhost:8080/"
        },
        "id": "I0DstFOkQf6B",
        "outputId": "6f257322-1b13-48aa-b441-71e1431416a7"
      },
      "execution_count": 83,
      "outputs": [
        {
          "output_type": "stream",
          "name": "stdout",
          "text": [
            "자식생성\n",
            "부모생성\n"
          ]
        }
      ]
    },
    {
      "cell_type": "code",
      "source": [
        "#291\n",
        "f = open(\"./test.txt\", \"w\", encoding = \"utf-8\")\n",
        "f.write(\"005930\\n005380\\n035420\")\n",
        "f.close()\n",
        "\n",
        "f = open(\"./test.txt\", \"r\", encoding = \"utf-8\")\n",
        "print(f.read())"
      ],
      "metadata": {
        "colab": {
          "base_uri": "https://localhost:8080/"
        },
        "id": "atwKn5OJQgmS",
        "outputId": "bbd90d86-aa16-4e12-fbaa-17fc2ba5d419"
      },
      "execution_count": 88,
      "outputs": [
        {
          "output_type": "stream",
          "name": "stdout",
          "text": [
            "005930\n",
            "005380\n",
            "035420\n"
          ]
        }
      ]
    },
    {
      "cell_type": "code",
      "source": [
        "#292\n",
        "with open(\"./purch_items.txt\", \"w\", encoding = \"utf=8\") as f :\n",
        "  f.write(\"005930 삼성전자\\n005380 현대차\\n035420 Naver\")\n",
        "\n",
        "with open(\"./purch_items.txt\", \"r\", encoding = \"utf-8\") as f:  #with:안을 독립적인 공간으로 만들어준다!\n",
        "  print(f.read())                                              #더 나은 설명 : with안에서 할당된 메모리는 with가 끝날 때 반환된다!\n"
      ],
      "metadata": {
        "colab": {
          "base_uri": "https://localhost:8080/"
        },
        "id": "MUjLeiWpQhUd",
        "outputId": "6d30124a-2e39-4587-d54e-a65a13f641e0"
      },
      "execution_count": 91,
      "outputs": [
        {
          "output_type": "stream",
          "name": "stdout",
          "text": [
            "005930 삼성전자\n",
            "005380 현대차\n",
            "035420 Naver\n"
          ]
        }
      ]
    },
    {
      "cell_type": "code",
      "source": [
        "#293\n",
        "import csv\n",
        "with open(\"./purch_items.csv\", \"w\", encoding = 'cp949', newline = '') as f : #newline default : \"\\n\"  \n",
        "  writer = csv.writer(f)\n",
        "  data = [[\"종목명\", \"종목코드\", \"PER\"], [\"삼성전자\", \"005930\", 15.79], [\"NAVER\", \"035420\", 55.82]]\n",
        "  #for row in data : \n",
        "  writer.writerows(data)\n",
        "\n",
        "with open(\"./purch_items.csv\", \"r\", encoding = 'cp949', newline = '') as f :\n",
        "  reader = csv.reader(f)\n",
        "  print(f.readlines())  #이래뵈도 csv엔 제대로 들어감"
      ],
      "metadata": {
        "colab": {
          "base_uri": "https://localhost:8080/"
        },
        "id": "zSZ7FDRLQh2y",
        "outputId": "c739a093-24eb-4477-a1a3-63abb878d3aa"
      },
      "execution_count": 93,
      "outputs": [
        {
          "output_type": "stream",
          "name": "stdout",
          "text": [
            "['종목명,종목코드,PER\\r\\n', '삼성전자,005930,15.79\\r\\n', 'NAVER,035420,55.82\\r\\n']\n"
          ]
        }
      ]
    },
    {
      "cell_type": "code",
      "source": [
        "#294\n",
        "with open(\"./test.txt\", \"r\", encoding = \"utf-8\") as f :\n",
        "  li = f.read()\n",
        "  print(li)"
      ],
      "metadata": {
        "colab": {
          "base_uri": "https://localhost:8080/"
        },
        "id": "7WZPvfiWQiMO",
        "outputId": "63de5f37-e6fb-4149-9559-696c4cb1db1d"
      },
      "execution_count": 94,
      "outputs": [
        {
          "output_type": "stream",
          "name": "stdout",
          "text": [
            "005930\n",
            "005380\n",
            "035420\n"
          ]
        }
      ]
    },
    {
      "cell_type": "code",
      "source": [
        "#295\n",
        "dct = {}\n",
        "with open(\"./purch_items.txt\", \"r\", encoding = \"utf-8\") as f: \n",
        "  for line in f.readlines() :\n",
        "    line = line.strip().split()\n",
        "    dct[line[0]] = line[1]  #변수를 아예 2개로 저장하는 게 더 깔끔할듯?\n",
        "\n",
        "dct"
      ],
      "metadata": {
        "colab": {
          "base_uri": "https://localhost:8080/"
        },
        "id": "0XgL9PUIQihf",
        "outputId": "6dea9847-0b85-4f2b-c298-f91b3eea08a7"
      },
      "execution_count": 96,
      "outputs": [
        {
          "output_type": "execute_result",
          "data": {
            "text/plain": [
              "{'005380': '현대차', '005930': '삼성전자', '035420': 'Naver'}"
            ]
          },
          "metadata": {},
          "execution_count": 96
        }
      ]
    },
    {
      "cell_type": "code",
      "source": [
        "#296\n",
        "per = [\"10.31\", \"\", \"8.00\"]\n",
        "\n",
        "for i in per:\n",
        "  try:\n",
        "    print(float(i))\n",
        "  except :\n",
        "    print(0)"
      ],
      "metadata": {
        "colab": {
          "base_uri": "https://localhost:8080/"
        },
        "id": "IfAzpdAvQjAl",
        "outputId": "4395c0c6-bdbb-49d1-cb49-6cbc18f60bc9"
      },
      "execution_count": 97,
      "outputs": [
        {
          "output_type": "stream",
          "name": "stdout",
          "text": [
            "10.31\n",
            "0\n",
            "8.0\n"
          ]
        }
      ]
    },
    {
      "cell_type": "code",
      "source": [
        "#297\n",
        "per = [\"10.31\", \"\", \"8.00\"]\n",
        "fli=[]\n",
        "for i in per:\n",
        "  try:\n",
        "    fli.append(float(i))\n",
        "  except:\n",
        "    fli.append(float(0))\n",
        "\n",
        "fli"
      ],
      "metadata": {
        "colab": {
          "base_uri": "https://localhost:8080/"
        },
        "id": "Bg5CaQ0UQjnt",
        "outputId": "9c3d8138-b442-43ca-df2d-f7254fddeee4"
      },
      "execution_count": 98,
      "outputs": [
        {
          "output_type": "execute_result",
          "data": {
            "text/plain": [
              "[10.31, 0.0, 8.0]"
            ]
          },
          "metadata": {},
          "execution_count": 98
        }
      ]
    },
    {
      "cell_type": "code",
      "source": [
        "#298\n",
        "try :\n",
        "  z = 3/0\n",
        "except ZeroDivisionError :\n",
        "  z = \"err\"\n",
        "\n",
        "print(z)"
      ],
      "metadata": {
        "colab": {
          "base_uri": "https://localhost:8080/"
        },
        "id": "8ZkQiSIwQkmb",
        "outputId": "1849373d-b793-49fc-8525-4333e7397ea2"
      },
      "execution_count": 99,
      "outputs": [
        {
          "output_type": "stream",
          "name": "stdout",
          "text": [
            "err\n"
          ]
        }
      ]
    },
    {
      "cell_type": "code",
      "source": [
        "#299\n",
        "data = [1, 2, 3]\n",
        "\n",
        "for i in range(5) :\n",
        "    try :\n",
        "      print(data[i])\n",
        "    except IndexError as e :\n",
        "      print(e)"
      ],
      "metadata": {
        "colab": {
          "base_uri": "https://localhost:8080/"
        },
        "id": "REJ_0fFZQlBf",
        "outputId": "dbb08a6c-90cb-49c7-baf9-e5ebd9c3e311"
      },
      "execution_count": 102,
      "outputs": [
        {
          "output_type": "stream",
          "name": "stdout",
          "text": [
            "1\n",
            "2\n",
            "3\n",
            "list index out of range\n",
            "list index out of range\n"
          ]
        }
      ]
    },
    {
      "cell_type": "code",
      "source": [
        "#300 #이제 문제도 귀찮아서 '적당한 코드'ㅋㅋㅋ\n",
        "per = [\"10.31\", \"\", \"8.00\", \"0\"]\n",
        "\n",
        "for i in per:\n",
        "  try:\n",
        "    print(float(i))\n",
        "  except:\n",
        "    print(float(0), \"\\nNull\")\n",
        "  else:\n",
        "    print(\"Not Null\")\n",
        "  finally:\n",
        "    print(\"task passed\")  "
      ],
      "metadata": {
        "colab": {
          "base_uri": "https://localhost:8080/"
        },
        "id": "Aso7jNIgQldu",
        "outputId": "7a52eacc-d9e2-4e83-9a7f-e6d7654e5d1c"
      },
      "execution_count": 105,
      "outputs": [
        {
          "output_type": "stream",
          "name": "stdout",
          "text": [
            "10.31\n",
            "Not Null\n",
            "task passed\n",
            "0.0 \n",
            "Null\n",
            "task passed\n",
            "8.0\n",
            "Not Null\n",
            "task passed\n",
            "0.0\n",
            "Not Null\n",
            "task passed\n"
          ]
        }
      ]
    }
  ]
}